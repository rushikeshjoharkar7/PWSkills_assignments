{
  "nbformat": 4,
  "nbformat_minor": 0,
  "metadata": {
    "colab": {
      "provenance": []
    },
    "kernelspec": {
      "name": "python3",
      "display_name": "Python 3"
    },
    "language_info": {
      "name": "python"
    }
  },
  "cells": [
    {
      "cell_type": "markdown",
      "source": [
        "**TOPIC: Python Basics Variable**"
      ],
      "metadata": {
        "id": "VozTbmY1Gz2u"
      }
    },
    {
      "cell_type": "markdown",
      "source": [
        "1. Declare two variables, x and y, and assign them integer values. Swap the values of these variables without using any temporary variable."
      ],
      "metadata": {
        "id": "ao3CQXN_T6s3"
      }
    },
    {
      "cell_type": "code",
      "source": [
        "#Declare two variables\n",
        "x = 2\n",
        "y = 4\n",
        "\n",
        "#Swapping values\n",
        "x,y = y,x\n",
        "\n",
        "#Print swapped values\n",
        "print(x,y)"
      ],
      "metadata": {
        "colab": {
          "base_uri": "https://localhost:8080/"
        },
        "id": "5rBmuVegT75G",
        "outputId": "7c14bc8e-581d-4298-e0de-6ad80de8b41f"
      },
      "execution_count": null,
      "outputs": [
        {
          "output_type": "stream",
          "name": "stdout",
          "text": [
            "4 2\n"
          ]
        }
      ]
    },
    {
      "cell_type": "code",
      "source": [],
      "metadata": {
        "id": "dNRAubnrUrWX"
      },
      "execution_count": null,
      "outputs": []
    },
    {
      "cell_type": "markdown",
      "source": [
        "2. Create a program that calculates the area of a rectangle. Take the\n",
        "length and width as inputs from the user and store them in variables.\n",
        "Calculate and display the area."
      ],
      "metadata": {
        "id": "CBQzJ3l8Tfde"
      }
    },
    {
      "cell_type": "code",
      "source": [
        "#Taking the length and width as inputs from the user and storing them in variables\n",
        "l = int(input(\"Length of reactangle: \"))\n",
        "w = int(input(\"Width of reactangle: \"))\n",
        "\n",
        "#Calculating and display the area\n",
        "area = l * w\n",
        "print(\"Area of reactangle= \",area)"
      ],
      "metadata": {
        "colab": {
          "base_uri": "https://localhost:8080/"
        },
        "id": "-t4-ktfjUFUe",
        "outputId": "0896b2a0-6d8a-4e12-efcf-187b8d0853df"
      },
      "execution_count": null,
      "outputs": [
        {
          "output_type": "stream",
          "name": "stdout",
          "text": [
            "Length of reactangle: 12\n",
            "Width of reactangle: 23\n",
            "Area of reactangle=  276\n"
          ]
        }
      ]
    },
    {
      "cell_type": "code",
      "source": [],
      "metadata": {
        "id": "sOjd58h6Us01"
      },
      "execution_count": null,
      "outputs": []
    },
    {
      "cell_type": "markdown",
      "source": [
        "3. Write a Python program that converts temperature from Celsius to Fahrenheit. Take the temperature in Celsius as input, store it in a variable, convert it to Fahrenheit, and display the result."
      ],
      "metadata": {
        "id": "XaCajLmGUQzt"
      }
    },
    {
      "cell_type": "code",
      "source": [
        "celsius = int(input(\"Enter the Temperature in Celsius : \"))\n",
        "fahrenheit = (1.8 * celsius) + 32\n",
        "print(\"Temperature in Fahrenheit :\", fahrenheit)"
      ],
      "metadata": {
        "colab": {
          "base_uri": "https://localhost:8080/"
        },
        "id": "W17N9UqcUXPz",
        "outputId": "c2ceac99-e048-40c5-f7de-5f6bd10aa64f"
      },
      "execution_count": null,
      "outputs": [
        {
          "output_type": "stream",
          "name": "stdout",
          "text": [
            "Enter the Temperature in Celsius : 34\n",
            "Temperature in Fahrenheit : 93.2\n"
          ]
        }
      ]
    },
    {
      "cell_type": "code",
      "source": [],
      "metadata": {
        "id": "XHH9HEHeUuK2"
      },
      "execution_count": null,
      "outputs": []
    },
    {
      "cell_type": "code",
      "source": [],
      "metadata": {
        "id": "j8eA7YoyUu-Z"
      },
      "execution_count": null,
      "outputs": []
    },
    {
      "cell_type": "markdown",
      "source": [
        "**TOPIC: String Based Questions**"
      ],
      "metadata": {
        "id": "yRy6HeJdUhX3"
      }
    },
    {
      "cell_type": "markdown",
      "source": [
        "1. Write a Python program that takes a string as input and prints the length of the string."
      ],
      "metadata": {
        "id": "fMa4TxwhUhkK"
      }
    },
    {
      "cell_type": "code",
      "source": [
        "#Taking string input from user\n",
        "st = input()\n",
        "print(\"Length of string: \",len(st))"
      ],
      "metadata": {
        "colab": {
          "base_uri": "https://localhost:8080/"
        },
        "id": "Yh7mPSehTgnb",
        "outputId": "943a4b5d-456b-4c58-ca82-0f9d8fba3876"
      },
      "execution_count": 9,
      "outputs": [
        {
          "output_type": "stream",
          "name": "stdout",
          "text": [
            "Rushikesh\n",
            "Length of string:  9\n"
          ]
        }
      ]
    },
    {
      "cell_type": "code",
      "source": [],
      "metadata": {
        "id": "FMTjbJpWVLlT"
      },
      "execution_count": null,
      "outputs": []
    },
    {
      "cell_type": "markdown",
      "source": [
        "2. Create a program that takes a sentence from the user and counts the\n",
        "number of vowels (a, e, i, o, u) in the string."
      ],
      "metadata": {
        "id": "KpirGMXOUwHx"
      }
    },
    {
      "cell_type": "code",
      "source": [
        "#Take input sentence from user\n",
        "str = input(\"Enter a sentence: \")\n",
        "\n",
        "#Creating variable containing al vowels\n",
        "vowels = \"aeiouAEIOU\"\n",
        "count = 0\n",
        "\n",
        "#loop to iterate all vowels in string\n",
        "for x in vowels:\n",
        "\n",
        "  if x in str:\n",
        "    count += 1\n",
        "\n",
        "#print count of vowels in string\n",
        "print(count)"
      ],
      "metadata": {
        "colab": {
          "base_uri": "https://localhost:8080/"
        },
        "id": "i3rAE5XEVKjY",
        "outputId": "ea434a5f-d92e-4113-c53b-bbdceb582266"
      },
      "execution_count": 31,
      "outputs": [
        {
          "output_type": "stream",
          "name": "stdout",
          "text": [
            "Enter a sentence: Rushikesh is from INDIA\n",
            "6\n"
          ]
        }
      ]
    },
    {
      "cell_type": "code",
      "source": [],
      "metadata": {
        "id": "BsaaK5xnZaGP"
      },
      "execution_count": null,
      "outputs": []
    },
    {
      "cell_type": "markdown",
      "source": [
        "3. Given a string, reverse the order of characters using string slicing and\n",
        "print the reversed string."
      ],
      "metadata": {
        "id": "c2Y2Z2GHbkVM"
      }
    },
    {
      "cell_type": "code",
      "source": [
        "#Give a string\n",
        "s = \"Rushikesh\"\n",
        "\n",
        "#Print a reverse of entered string\n",
        "print(s[::-1])"
      ],
      "metadata": {
        "colab": {
          "base_uri": "https://localhost:8080/"
        },
        "id": "MXKJnfJ2cHvf",
        "outputId": "7a1d7f92-86c0-4854-8e3c-fb027d22c7dc"
      },
      "execution_count": 32,
      "outputs": [
        {
          "output_type": "stream",
          "name": "stdout",
          "text": [
            "hsekihsuR\n"
          ]
        }
      ]
    },
    {
      "cell_type": "code",
      "source": [],
      "metadata": {
        "id": "R9H_4J1XcPfY"
      },
      "execution_count": null,
      "outputs": []
    },
    {
      "cell_type": "markdown",
      "source": [
        "4. Write a program that takes a string as input and checks if it is a\n",
        "palindrome (reads the same forwards and backwards)."
      ],
      "metadata": {
        "id": "73SA6_ZlcODZ"
      }
    },
    {
      "cell_type": "code",
      "source": [
        "#Take string input from user\n",
        "str = input(\"Enter a string: \")\n",
        "\n",
        "#Conditional statement to check string reads the same forwards and backwards\n",
        "if str == str[::-1]:\n",
        "  print(\"String is palindrome\")\n",
        "else:\n",
        "  print(\"String is not palindrome\")"
      ],
      "metadata": {
        "colab": {
          "base_uri": "https://localhost:8080/"
        },
        "id": "ek0WADDpcTcY",
        "outputId": "502b9044-54e5-44e8-8fa9-63e34ca7581d"
      },
      "execution_count": 36,
      "outputs": [
        {
          "output_type": "stream",
          "name": "stdout",
          "text": [
            "Enter a string: ASASA\n",
            "String is palindrome\n"
          ]
        }
      ]
    },
    {
      "cell_type": "code",
      "source": [],
      "metadata": {
        "id": "5aSbKMr1dxus"
      },
      "execution_count": null,
      "outputs": []
    },
    {
      "cell_type": "markdown",
      "source": [
        "5. Create a program that takes a string as input and removes all the\n",
        "spaces from it. Print the modified string without spaces."
      ],
      "metadata": {
        "id": "unkmhTNjdyPq"
      }
    },
    {
      "cell_type": "code",
      "source": [
        "string = input(\"Enter a string: \")\n",
        "\n",
        "print(string.replace(\" \",\"\"))"
      ],
      "metadata": {
        "colab": {
          "base_uri": "https://localhost:8080/"
        },
        "id": "tiUTgdBId1QK",
        "outputId": "925d76ed-50ea-4f35-8e39-b8d763e0c280"
      },
      "execution_count": 40,
      "outputs": [
        {
          "output_type": "stream",
          "name": "stdout",
          "text": [
            "Enter a string: Rushikesh Sadanand Joharkar is from INDIA\n",
            "RushikeshSadanandJoharkarisfromINDIA\n"
          ]
        }
      ]
    }
  ]
}