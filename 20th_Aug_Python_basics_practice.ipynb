{
  "nbformat": 4,
  "nbformat_minor": 0,
  "metadata": {
    "colab": {
      "provenance": [],
      "toc_visible": true
    },
    "kernelspec": {
      "name": "python3",
      "display_name": "Python 3"
    },
    "language_info": {
      "name": "python"
    }
  },
  "cells": [
    {
      "cell_type": "markdown",
      "source": [
        "#String Based Assignment Problem :\n"
      ],
      "metadata": {
        "id": "TLbWzdMMwQw5"
      }
    },
    {
      "cell_type": "markdown",
      "source": [
        "1. Write a program to reverse a string."
      ],
      "metadata": {
        "id": "-dOhX6vVRmq_"
      }
    },
    {
      "cell_type": "code",
      "source": [
        "# Assigning a random string to a variable\n",
        "s = \"Rushikesh\"\n",
        "\n",
        "# Printing a reverse of string with slicing method\n",
        "print(s[::-1])"
      ],
      "metadata": {
        "colab": {
          "base_uri": "https://localhost:8080/"
        },
        "id": "PoMQKWpaP1Yh",
        "outputId": "bd6c060b-598b-4408-d0de-5eb7f1427d11"
      },
      "execution_count": null,
      "outputs": [
        {
          "output_type": "stream",
          "name": "stdout",
          "text": [
            "hsekihsuR\n"
          ]
        }
      ]
    },
    {
      "cell_type": "code",
      "source": [],
      "metadata": {
        "id": "JLWKxGSDRsq2"
      },
      "execution_count": null,
      "outputs": []
    },
    {
      "cell_type": "markdown",
      "source": [
        "2. Check if a string is a palindrome."
      ],
      "metadata": {
        "id": "P5risZlNRvQT"
      }
    },
    {
      "cell_type": "code",
      "source": [
        "# Assign string to a variable\n",
        "s = \"Rushi\"\n",
        "\n",
        "#Conditional statement to check string reads the same forwards and backwards\n",
        "if s == s[::-1]:\n",
        "  print(\"String is palindrome\")\n",
        "else:\n",
        "  print(\"String is not palindrome\")"
      ],
      "metadata": {
        "colab": {
          "base_uri": "https://localhost:8080/"
        },
        "id": "sIFJ-XF7P6qi",
        "outputId": "db4efa4e-85c3-4750-be45-82d892ef1253"
      },
      "execution_count": null,
      "outputs": [
        {
          "output_type": "stream",
          "name": "stdout",
          "text": [
            "String is not palindrome\n"
          ]
        }
      ]
    },
    {
      "cell_type": "code",
      "source": [],
      "metadata": {
        "id": "54nCIeb2RykB"
      },
      "execution_count": null,
      "outputs": []
    },
    {
      "cell_type": "markdown",
      "source": [
        "3. Convert a string to uppercase."
      ],
      "metadata": {
        "id": "P_phmG8oRzv1"
      }
    },
    {
      "cell_type": "code",
      "source": [
        "# Assigning a random string to a variable\n",
        "s = \"Rushikesh\"\n",
        "\n",
        "# Printing a uppercase converted string\n",
        "print(s.upper())"
      ],
      "metadata": {
        "colab": {
          "base_uri": "https://localhost:8080/"
        },
        "id": "jqBxyayRP_nU",
        "outputId": "75b8b52a-aa83-4ddf-af8f-609fcaa52a3c"
      },
      "execution_count": null,
      "outputs": [
        {
          "output_type": "stream",
          "name": "stdout",
          "text": [
            "RUSHIKESH\n"
          ]
        }
      ]
    },
    {
      "cell_type": "code",
      "source": [],
      "metadata": {
        "id": "k9QOZI48R58s"
      },
      "execution_count": null,
      "outputs": []
    },
    {
      "cell_type": "markdown",
      "source": [
        "4. Convert a string to lowercase."
      ],
      "metadata": {
        "id": "gsYOtZ0MR6dO"
      }
    },
    {
      "cell_type": "code",
      "source": [
        "# Assigning a random string to a variable\n",
        "q = \"RUSHI\"\n",
        "\n",
        "# Printing a lowercase converted string\n",
        "print(q.lower())"
      ],
      "metadata": {
        "colab": {
          "base_uri": "https://localhost:8080/"
        },
        "id": "Btf2PboZQZUr",
        "outputId": "f2447fb8-5803-47d4-a924-d8a105bed1f1"
      },
      "execution_count": null,
      "outputs": [
        {
          "output_type": "stream",
          "name": "stdout",
          "text": [
            "rushi\n"
          ]
        }
      ]
    },
    {
      "cell_type": "code",
      "source": [],
      "metadata": {
        "id": "Gz5PeqIMSACP"
      },
      "execution_count": null,
      "outputs": []
    },
    {
      "cell_type": "markdown",
      "source": [
        "5. Count the number of vowels in a string."
      ],
      "metadata": {
        "id": "KU2WpvrqSAgV"
      }
    },
    {
      "cell_type": "code",
      "source": [
        "# Assigning a random string to a variable\n",
        "t = \"Physics Wallah Skills\"\n",
        "\n",
        "# Assigning all vowels to a variable\n",
        "vowels = \"aeiouAEIOU\"\n",
        "count = 0\n",
        "\n",
        "#loop to iterate all vowels in string\n",
        "for v in vowels:\n",
        "  if v in t:\n",
        "    count += 1\n",
        "\n",
        "#print count of vowels in string\n",
        "print(count)"
      ],
      "metadata": {
        "colab": {
          "base_uri": "https://localhost:8080/"
        },
        "id": "0Dh7miMOQcgF",
        "outputId": "7f9b8ec8-d58d-45a9-d1a2-a0d2154ddcba"
      },
      "execution_count": null,
      "outputs": [
        {
          "output_type": "stream",
          "name": "stdout",
          "text": [
            "2\n"
          ]
        }
      ]
    },
    {
      "cell_type": "code",
      "source": [],
      "metadata": {
        "id": "_o_4-ENWSFfZ"
      },
      "execution_count": null,
      "outputs": []
    },
    {
      "cell_type": "markdown",
      "source": [
        "6. Count the number of consonants in a string."
      ],
      "metadata": {
        "id": "aHKhdg6lSF6w"
      }
    },
    {
      "cell_type": "code",
      "source": [
        "# Assigning a random string to a \"str\" variable\n",
        "st = \"Physics Wallah Skills\"\n",
        "\n",
        "# Assigning all vowels to a variable\n",
        "vowels = \"aeiouAEIOU\"\n",
        "count = 0\n",
        "\n",
        "# loop to iterate all vowels in string to find consonant\n",
        "for v in vowels:\n",
        "  if v not in st:\n",
        "    count += 1\n",
        "\n",
        "# print number of consonants\n",
        "print(count)"
      ],
      "metadata": {
        "colab": {
          "base_uri": "https://localhost:8080/"
        },
        "id": "QfbDh24xQhJ1",
        "outputId": "8e489c1e-ca42-4e83-d5f4-8939ff981ec4"
      },
      "execution_count": null,
      "outputs": [
        {
          "output_type": "stream",
          "name": "stdout",
          "text": [
            "8\n"
          ]
        }
      ]
    },
    {
      "cell_type": "code",
      "source": [],
      "metadata": {
        "id": "PkhNojMlSKFI"
      },
      "execution_count": null,
      "outputs": []
    },
    {
      "cell_type": "markdown",
      "source": [
        "7. Remove all whitespaces from a string."
      ],
      "metadata": {
        "id": "TiKb9-1aSKw4"
      }
    },
    {
      "cell_type": "code",
      "source": [
        "# Assigning a random string to a \"str\" variable\n",
        "st = \"Physics Wallah Skills\"\n",
        "\n",
        "# removing all white spaces and printing updated string\n",
        "print(st.replace(\" \",\"\"))"
      ],
      "metadata": {
        "colab": {
          "base_uri": "https://localhost:8080/"
        },
        "id": "M3u_8jjoQj_b",
        "outputId": "16550c89-8432-4ea0-848f-38a8e110bc03"
      },
      "execution_count": null,
      "outputs": [
        {
          "output_type": "stream",
          "name": "stdout",
          "text": [
            "PhysicsWallahSkills\n"
          ]
        }
      ]
    },
    {
      "cell_type": "code",
      "source": [],
      "metadata": {
        "id": "td6TbyS1SQFm"
      },
      "execution_count": null,
      "outputs": []
    },
    {
      "cell_type": "markdown",
      "source": [
        "8. Find the length of a string without using the `len()` function."
      ],
      "metadata": {
        "id": "tBKucu5LSQuc"
      }
    },
    {
      "cell_type": "code",
      "source": [
        "# Assigning a random string to a \"str\" variable\n",
        "r = \"Physics Wallah Skills\"\n",
        "leng = 0\n",
        "\n",
        "# create a loop to count the lenth\n",
        "for x in r:\n",
        "  if x in r:\n",
        "    leng += 1\n",
        "\n",
        "# Printing the lenth of string\n",
        "print(leng)"
      ],
      "metadata": {
        "colab": {
          "base_uri": "https://localhost:8080/"
        },
        "id": "SIaRlRIgQqx7",
        "outputId": "7f56dac9-d5c9-4387-f346-35d7f25d4d3c"
      },
      "execution_count": null,
      "outputs": [
        {
          "output_type": "stream",
          "name": "stdout",
          "text": [
            "21\n"
          ]
        }
      ]
    },
    {
      "cell_type": "code",
      "source": [],
      "metadata": {
        "id": "ZGYGTv6DSV8w"
      },
      "execution_count": null,
      "outputs": []
    },
    {
      "cell_type": "markdown",
      "source": [
        "9. Check if a string contains a specific word."
      ],
      "metadata": {
        "id": "PkF-_98GSWlh"
      }
    },
    {
      "cell_type": "code",
      "source": [
        "# Assigning a random string to a \"str\" variable\n",
        "s = \"Physics Wallah Skills\"\n",
        "\n",
        "# checking if given string contains \"SKills\"\n",
        "check = s.find(\"Skills\")\n",
        "if check >= 0:\n",
        "  print(\"This string contains a word 'Skills'.\")\n",
        "else:\n",
        "    print(\"This string does not contain a word 'Skills'.\")"
      ],
      "metadata": {
        "colab": {
          "base_uri": "https://localhost:8080/"
        },
        "id": "w0NbPIbtQv0e",
        "outputId": "d82a99ba-1802-4603-b4b7-dbbbcf662900"
      },
      "execution_count": null,
      "outputs": [
        {
          "output_type": "stream",
          "name": "stdout",
          "text": [
            "This string contains a word 'Skills'.\n"
          ]
        }
      ]
    },
    {
      "cell_type": "code",
      "source": [],
      "metadata": {
        "id": "vGSSvrALSbW4"
      },
      "execution_count": null,
      "outputs": []
    },
    {
      "cell_type": "markdown",
      "source": [
        "10. Replace a word in a string with another word."
      ],
      "metadata": {
        "id": "l3_cri1NSbuE"
      }
    },
    {
      "cell_type": "code",
      "source": [
        "# Assigning a random string to a \"str\" variable\n",
        "s = \"Physics Wallah Skills\"\n",
        "\n",
        "# Replacing \"Wallah\" with \"Bharat\"\n",
        "print(s.replace(\"Wallah\",\"Bharat\"))"
      ],
      "metadata": {
        "colab": {
          "base_uri": "https://localhost:8080/"
        },
        "id": "FyJXj4YeQ2Ju",
        "outputId": "075b1df2-1252-461b-e942-b0ed21ec893f"
      },
      "execution_count": null,
      "outputs": [
        {
          "output_type": "stream",
          "name": "stdout",
          "text": [
            "Physics Bharat Skills\n"
          ]
        }
      ]
    },
    {
      "cell_type": "code",
      "source": [],
      "metadata": {
        "id": "3TnMuSi8Sg56"
      },
      "execution_count": null,
      "outputs": []
    },
    {
      "cell_type": "markdown",
      "source": [
        "11. Count the occurrences of a word in a string."
      ],
      "metadata": {
        "id": "TZ-STg-OShgK"
      }
    },
    {
      "cell_type": "code",
      "source": [
        "# Assigning a random string to a variable\n",
        "s = \"Jai shree Ram Jai Shree Ram Jai Shree Ram\"\n",
        "\n",
        "# printing count of word \"Jai\"\n",
        "print(s.count(\"Jai\"))"
      ],
      "metadata": {
        "colab": {
          "base_uri": "https://localhost:8080/"
        },
        "id": "zjHrzwtRQ6Wa",
        "outputId": "c8ab7fc6-50ae-4f21-ffe2-7871c9045ebe"
      },
      "execution_count": null,
      "outputs": [
        {
          "output_type": "stream",
          "name": "stdout",
          "text": [
            "3\n"
          ]
        }
      ]
    },
    {
      "cell_type": "code",
      "source": [],
      "metadata": {
        "id": "xAqWZ8VhSoYO"
      },
      "execution_count": null,
      "outputs": []
    },
    {
      "cell_type": "markdown",
      "source": [
        "12. Find the first occurrence of a word in a string."
      ],
      "metadata": {
        "id": "8dp-tWNVSow6"
      }
    },
    {
      "cell_type": "code",
      "source": [
        "# Assigning a random string to a variable\n",
        "st = \"Physics Wallah Skills of Skills for Skills\"\n",
        "\n",
        "# Finding index of first occurance of a word \"Skills\"\n",
        "print(\"word 'Skills' is at \"+ str(st.find(\"Skills\")) + \"th index\")\n",
        "\n",
        "# Another way to find index first occurance of same above word\n",
        "print(\"word 'Skills' is at \"+ str(st.index(\"Wallah\")) + \"th index\")"
      ],
      "metadata": {
        "colab": {
          "base_uri": "https://localhost:8080/"
        },
        "id": "1y228PFIQEA7",
        "outputId": "8b0b5148-9e4d-4ff6-f87a-dc591bfcf6a2"
      },
      "execution_count": null,
      "outputs": [
        {
          "output_type": "stream",
          "name": "stdout",
          "text": [
            "word 'Skills' is at 15th index\n",
            "word 'Skills' is at 8th index\n"
          ]
        }
      ]
    },
    {
      "cell_type": "code",
      "source": [],
      "metadata": {
        "id": "UZiE9l1NS-Ve"
      },
      "execution_count": null,
      "outputs": []
    },
    {
      "cell_type": "markdown",
      "source": [
        "13. Find the last occurrence of a word in a string."
      ],
      "metadata": {
        "id": "wLaYF7GtS-zv"
      }
    },
    {
      "cell_type": "code",
      "source": [
        "# Assigning a random string to a variable\n",
        "st = \"Physics Wallah Skills of Skills for Skills class\"\n",
        "\n",
        "# Finding index of last occurance of a word \"Skills\"\n",
        "print(\"word 'Skills' is at \"+ str(st.rfind(\"Skills\")) + \"th index\")\n",
        "\n",
        "# Another way to find index last occurance of same above word\n",
        "print(\"word 'Skills' is at \"+ str(st.rindex(\"Wallah\")) + \"th index\")"
      ],
      "metadata": {
        "colab": {
          "base_uri": "https://localhost:8080/"
        },
        "id": "apB0PyAVSumM",
        "outputId": "0f2a7c2c-49b6-4c34-821b-d22d06dfbb6c"
      },
      "execution_count": null,
      "outputs": [
        {
          "output_type": "stream",
          "name": "stdout",
          "text": [
            "word 'Skills' is at 36th index\n",
            "word 'Skills' is at 8th index\n"
          ]
        }
      ]
    },
    {
      "cell_type": "code",
      "source": [],
      "metadata": {
        "id": "YC_3UriKUXva"
      },
      "execution_count": null,
      "outputs": []
    },
    {
      "cell_type": "markdown",
      "source": [
        "14. Split a string into a list of words."
      ],
      "metadata": {
        "id": "-S5DVDy8UYNq"
      }
    },
    {
      "cell_type": "code",
      "source": [
        "# Assigning a random string to a variable\n",
        "st = \"Physics Wallah Skills of Skills for Skills class\"\n",
        "\n",
        "#splitting string into list\n",
        "print(st.split())"
      ],
      "metadata": {
        "id": "_PuJMslTVRkj"
      },
      "execution_count": null,
      "outputs": []
    },
    {
      "cell_type": "code",
      "source": [],
      "metadata": {
        "id": "9Tcr7TjpV2XH"
      },
      "execution_count": null,
      "outputs": []
    },
    {
      "cell_type": "markdown",
      "source": [
        "15. Join a list of words into a string."
      ],
      "metadata": {
        "id": "7a70uQ3hV28y"
      }
    },
    {
      "cell_type": "code",
      "source": [
        "# Assigning a random list to a variable\n",
        "st = ['Physics', 'Wallah', 'Skills', 'of', 'Skills', 'for', 'Skills', 'class']\n",
        "\n",
        "# print joined string\n",
        "print(\" \".join(st))"
      ],
      "metadata": {
        "id": "AUu_uSLMWaUc"
      },
      "execution_count": null,
      "outputs": []
    },
    {
      "cell_type": "code",
      "source": [],
      "metadata": {
        "id": "zCWII6wIXpkD"
      },
      "execution_count": null,
      "outputs": []
    },
    {
      "cell_type": "markdown",
      "source": [
        "16. Convert a string where words are separated by spaces to one where words\n",
        "are separated by underscores."
      ],
      "metadata": {
        "id": "Aa-DAi1xXqTV"
      }
    },
    {
      "cell_type": "code",
      "source": [
        "# Assigning a random string to a variable\n",
        "st = \"Physics Wallah Skills of Skills for Skills class\"\n",
        "\n",
        "# Printing a string which is converted from spaces with underscores\n",
        "print(st.replace(\" \",\"_\"))"
      ],
      "metadata": {
        "id": "9tMRvNm_ZR2P"
      },
      "execution_count": null,
      "outputs": []
    },
    {
      "cell_type": "code",
      "source": [],
      "metadata": {
        "id": "ZlZI0UbsZr-C"
      },
      "execution_count": null,
      "outputs": []
    },
    {
      "cell_type": "markdown",
      "source": [
        "17. Check if a string starts with a specific word or phrase."
      ],
      "metadata": {
        "id": "tFczcEzcZuaN"
      }
    },
    {
      "cell_type": "code",
      "source": [
        "# Assigning a random string to a variable\n",
        "st = \"Physics Wallah Skills of Skills for Skills class\"\n",
        "\n",
        "# Checking if a string starts with a specific word or phrase.\n",
        "if st.find(\"Physics\") == 0:\n",
        "  print('string starts witha \"Physics\"')\n",
        "elif st.find(\"Skills\") == 0:\n",
        "  print('string starts witha \"Skills\"')\n",
        "else:\n",
        "  print('string does not start witha above words')"
      ],
      "metadata": {
        "id": "VT8RRcC_aTvK"
      },
      "execution_count": null,
      "outputs": []
    },
    {
      "cell_type": "code",
      "source": [],
      "metadata": {
        "id": "ppn4wBMdbLeF"
      },
      "execution_count": null,
      "outputs": []
    },
    {
      "cell_type": "markdown",
      "source": [
        "18. Check if a string ends with a specific word or phrase."
      ],
      "metadata": {
        "id": "QoJkL3oAcr46"
      }
    },
    {
      "cell_type": "code",
      "source": [
        "# Assigning a random string to a variable\n",
        "st = \"Physics Wallah Skills of Skills for Skills class\"\n",
        "\n",
        "# Checking if a string starts with a specific word or phrase.\n",
        "if st.rfind(\"Physics\") == -1:\n",
        "  print('string ends witha \"Physics\"')\n",
        "elif st.rfind(\"Skills\") == -1:\n",
        "  print('string ends witha \"Skills\"')\n",
        "else:\n",
        "  print('string does not ends witha above words')"
      ],
      "metadata": {
        "id": "lsz1sVvGce_l"
      },
      "execution_count": null,
      "outputs": []
    },
    {
      "cell_type": "code",
      "source": [],
      "metadata": {
        "id": "ejbm3iDWdNcF"
      },
      "execution_count": null,
      "outputs": []
    },
    {
      "cell_type": "markdown",
      "source": [
        "19. Convert a string to title case (e.g., \"hello world\" to \"Hello World\")."
      ],
      "metadata": {
        "id": "6bHndWdEdN5K"
      }
    },
    {
      "cell_type": "code",
      "source": [
        "# Assigning a random string to a variable\n",
        "st = \"hello world\"\n",
        "\n",
        "# conb=verting given string into title case\n",
        "print(st.title())"
      ],
      "metadata": {
        "id": "ycanyFhmdU2D"
      },
      "execution_count": null,
      "outputs": []
    },
    {
      "cell_type": "code",
      "source": [],
      "metadata": {
        "id": "6ryoP2athCRa"
      },
      "execution_count": null,
      "outputs": []
    },
    {
      "cell_type": "markdown",
      "source": [
        "20. Find the longest word in a string."
      ],
      "metadata": {
        "id": "S8FsfCF7hC7W"
      }
    },
    {
      "cell_type": "code",
      "source": [
        "# Give a string\n",
        "str = \"Binary Study Python programming made easy\"\n",
        "word_list = str.split()\n",
        "\n",
        "# Find the longest word\n",
        "longest_word = max(word_list, key=len)\n",
        "print(longest_word)\n"
      ],
      "metadata": {
        "id": "5O1HapYlhM9H"
      },
      "execution_count": null,
      "outputs": []
    },
    {
      "cell_type": "code",
      "source": [],
      "metadata": {
        "id": "A9t5ecTqmW22"
      },
      "execution_count": null,
      "outputs": []
    },
    {
      "cell_type": "markdown",
      "source": [
        "21. Find the shortest word in a string."
      ],
      "metadata": {
        "id": "CLKayU6MmXTY"
      }
    },
    {
      "cell_type": "code",
      "source": [
        "str = \"Binary Study Python programming made easy\"\n",
        "y = str.split()\n",
        "\n",
        "print(min(y,key=len))"
      ],
      "metadata": {
        "id": "xhkiherljVBD"
      },
      "execution_count": null,
      "outputs": []
    },
    {
      "cell_type": "code",
      "source": [],
      "metadata": {
        "id": "FgHuiOihoY97"
      },
      "execution_count": null,
      "outputs": []
    },
    {
      "cell_type": "markdown",
      "source": [
        "22. Reverse the order of words in a string."
      ],
      "metadata": {
        "id": "2aFDqxCluiRY"
      }
    },
    {
      "cell_type": "code",
      "source": [
        "# Give a string\n",
        "str = \"Binary Study Python programming made easy\"\n",
        "\n",
        "#split string into list of words\n",
        "y = str.split()\n",
        "\n",
        "#reverse list\n",
        "y = y[::-1]\n",
        "\n",
        "# convert list into string\n",
        "print(\" \".join(y))"
      ],
      "metadata": {
        "id": "4byzg9Z1uhWP"
      },
      "execution_count": null,
      "outputs": []
    },
    {
      "cell_type": "code",
      "source": [],
      "metadata": {
        "id": "XUV-ZHqgvfhQ"
      },
      "execution_count": null,
      "outputs": []
    },
    {
      "cell_type": "markdown",
      "source": [
        "23. Check if a string is alphanumeric."
      ],
      "metadata": {
        "id": "SwfiznA2vf6k"
      }
    },
    {
      "cell_type": "code",
      "source": [
        "# Give a string\n",
        "str = \"Binary Study Python programming made easy\"\n",
        "\n",
        "print(str.isalnum())"
      ],
      "metadata": {
        "id": "RX8DXG2ivkcv"
      },
      "execution_count": null,
      "outputs": []
    },
    {
      "cell_type": "code",
      "source": [],
      "metadata": {
        "id": "IFENqvSDwcr3"
      },
      "execution_count": null,
      "outputs": []
    },
    {
      "cell_type": "markdown",
      "source": [
        "24. Extract all digits from a string."
      ],
      "metadata": {
        "id": "Iaavk486wdIp"
      }
    },
    {
      "cell_type": "code",
      "source": [
        "# Give a string\n",
        "str = \"Binary 3478 Study Py4q3thon progra435mming made easy\"\n",
        "\n",
        "#Create a empty list\n",
        "lst = []\n",
        "\n",
        "#accessing every letter from string\n",
        "for i in str:\n",
        "  if i.isnumeric():\n",
        "    lst.append(i)\n",
        "\n",
        "# print all extracted digits\n",
        "print(lst)\n",
        "\n"
      ],
      "metadata": {
        "id": "814_BLqrwhS7"
      },
      "execution_count": null,
      "outputs": []
    },
    {
      "cell_type": "code",
      "source": [],
      "metadata": {
        "id": "cDcoD77rlWcI"
      },
      "execution_count": null,
      "outputs": []
    },
    {
      "cell_type": "markdown",
      "source": [
        "25. Extract all alphabets from a string."
      ],
      "metadata": {
        "id": "r2gH9xpqlWw-"
      }
    },
    {
      "cell_type": "code",
      "source": [
        "# Give a string\n",
        "str = \"Binary 3478 Study Py4q3thon progra435mming made easy\"\n",
        "\n",
        "#Create a empty list\n",
        "lst = []\n",
        "\n",
        "#accessing every letter from string\n",
        "for i in str:\n",
        "  if i.isalpha():\n",
        "    lst.append(i)\n",
        "\n",
        "# print all extracted digits\n",
        "print(lst)"
      ],
      "metadata": {
        "id": "5FbmmO-Pl_x5"
      },
      "execution_count": null,
      "outputs": []
    },
    {
      "cell_type": "code",
      "source": [],
      "metadata": {
        "id": "Ak8qvAFjmHvO"
      },
      "execution_count": null,
      "outputs": []
    },
    {
      "cell_type": "markdown",
      "source": [
        "26. Count the number of uppercase letters in a string."
      ],
      "metadata": {
        "id": "SvYTAQAomIDO"
      }
    },
    {
      "cell_type": "code",
      "source": [
        "# Give a string\n",
        "str = \"Binary 3478 Study Py4q3thon Progra435mming made Easy\"\n",
        "\n",
        "#Initialize number of uppercase as a variable\n",
        "count = 0\n",
        "\n",
        "#accessing every letter from string\n",
        "for i in str:\n",
        "  if i.isupper():\n",
        "    count += 1\n",
        "\n",
        "# print count of number of uppercase letters in a given string\n",
        "print(count)"
      ],
      "metadata": {
        "id": "Cl49y6YSmNBr"
      },
      "execution_count": null,
      "outputs": []
    },
    {
      "cell_type": "code",
      "source": [],
      "metadata": {
        "id": "dsVV0JKlmpC2"
      },
      "execution_count": null,
      "outputs": []
    },
    {
      "cell_type": "markdown",
      "source": [
        "27. Count the number of lowercase letters in a string."
      ],
      "metadata": {
        "id": "ahAJDkJTmpVV"
      }
    },
    {
      "cell_type": "code",
      "source": [
        "# Give a string\n",
        "str = \"Binary 3478 Study Py4q3thon Progra435mming made Easy\"\n",
        "\n",
        "#Initialize number of uppercase as a variable\n",
        "count = 0\n",
        "\n",
        "#accessing every letter from string\n",
        "for i in str:\n",
        "  if i.islower():\n",
        "    count += 1\n",
        "\n",
        "# print count of number of uppercase letters in a given string\n",
        "print(count)"
      ],
      "metadata": {
        "id": "9nR9Um6Ymsw2"
      },
      "execution_count": null,
      "outputs": []
    },
    {
      "cell_type": "code",
      "source": [],
      "metadata": {
        "id": "SVdX6cE8mwpb"
      },
      "execution_count": null,
      "outputs": []
    },
    {
      "cell_type": "markdown",
      "source": [
        "28. Swap the case of each character in a string."
      ],
      "metadata": {
        "id": "iDexzuW2mxBF"
      }
    },
    {
      "cell_type": "code",
      "source": [
        "# Give a string\n",
        "str = \"Binary 3478 Study Py4q3thon Progra435mming made Easy\"\n",
        "\n",
        "new_str = []\n",
        "#accessing every letter from string\n",
        "for i in str:\n",
        "  if i.isupper():\n",
        "    i = i.lower()\n",
        "    new_str.append(i)\n",
        "  else:\n",
        "    i = i.upper()\n",
        "    new_str.append(i)\n",
        "\n",
        "\n",
        "print(\"Given String before swapping : \",str)\n",
        "print(\"String after swapping cases : \",\"\".join(new_str))\n"
      ],
      "metadata": {
        "id": "zkWUVLSZm0_Q"
      },
      "execution_count": null,
      "outputs": []
    },
    {
      "cell_type": "code",
      "source": [],
      "metadata": {
        "id": "JceP60xEpUok"
      },
      "execution_count": null,
      "outputs": []
    },
    {
      "cell_type": "markdown",
      "source": [
        "29. Remove a specific word from a string."
      ],
      "metadata": {
        "id": "cf-byvEupVIa"
      }
    },
    {
      "cell_type": "code",
      "source": [
        "# Give a string\n",
        "str = \"Binary 3478 Study Py4q3thon Progra435mming made Easy\"\n",
        "\n",
        "print(str.replace(\"Study\",\"\"))"
      ],
      "metadata": {
        "id": "XB_hmNAypZCh"
      },
      "execution_count": null,
      "outputs": []
    },
    {
      "cell_type": "code",
      "source": [],
      "metadata": {
        "id": "seAAH3aOqEQC"
      },
      "execution_count": null,
      "outputs": []
    },
    {
      "cell_type": "markdown",
      "source": [
        "30. Check if a string is a valid email address."
      ],
      "metadata": {
        "id": "wRRyD4CoqEmJ"
      }
    },
    {
      "cell_type": "code",
      "source": [
        "import re\n",
        "\n",
        "#assign a email id to a varibale\n",
        "s = \"popular_website15@comPany.com\"\n",
        "\n",
        "# assign all possible alphanums to a  variable\n",
        "pat = \"^[a-zA-Z0-9-_]+@[a-zA-Z0-9]+\\.[a-z]{1,3}$\"\n",
        "\n",
        "# Give a condition if all possible aplhanums are matching given email or not\n",
        "if re.match(pat,s):\n",
        "  print(True)\n",
        "else:\n",
        "  print(False)\n"
      ],
      "metadata": {
        "id": "jy39Z-d4qHYB"
      },
      "execution_count": null,
      "outputs": []
    },
    {
      "cell_type": "code",
      "source": [],
      "metadata": {
        "id": "L7yVN7_Bsp4V"
      },
      "execution_count": null,
      "outputs": []
    },
    {
      "cell_type": "markdown",
      "source": [
        "31. Extract the username from an email address string."
      ],
      "metadata": {
        "id": "0VJcBKlPsqMn"
      }
    },
    {
      "cell_type": "code",
      "source": [
        "# assign a email to variable\n",
        "id = \"rushikesh@gmail.com\"\n",
        "\n",
        "# slicing username from an email\n",
        "print(id[:id.index('@')])"
      ],
      "metadata": {
        "id": "nP1F8wgwtLI4"
      },
      "execution_count": null,
      "outputs": []
    },
    {
      "cell_type": "code",
      "source": [],
      "metadata": {
        "id": "YUzhsLJLwXM5"
      },
      "execution_count": null,
      "outputs": []
    },
    {
      "cell_type": "markdown",
      "source": [
        "32. Extract the domain name from an email address string."
      ],
      "metadata": {
        "id": "JC6M4jwEwX2Q"
      }
    },
    {
      "cell_type": "code",
      "source": [
        "# assign a email to variable\n",
        "id = \"rushikesh@gmail.com\"\n",
        "\n",
        "# slicing username from an email\n",
        "print(id[id.index('@')+1:])"
      ],
      "metadata": {
        "id": "YyugXUmDwa25"
      },
      "execution_count": null,
      "outputs": []
    },
    {
      "cell_type": "code",
      "source": [],
      "metadata": {
        "id": "-IsdRrjbwjUa"
      },
      "execution_count": null,
      "outputs": []
    },
    {
      "cell_type": "markdown",
      "source": [
        "33. Replace multiple spaces in a string with a single space."
      ],
      "metadata": {
        "id": "rGXeZNOwwjz7"
      }
    },
    {
      "cell_type": "code",
      "source": [
        "# Assign a string with multiple spaces\n",
        "str = \"reiugh ergerbn  gresg    ergbg  gegbeg ergrhgbjger   eurighbg rujh\"\n",
        "\n",
        "# Spliting into list\n",
        "lst = str.split()\n",
        "\n",
        "# Rejoin list into string\n",
        "print(\" \".join(lst))\n"
      ],
      "metadata": {
        "id": "VQcPx8J-wmhF"
      },
      "execution_count": null,
      "outputs": []
    },
    {
      "cell_type": "code",
      "source": [],
      "metadata": {
        "id": "8h4wXzk9y-Sq"
      },
      "execution_count": null,
      "outputs": []
    },
    {
      "cell_type": "markdown",
      "source": [
        "34. Check if a string is a valid URL.\n"
      ],
      "metadata": {
        "id": "kn5ckG6szeFY"
      }
    },
    {
      "cell_type": "code",
      "source": [
        "id = \"http:/www.google.com\"\n",
        "\n",
        "if id.startswith(\"http:/\" or \"https:/\"):\n",
        "  print(\"URL is Valid\")\n",
        "else:\n",
        "  print(\"URL is not valid\")\n"
      ],
      "metadata": {
        "id": "4zhZyl7wzgjY"
      },
      "execution_count": null,
      "outputs": []
    },
    {
      "cell_type": "code",
      "source": [],
      "metadata": {
        "id": "5vtoy1Px3c--"
      },
      "execution_count": null,
      "outputs": []
    },
    {
      "cell_type": "markdown",
      "source": [
        "35. Extract the protocol (http or https) from a URL string."
      ],
      "metadata": {
        "id": "Ggm3zBQt3dbe"
      }
    },
    {
      "cell_type": "code",
      "source": [
        "id = \"http:/www.google.com\"\n",
        "\n",
        "print(id[0:id.index(':')])"
      ],
      "metadata": {
        "id": "ZP_qGd1s3pNR"
      },
      "execution_count": null,
      "outputs": []
    },
    {
      "cell_type": "code",
      "source": [],
      "metadata": {
        "id": "poKsljKx4eUI"
      },
      "execution_count": null,
      "outputs": []
    },
    {
      "cell_type": "markdown",
      "source": [
        "36. Find the frequency of each character in a string."
      ],
      "metadata": {
        "id": "S7VHa2ha4e_F"
      }
    },
    {
      "cell_type": "code",
      "source": [
        "# Give a string\n",
        "str = \"Binary Study Python Programming made Easy\"\n",
        "\n",
        "dict = {}\n",
        "\n",
        "for i in str:\n",
        "  if i in dict:\n",
        "    dict[i] += 1\n",
        "  else:\n",
        "    dict[i] = 1\n",
        "\n",
        "print(dict)"
      ],
      "metadata": {
        "colab": {
          "base_uri": "https://localhost:8080/"
        },
        "id": "w_heUJGq4h17",
        "outputId": "16fac8c4-011c-4971-e9d1-e37cc3b255df"
      },
      "execution_count": null,
      "outputs": [
        {
          "output_type": "stream",
          "name": "stdout",
          "text": [
            "{'B': 1, 'i': 2, 'n': 3, 'a': 4, 'r': 3, 'y': 4, ' ': 5, 'S': 1, 't': 2, 'u': 1, 'd': 2, 'P': 2, 'h': 1, 'o': 2, 'g': 2, 'm': 3, 'e': 1, 'E': 1, 's': 1}\n"
          ]
        }
      ]
    },
    {
      "cell_type": "code",
      "source": [],
      "metadata": {
        "id": "t12zq9vp8Yq-"
      },
      "execution_count": null,
      "outputs": []
    },
    {
      "cell_type": "markdown",
      "source": [
        "37. Remove all punctuation from a string."
      ],
      "metadata": {
        "id": "FHrOpint8Y_h"
      }
    },
    {
      "cell_type": "code",
      "source": [
        "import string\n",
        "\n",
        "# Give a string\n",
        "str = \"Binary !#$%&'()*+, `{|}~Study Python Pro-./:;<=>?@[\\]^_ing made Easy\"\n",
        "\n",
        "for i in str:\n",
        "  if i in string.punctuation:\n",
        "\n",
        "    str = str.replace(i,\"\")\n",
        "\n",
        "\n",
        "print(str)\n",
        "\n"
      ],
      "metadata": {
        "colab": {
          "base_uri": "https://localhost:8080/"
        },
        "id": "bRyXaIhP8c4L",
        "outputId": "001d2059-df63-4f86-a7bc-e65246cdf72d"
      },
      "execution_count": null,
      "outputs": [
        {
          "output_type": "stream",
          "name": "stdout",
          "text": [
            "Binary  Study Python Proing made Easy\n"
          ]
        }
      ]
    },
    {
      "cell_type": "code",
      "source": [],
      "metadata": {
        "id": "KcLyLUbk_UuX"
      },
      "execution_count": null,
      "outputs": []
    },
    {
      "cell_type": "markdown",
      "source": [
        "38. Check if a string contains only digits."
      ],
      "metadata": {
        "id": "bOpcgBMF_VIH"
      }
    },
    {
      "cell_type": "code",
      "source": [
        "# Give a string\n",
        "str = \"bin23ary !#$%&'()*+, `{|}~Stu43dy Python Pro-./:;<=>?@[\\]^_ing 34made E4asy\"\n",
        "\n",
        "if str.isdigit():\n",
        "  print(\"string is of only digits\")\n",
        "else:\n",
        "  print(\"string is not having only digits\")\n",
        "\n",
        "\n"
      ],
      "metadata": {
        "colab": {
          "base_uri": "https://localhost:8080/"
        },
        "id": "_By06zu8_clu",
        "outputId": "d4bede54-2447-484d-9ed7-de53627d6cd2"
      },
      "execution_count": null,
      "outputs": [
        {
          "output_type": "stream",
          "name": "stdout",
          "text": [
            "string is of only digits\n"
          ]
        }
      ]
    },
    {
      "cell_type": "code",
      "source": [],
      "metadata": {
        "id": "cGb01zIyJJPm"
      },
      "execution_count": null,
      "outputs": []
    },
    {
      "cell_type": "markdown",
      "source": [
        "39. Check if a string contains only alphabets."
      ],
      "metadata": {
        "id": "K2E10xErNYu6"
      }
    },
    {
      "cell_type": "code",
      "source": [
        "# Give a string\n",
        "str = \"bin23ary !#$%&'()*+, `{|}~Stu43dy Python Pro-./:;<=>?@[\\]^_ing 34made E4asy\"\n",
        "\n",
        "if str.isalpha():\n",
        "  print(\"string is of only alphabets\")\n",
        "else:\n",
        "  print(\"string is not having only alphabets\")\n",
        "\n"
      ],
      "metadata": {
        "colab": {
          "base_uri": "https://localhost:8080/"
        },
        "id": "QviG6I5SNcYk",
        "outputId": "5bb42864-ddff-48a1-d2d4-c4bdb66a97fd"
      },
      "execution_count": null,
      "outputs": [
        {
          "output_type": "stream",
          "name": "stdout",
          "text": [
            "string is not having only alphabets\n"
          ]
        }
      ]
    },
    {
      "cell_type": "code",
      "source": [],
      "metadata": {
        "id": "Iv7hUzbBPlLt"
      },
      "execution_count": null,
      "outputs": []
    },
    {
      "cell_type": "markdown",
      "source": [
        "40. Convert a string to a list of characters."
      ],
      "metadata": {
        "id": "xPfCRD48Plng"
      }
    },
    {
      "cell_type": "code",
      "source": [
        "# Give a string\n",
        "str = \"bin23ary ing 34made E4asy\"\n",
        "\n",
        "lst = []\n",
        "for i in str:\n",
        "  lst.append(i)\n",
        "\n",
        "print(lst)\n"
      ],
      "metadata": {
        "colab": {
          "base_uri": "https://localhost:8080/"
        },
        "id": "iXypUYGdPpk0",
        "outputId": "9cdc7b76-263b-4db6-a30b-dddc97bd2a81"
      },
      "execution_count": null,
      "outputs": [
        {
          "output_type": "stream",
          "name": "stdout",
          "text": [
            "['b', 'i', 'n', '2', '3', 'a', 'r', 'y', ' ', 'i', 'n', 'g', ' ', '3', '4', 'm', 'a', 'd', 'e', ' ', 'E', '4', 'a', 's', 'y']\n"
          ]
        }
      ]
    },
    {
      "cell_type": "code",
      "source": [],
      "metadata": {
        "id": "wtTo4uQxPvjP"
      },
      "execution_count": null,
      "outputs": []
    },
    {
      "cell_type": "markdown",
      "source": [
        "41. Check if two strings are anagrams."
      ],
      "metadata": {
        "id": "7eHkBPIMRjW6"
      }
    },
    {
      "cell_type": "code",
      "source": [
        "# assign two strings to two different variables\n",
        "a = input(\"Enter first string: \")\n",
        "b = input(\"Enter second string: \")\n",
        "\n",
        "if sorted(a) == sorted(b):\n",
        "  print(\"Two strings are anagrams.\")\n",
        "else:\n",
        "  print(\"Two strings are not anagrams.\")"
      ],
      "metadata": {
        "colab": {
          "base_uri": "https://localhost:8080/"
        },
        "id": "MCpb8neaRlgu",
        "outputId": "6458f335-9b04-43e5-9ad5-99df9432eee4"
      },
      "execution_count": null,
      "outputs": [
        {
          "output_type": "stream",
          "name": "stdout",
          "text": [
            "Enter first string: silent\n",
            "Enter second string: listen\n",
            "Two strings are anagrams.\n"
          ]
        }
      ]
    },
    {
      "cell_type": "code",
      "source": [],
      "metadata": {
        "id": "U3M76INYoedH"
      },
      "execution_count": null,
      "outputs": []
    },
    {
      "cell_type": "markdown",
      "source": [
        "42. Encode a string using a Caesar cipher."
      ],
      "metadata": {
        "id": "jmfxHCJfouL4"
      }
    },
    {
      "cell_type": "code",
      "source": [
        "#A python program to illustrate Caesar Cipher Technique\n",
        "text = \"ATTACKATONCE\"\n",
        "s = 4\n",
        "result = \"\"\n",
        "\n",
        "# traverse text\n",
        "for i in range(len(text)):\n",
        "  char = text[i]\n",
        "\n",
        "  # Encrypt uppercase characters\n",
        "  if (char.isupper()):\n",
        "    result += chr((ord(char) + s-65) % 26 + 65)\n",
        "\n",
        "  # Encrypt lowercase characters\n",
        "  else:\n",
        "    result += chr((ord(char) + s - 97) % 26 + 97)\n",
        "\n",
        "print(result)"
      ],
      "metadata": {
        "colab": {
          "base_uri": "https://localhost:8080/"
        },
        "id": "6ZVx39AxpU_u",
        "outputId": "e343ce85-2415-4250-9c5f-c96e47d05b6e"
      },
      "execution_count": null,
      "outputs": [
        {
          "output_type": "stream",
          "name": "stdout",
          "text": [
            "EXXEGOEXSRGI\n"
          ]
        }
      ]
    },
    {
      "cell_type": "code",
      "source": [],
      "metadata": {
        "id": "TRklq7OiMNJR"
      },
      "execution_count": null,
      "outputs": []
    },
    {
      "cell_type": "markdown",
      "source": [
        "43. Decode a Caesar cipher encoded string."
      ],
      "metadata": {
        "id": "ilNZM3nWMNgI"
      }
    },
    {
      "cell_type": "code",
      "source": [
        "message = \"EXXEGOEXSRGI\"\n",
        "alpha = \"ABCDEFGHIJKLMNOPQRSTUVWXYZ\"\n",
        "result = \"\"\n",
        "\n",
        "for letter in message:\n",
        "    if letter in alpha: #if the letter is actually a letter\n",
        "        #find the corresponding ciphertext letter in the alphabet\n",
        "        letter_index = (alpha.find(letter) - 65) % len(alpha)\n",
        "\n",
        "        result = result + alpha[letter_index]\n",
        "    else:\n",
        "        result = result + letter\n",
        "\n",
        "print(result)"
      ],
      "metadata": {
        "colab": {
          "base_uri": "https://localhost:8080/"
        },
        "id": "caAiljXLMQwT",
        "outputId": "98b4bcd6-47ef-486b-cf39-8110863d51cc"
      },
      "execution_count": null,
      "outputs": [
        {
          "output_type": "stream",
          "name": "stdout",
          "text": [
            "RKKRTBRKFETV\n"
          ]
        }
      ]
    },
    {
      "cell_type": "code",
      "source": [],
      "metadata": {
        "id": "a075qTfLNko2"
      },
      "execution_count": null,
      "outputs": []
    },
    {
      "cell_type": "markdown",
      "source": [
        "44. Find the most frequent word in a string."
      ],
      "metadata": {
        "id": "xPnpYKGqNlIC"
      }
    },
    {
      "cell_type": "code",
      "source": [
        "# Assigning a string into a variable\n",
        "st = \"Jai shree ram Jai Jai shree ram Jai Jai shree ram\"\n",
        "\n",
        "# Splitting all words into list\n",
        "new_st = st.split()\n",
        "\n",
        "#creating a set of unique words from list\n",
        "unique_words = set(new_st)\n",
        "\n",
        "#creating a empty dictionary\n",
        "dict = {}\n",
        "\n",
        "#iterating all words\n",
        "for i in unique_words:\n",
        "\n",
        "  #appending key value pairs of each words and its frequency in dictionary\n",
        "  dict.update({i:new_st.count(i)})\n",
        "\n",
        "  # if value of specific value of a key in dictionary is same as max of value in dictionary\n",
        "  if dict[i]==max(dict.values()):\n",
        "    most_fre_word = i\n",
        "\n",
        "# Printing most frequent word\n",
        "print(most_fre_word)"
      ],
      "metadata": {
        "colab": {
          "base_uri": "https://localhost:8080/"
        },
        "id": "1mlfO9joNpCA",
        "outputId": "09abc986-c9bd-427b-dc4d-52f95e04486c"
      },
      "execution_count": null,
      "outputs": [
        {
          "output_type": "stream",
          "name": "stdout",
          "text": [
            "Jai\n"
          ]
        }
      ]
    },
    {
      "cell_type": "code",
      "source": [],
      "metadata": {
        "id": "tOryU89Pb3ez"
      },
      "execution_count": null,
      "outputs": []
    },
    {
      "cell_type": "markdown",
      "source": [
        "45. Find all unique words in a string."
      ],
      "metadata": {
        "id": "QFiYJdM1b35H"
      }
    },
    {
      "cell_type": "code",
      "source": [
        "# Assigning a string into a variable\n",
        "st = \"Jai shree ram Jai Jai shree ram Jai Jai shree ram\"\n",
        "\n",
        "# creating a list of all words\n",
        "lt = st.split()\n",
        "\n",
        "# Creating a set of unique words\n",
        "unique_words = set(lt)\n",
        "\n",
        "print(unique_words)"
      ],
      "metadata": {
        "colab": {
          "base_uri": "https://localhost:8080/"
        },
        "id": "QU8PvlS2cSnw",
        "outputId": "896bf26f-640a-49e1-c60e-38441b11e0a6"
      },
      "execution_count": null,
      "outputs": [
        {
          "output_type": "stream",
          "name": "stdout",
          "text": [
            "{'Jai', 'ram', 'shree'}\n"
          ]
        }
      ]
    },
    {
      "cell_type": "code",
      "source": [],
      "metadata": {
        "id": "ppkGHbsBcwln"
      },
      "execution_count": null,
      "outputs": []
    },
    {
      "cell_type": "markdown",
      "source": [
        "46. Count the number of syllables in a string."
      ],
      "metadata": {
        "id": "DzKJMtSYcw-2"
      }
    },
    {
      "cell_type": "code",
      "source": [
        "word = \"Rushikesh\"\n",
        "word = word.lower()\n",
        "count = 0\n",
        "vowels = \"aeiouy\"\n",
        "if word[0] in vowels:\n",
        "    count += 1\n",
        "for index in range(1, len(word)):\n",
        "    if word[index] in vowels and word[index - 1] not in vowels:\n",
        "        count += 1\n",
        "if word.endswith(\"e\"):\n",
        "    count -= 1\n",
        "if count == 0:\n",
        "    count += 1\n",
        "\n",
        "print(count)"
      ],
      "metadata": {
        "colab": {
          "base_uri": "https://localhost:8080/"
        },
        "id": "ZJevCPoac7sg",
        "outputId": "2c81af3f-4c0a-4076-fb30-783131b7ba63"
      },
      "execution_count": null,
      "outputs": [
        {
          "output_type": "stream",
          "name": "stdout",
          "text": [
            "3\n"
          ]
        }
      ]
    },
    {
      "cell_type": "code",
      "source": [],
      "metadata": {
        "id": "HnvbnLOwd8D4"
      },
      "execution_count": null,
      "outputs": []
    },
    {
      "cell_type": "markdown",
      "source": [
        "47. Check if a string contains any special characters."
      ],
      "metadata": {
        "id": "9mPxGfhad8gF"
      }
    },
    {
      "cell_type": "code",
      "source": [
        "# Assigning all special characters as a string in a variable\n",
        "str = \"@#$&%!~\"\n",
        "\n",
        "# Assigning a random string to a varibale\n",
        "var = \"Rushi@keshSadana&ndJo%harkar\"\n",
        "\n",
        "for i in str:\n",
        "  if i in var:\n",
        "    print(\"String contains special characters\")\n",
        "    break\n",
        "else:\n",
        "  print(\"String does not contain any special characters\")\n"
      ],
      "metadata": {
        "colab": {
          "base_uri": "https://localhost:8080/"
        },
        "id": "4QBM2K4-eBsW",
        "outputId": "c02d9ee8-31d4-449e-9170-e2ba5beb9a1d"
      },
      "execution_count": null,
      "outputs": [
        {
          "output_type": "stream",
          "name": "stdout",
          "text": [
            "String contains special characters\n"
          ]
        }
      ]
    },
    {
      "cell_type": "code",
      "source": [],
      "metadata": {
        "id": "wFrHl-mloMby"
      },
      "execution_count": null,
      "outputs": []
    },
    {
      "cell_type": "markdown",
      "source": [
        "48. Remove the nth word from a string."
      ],
      "metadata": {
        "id": "Owu7pRGjoMzb"
      }
    },
    {
      "cell_type": "code",
      "source": [
        "# Assigning a random string to a varibale\n",
        "var = \"Rushi@kesh Sadana&nd Jo%harkar\"\n",
        "\n",
        "n = int(input(\"Enter the index of which word you want to remove from string: \"))\n",
        "\n",
        "# Split string of words into list\n",
        "lt = var.split()\n",
        "\n",
        "# removing nth word from a string\n",
        "lt.remove(lt[n])\n",
        "\n",
        "# printing updated string\n",
        "print(lt)\n"
      ],
      "metadata": {
        "colab": {
          "base_uri": "https://localhost:8080/"
        },
        "id": "bZq0t5e_oVEq",
        "outputId": "b3463fd9-b015-40c3-e9a6-b0bcb3150007"
      },
      "execution_count": null,
      "outputs": [
        {
          "output_type": "stream",
          "name": "stdout",
          "text": [
            "Enter the index of which word you want to remove from string: 1\n",
            "['Rushi@kesh', 'Jo%harkar']\n"
          ]
        }
      ]
    },
    {
      "cell_type": "code",
      "source": [],
      "metadata": {
        "id": "V0xLyTmSoewz"
      },
      "execution_count": null,
      "outputs": []
    },
    {
      "cell_type": "markdown",
      "source": [
        "49. Insert a word at the nth position in a string."
      ],
      "metadata": {
        "id": "GAWjX3BKrE1h"
      }
    },
    {
      "cell_type": "code",
      "source": [
        "# Assigning a random string to a varibale\n",
        "var = \"Rushi@kesh Sadana&nd Jo%harkar\"\n",
        "\n",
        "w = input(\"enter a word: \")\n",
        "n = int(input(\"Enter the index where user want to insert a word in string: \"))\n",
        "\n",
        "# Split string of words into list\n",
        "lt = var.split()\n",
        "\n",
        "# inserting a word at nth index in a string\n",
        "lt.insert(n,w)\n",
        "\n",
        "# printing updated string\n",
        "print(lt)"
      ],
      "metadata": {
        "colab": {
          "base_uri": "https://localhost:8080/"
        },
        "id": "48g3vxLqrNyv",
        "outputId": "724b24a0-994a-4add-9dd7-657dbaaacfe8"
      },
      "execution_count": null,
      "outputs": [
        {
          "output_type": "stream",
          "name": "stdout",
          "text": [
            "enter a word: Shri\n",
            "Enter the index where user want to insert a word in string: 2\n",
            "['Rushi@kesh', 'Sadana&nd', 'Shri', 'Jo%harkar']\n"
          ]
        }
      ]
    },
    {
      "cell_type": "code",
      "source": [],
      "metadata": {
        "id": "jVslpcFRxG_M"
      },
      "execution_count": null,
      "outputs": []
    },
    {
      "cell_type": "markdown",
      "source": [
        "50. Convert a CSV string to a list of lists."
      ],
      "metadata": {
        "id": "0f-WxwVmxIR1"
      }
    },
    {
      "cell_type": "code",
      "source": [
        "import csv\n",
        "\n",
        "csv_string = \"'string, duppi, du', 23, lala\"\n",
        "\n",
        "lt = csv.reader(csv_string)\n",
        "\n",
        "lst = list(lt)\n",
        "\n",
        "print(lst)"
      ],
      "metadata": {
        "colab": {
          "base_uri": "https://localhost:8080/"
        },
        "id": "UkDLYmg0xObC",
        "outputId": "e04899ba-8ebb-429b-f85e-8abe0e4f4e2c"
      },
      "execution_count": null,
      "outputs": [
        {
          "output_type": "stream",
          "name": "stdout",
          "text": [
            "[[\"'\"], ['s'], ['t'], ['r'], ['i'], ['n'], ['g'], ['', ''], [' '], ['d'], ['u'], ['p'], ['p'], ['i'], ['', ''], [' '], ['d'], ['u'], [\"'\"], ['', ''], [' '], ['2'], ['3'], ['', ''], [' '], ['l'], ['a'], ['l'], ['a']]\n"
          ]
        }
      ]
    },
    {
      "cell_type": "markdown",
      "source": [],
      "metadata": {
        "id": "l36bvxfTxNWN"
      }
    },
    {
      "cell_type": "markdown",
      "source": [],
      "metadata": {
        "id": "qqA2y0_MrEt1"
      }
    },
    {
      "cell_type": "markdown",
      "source": [
        "# List Based Assignment Problem :"
      ],
      "metadata": {
        "id": "gAvXC6ue5ITS"
      }
    },
    {
      "cell_type": "markdown",
      "source": [
        "1. Create a list with integers from 1 to 10."
      ],
      "metadata": {
        "id": "CgHWumrB5kco"
      }
    },
    {
      "cell_type": "code",
      "source": [
        "lt = []\n",
        "for i in range(1,11):\n",
        "  lt.append(i)\n",
        "\n",
        "print(lt)\n"
      ],
      "metadata": {
        "colab": {
          "base_uri": "https://localhost:8080/"
        },
        "id": "t02rVrm250KC",
        "outputId": "1d3d2863-de5e-4f12-e400-96875f8d3146"
      },
      "execution_count": null,
      "outputs": [
        {
          "output_type": "stream",
          "name": "stdout",
          "text": [
            "[1, 2, 3, 4, 5, 6, 7, 8, 9, 10]\n"
          ]
        }
      ]
    },
    {
      "cell_type": "code",
      "source": [],
      "metadata": {
        "id": "z__Q99b56HNP"
      },
      "execution_count": null,
      "outputs": []
    },
    {
      "cell_type": "markdown",
      "source": [
        "2. Find the length of a list without using the `len()` function."
      ],
      "metadata": {
        "id": "aICzD8uM6Hm3"
      }
    },
    {
      "cell_type": "code",
      "source": [
        "l = [1, 2, 3, 4, 5, 6, 7, 8, 9, 10]\n",
        "\n",
        "count = 0\n",
        "\n",
        "for i in l:\n",
        "  count += 1\n",
        "\n",
        "print(count)"
      ],
      "metadata": {
        "colab": {
          "base_uri": "https://localhost:8080/"
        },
        "id": "-P7tkfwt6MIE",
        "outputId": "e7d44d10-04fc-4a0b-e044-09b2ee0ff821"
      },
      "execution_count": null,
      "outputs": [
        {
          "output_type": "stream",
          "name": "stdout",
          "text": [
            "10\n"
          ]
        }
      ]
    },
    {
      "cell_type": "code",
      "source": [],
      "metadata": {
        "id": "OF5V6IWD6deA"
      },
      "execution_count": null,
      "outputs": []
    },
    {
      "cell_type": "markdown",
      "source": [
        "3. Append an element to the end of a list."
      ],
      "metadata": {
        "id": "Rl_i9Lly5lTC"
      }
    },
    {
      "cell_type": "code",
      "source": [
        "l = [1, 2, 3, 4, 5, 6, 7, 8, 9, 10]\n",
        "\n",
        "l.append(34)\n",
        "\n",
        "print(l)"
      ],
      "metadata": {
        "colab": {
          "base_uri": "https://localhost:8080/"
        },
        "id": "kbQ4rnoF6k2x",
        "outputId": "69f4b54a-0535-43c5-dac2-736678f2156d"
      },
      "execution_count": null,
      "outputs": [
        {
          "output_type": "stream",
          "name": "stdout",
          "text": [
            "[1, 2, 3, 4, 5, 6, 7, 8, 9, 10, 34]\n"
          ]
        }
      ]
    },
    {
      "cell_type": "code",
      "source": [],
      "metadata": {
        "id": "RVB0F7OE5d8_"
      },
      "execution_count": null,
      "outputs": []
    },
    {
      "cell_type": "markdown",
      "source": [
        "4. Insert an element at a specific index in a list."
      ],
      "metadata": {
        "id": "WOWtes_J6urG"
      }
    },
    {
      "cell_type": "code",
      "source": [
        "l = [1, 2, 3, 4, 5, 6, 7, 8, 9, 10]\n",
        "\n",
        "#inserting a element \"rushi\" at 5th index\n",
        "l.insert(5,\"rushi\")\n",
        "\n",
        "print(l)"
      ],
      "metadata": {
        "colab": {
          "base_uri": "https://localhost:8080/"
        },
        "id": "eCvLHQrg6zDc",
        "outputId": "c8410a51-eac3-4df8-98b1-4752f02ff1de"
      },
      "execution_count": null,
      "outputs": [
        {
          "output_type": "stream",
          "name": "stdout",
          "text": [
            "[1, 2, 3, 4, 5, 'rushi', 6, 7, 8, 9, 10]\n"
          ]
        }
      ]
    },
    {
      "cell_type": "code",
      "source": [],
      "metadata": {
        "id": "Cr7agFU-7CG9"
      },
      "execution_count": null,
      "outputs": []
    },
    {
      "cell_type": "markdown",
      "source": [
        "5. Remove an element from a list by its value."
      ],
      "metadata": {
        "id": "G-IjjU4X7Cfw"
      }
    },
    {
      "cell_type": "code",
      "source": [
        "l = [1, 2, 3, 4, 5, 'rushi', 6, 7, 8, 9, 10]\n",
        "\n",
        "l.remove('rushi')\n",
        "\n",
        "print(l)"
      ],
      "metadata": {
        "colab": {
          "base_uri": "https://localhost:8080/"
        },
        "id": "OGAVA10W7MHe",
        "outputId": "d6f44d9b-8218-45bc-8c12-09d017e0e528"
      },
      "execution_count": null,
      "outputs": [
        {
          "output_type": "stream",
          "name": "stdout",
          "text": [
            "[1, 2, 3, 4, 5, 6, 7, 8, 9, 10]\n"
          ]
        }
      ]
    },
    {
      "cell_type": "code",
      "source": [],
      "metadata": {
        "id": "IKWNo88XF7yB"
      },
      "execution_count": null,
      "outputs": []
    },
    {
      "cell_type": "markdown",
      "source": [
        "6. Remove an element from a list by its index"
      ],
      "metadata": {
        "id": "qL1NEaCNF8Pn"
      }
    },
    {
      "cell_type": "code",
      "source": [
        "l = [1, 2, 3, 4, 5, 'rushi', 6, 7, 8, 9, 10]\n",
        "\n",
        "l.remove(l[2])\n",
        "\n",
        "print(l)"
      ],
      "metadata": {
        "colab": {
          "base_uri": "https://localhost:8080/"
        },
        "id": "7ZODLKJvF9Om",
        "outputId": "b3224537-f85e-459f-e676-562732b69852"
      },
      "execution_count": null,
      "outputs": [
        {
          "output_type": "stream",
          "name": "stdout",
          "text": [
            "[1, 2, 4, 5, 'rushi', 6, 7, 8, 9, 10]\n"
          ]
        }
      ]
    },
    {
      "cell_type": "code",
      "source": [],
      "metadata": {
        "id": "FWIp_RA6ECmi"
      },
      "execution_count": null,
      "outputs": []
    },
    {
      "cell_type": "markdown",
      "source": [
        "7. Check if an element exists in a list."
      ],
      "metadata": {
        "id": "n059mTYrGWqr"
      }
    },
    {
      "cell_type": "code",
      "source": [
        "l = [1, 2, 3, 4, 5, 'rushi', 6, 7, 8, 9, 10]\n",
        "\n",
        "t = 10\n",
        "\n",
        "if t in l:\n",
        "  print(\"An element\",t, \"exists in list\")\n",
        "else:\n",
        "  print(\"Doesn't exists\")"
      ],
      "metadata": {
        "colab": {
          "base_uri": "https://localhost:8080/"
        },
        "id": "YEcYQxV_GbhQ",
        "outputId": "407258a6-227f-4435-8cf2-10564f6ca209"
      },
      "execution_count": null,
      "outputs": [
        {
          "output_type": "stream",
          "name": "stdout",
          "text": [
            "An element 10 exists in list\n"
          ]
        }
      ]
    },
    {
      "cell_type": "code",
      "source": [],
      "metadata": {
        "id": "PCrdusFsGVeS"
      },
      "execution_count": null,
      "outputs": []
    },
    {
      "cell_type": "markdown",
      "source": [
        "8. Find the index of the first occurrence of an element in a list."
      ],
      "metadata": {
        "id": "PcaZqYi6G1D8"
      }
    },
    {
      "cell_type": "code",
      "source": [
        "l = [1, 2, 3, 4, 5, 'rushi', 6, 7,'rushi', 8, 9, 10]\n",
        "\n",
        "print(l.index('rushi'))"
      ],
      "metadata": {
        "colab": {
          "base_uri": "https://localhost:8080/"
        },
        "id": "pqB9EdAFG2Vk",
        "outputId": "d65dc9f9-d79b-4252-8a16-8734d6ebe0d7"
      },
      "execution_count": null,
      "outputs": [
        {
          "output_type": "stream",
          "name": "stdout",
          "text": [
            "5\n"
          ]
        }
      ]
    },
    {
      "cell_type": "code",
      "source": [],
      "metadata": {
        "id": "o7RS1KsdHEz6"
      },
      "execution_count": null,
      "outputs": []
    },
    {
      "cell_type": "markdown",
      "source": [
        "9. Count the occurrences of an element in a list."
      ],
      "metadata": {
        "id": "FYsSr2JRHFfM"
      }
    },
    {
      "cell_type": "code",
      "source": [
        "l = [1, 2, 3, 4, 5,'rushi', 6, 7,'rushi', 8, 9, 10]\n",
        "\n",
        "print(l.count(\"rushi\"))"
      ],
      "metadata": {
        "colab": {
          "base_uri": "https://localhost:8080/"
        },
        "id": "EU8wcxAsHJsQ",
        "outputId": "34575cd6-856f-40a9-a386-48b83833191b"
      },
      "execution_count": null,
      "outputs": [
        {
          "output_type": "stream",
          "name": "stdout",
          "text": [
            "2\n"
          ]
        }
      ]
    },
    {
      "cell_type": "code",
      "source": [],
      "metadata": {
        "id": "_b_9boWbHYqU"
      },
      "execution_count": null,
      "outputs": []
    },
    {
      "cell_type": "markdown",
      "source": [
        "10. Reverse the order of elements in a list."
      ],
      "metadata": {
        "id": "tiU0L3BCHZD8"
      }
    },
    {
      "cell_type": "code",
      "source": [
        "l = [1, 2, 3, 4, 5,'rushi', 6, 7,'rushi', 8, 9, 10]\n",
        "\n",
        "reverse_list = l[::-1]\n",
        "\n",
        "print(reverse_list)"
      ],
      "metadata": {
        "colab": {
          "base_uri": "https://localhost:8080/"
        },
        "id": "60CykehTHkAg",
        "outputId": "574c65b1-0224-4802-8d5b-3c07205a090a"
      },
      "execution_count": null,
      "outputs": [
        {
          "output_type": "stream",
          "name": "stdout",
          "text": [
            "[10, 9, 8, 'rushi', 7, 6, 'rushi', 5, 4, 3, 2, 1]\n"
          ]
        }
      ]
    },
    {
      "cell_type": "code",
      "source": [],
      "metadata": {
        "id": "ygNkhtwqHvKF"
      },
      "execution_count": null,
      "outputs": []
    },
    {
      "cell_type": "markdown",
      "source": [
        "11. Sort a list in ascending order."
      ],
      "metadata": {
        "id": "GICZbLfQHvoh"
      }
    },
    {
      "cell_type": "code",
      "source": [
        "l = [10, 9, 8, 7, 6, 5, 4, 3, 2, 1]\n",
        "l.sort()\n",
        "\n",
        "print(l)\n",
        "\n"
      ],
      "metadata": {
        "colab": {
          "base_uri": "https://localhost:8080/"
        },
        "id": "YfVKAJrOH0Kd",
        "outputId": "b9321823-d64d-4a3a-d160-7523f55efcc3"
      },
      "execution_count": null,
      "outputs": [
        {
          "output_type": "stream",
          "name": "stdout",
          "text": [
            "[1, 2, 3, 4, 5, 6, 7, 8, 9, 10]\n"
          ]
        }
      ]
    },
    {
      "cell_type": "code",
      "source": [],
      "metadata": {
        "id": "9J8Gt-8wIQtS"
      },
      "execution_count": null,
      "outputs": []
    },
    {
      "cell_type": "markdown",
      "source": [
        "12. Sort a list in descending order."
      ],
      "metadata": {
        "id": "LrCzbmzuIRPH"
      }
    },
    {
      "cell_type": "code",
      "source": [
        "from traitlets.config import T\n",
        "l = [1, 2, 3, 4, 5, 6, 7, 8, 9, 10]\n",
        "\n",
        "l.sort(reverse=True)\n",
        "\n",
        "print(l)"
      ],
      "metadata": {
        "colab": {
          "base_uri": "https://localhost:8080/"
        },
        "id": "4_1LFZmYIULx",
        "outputId": "0f229b33-fd85-4de3-d93a-9dcdd3ae86dc"
      },
      "execution_count": null,
      "outputs": [
        {
          "output_type": "stream",
          "name": "stdout",
          "text": [
            "[10, 9, 8, 7, 6, 5, 4, 3, 2, 1]\n"
          ]
        }
      ]
    },
    {
      "cell_type": "code",
      "source": [],
      "metadata": {
        "id": "3Jh3ts3wIxb0"
      },
      "execution_count": null,
      "outputs": []
    },
    {
      "cell_type": "markdown",
      "source": [
        "13. Create a list of even numbers from 1 to 20."
      ],
      "metadata": {
        "id": "9vHyWaEeIx0a"
      }
    },
    {
      "cell_type": "code",
      "source": [
        "lst = []\n",
        "\n",
        "for i in range(1,21):\n",
        "  if i%2 == 0:\n",
        "\n",
        "    lst.append(i)\n",
        "\n",
        "print(lst)"
      ],
      "metadata": {
        "colab": {
          "base_uri": "https://localhost:8080/"
        },
        "id": "E_N6wAU-I13C",
        "outputId": "bb0c828f-7969-4e93-b86e-1b391bfaee5f"
      },
      "execution_count": null,
      "outputs": [
        {
          "output_type": "stream",
          "name": "stdout",
          "text": [
            "[2, 4, 6, 8, 10, 12, 14, 16, 18, 20]\n"
          ]
        }
      ]
    },
    {
      "cell_type": "code",
      "source": [],
      "metadata": {
        "id": "TLAwW2vRJW-N"
      },
      "execution_count": null,
      "outputs": []
    },
    {
      "cell_type": "markdown",
      "source": [
        "14. Create a list of odd numbers from 1 to 20."
      ],
      "metadata": {
        "id": "vHH-zmVGJXpT"
      }
    },
    {
      "cell_type": "code",
      "source": [
        "lst = []\n",
        "\n",
        "for i in range(1,21):\n",
        "  if i%2 != 0:\n",
        "\n",
        "    lst.append(i)\n",
        "\n",
        "print(lst)"
      ],
      "metadata": {
        "colab": {
          "base_uri": "https://localhost:8080/"
        },
        "id": "h2oxExs4JbgF",
        "outputId": "759a57af-dd01-4f04-e7a7-40980bc77310"
      },
      "execution_count": null,
      "outputs": [
        {
          "output_type": "stream",
          "name": "stdout",
          "text": [
            "[1, 3, 5, 7, 9, 11, 13, 15, 17, 19]\n"
          ]
        }
      ]
    },
    {
      "cell_type": "code",
      "source": [],
      "metadata": {
        "id": "4uuarqMvJfqt"
      },
      "execution_count": null,
      "outputs": []
    },
    {
      "cell_type": "markdown",
      "source": [
        "15. Find the sum of all elements in a list."
      ],
      "metadata": {
        "id": "k0NM9hx3JgYY"
      }
    },
    {
      "cell_type": "code",
      "source": [
        "s = [2, 4, 6, 8, 10, 12, 14, 16, 18, 20]\n",
        "\n",
        "y = sum(s)\n",
        "\n",
        "print(y)"
      ],
      "metadata": {
        "colab": {
          "base_uri": "https://localhost:8080/"
        },
        "id": "162N5zWIJk9q",
        "outputId": "83073051-a5a7-4158-e5f0-9dc261e3038e"
      },
      "execution_count": null,
      "outputs": [
        {
          "output_type": "stream",
          "name": "stdout",
          "text": [
            "110\n"
          ]
        }
      ]
    },
    {
      "cell_type": "code",
      "source": [],
      "metadata": {
        "id": "4IfG2o0LJ7HR"
      },
      "execution_count": null,
      "outputs": []
    },
    {
      "cell_type": "markdown",
      "source": [
        "16. Find the maximum value in a list."
      ],
      "metadata": {
        "id": "fRPytR83J7qH"
      }
    },
    {
      "cell_type": "code",
      "source": [
        "s = [2, 4, 6, 8, 10, 12, 14, 16, 18, 20]\n",
        "\n",
        "print(max(s))"
      ],
      "metadata": {
        "colab": {
          "base_uri": "https://localhost:8080/"
        },
        "id": "N330kXwgJ_1q",
        "outputId": "7c4df17c-531a-4def-8e55-913baf2826cc"
      },
      "execution_count": null,
      "outputs": [
        {
          "output_type": "stream",
          "name": "stdout",
          "text": [
            "20\n"
          ]
        }
      ]
    },
    {
      "cell_type": "code",
      "source": [],
      "metadata": {
        "id": "QMK5iqbxKHA6"
      },
      "execution_count": null,
      "outputs": []
    },
    {
      "cell_type": "markdown",
      "source": [
        "17. Find the maximum value in a list."
      ],
      "metadata": {
        "id": "-cSOKrTMKHdP"
      }
    },
    {
      "cell_type": "code",
      "source": [
        "s = [2, 4, 6, 8, 10, 12, 14, 16, 18, 20]\n",
        "\n",
        "print(min(s))"
      ],
      "metadata": {
        "colab": {
          "base_uri": "https://localhost:8080/"
        },
        "id": "nfcVada0KNHH",
        "outputId": "92b9b56d-396c-44b4-b6e6-a7cb931c9349"
      },
      "execution_count": null,
      "outputs": [
        {
          "output_type": "stream",
          "name": "stdout",
          "text": [
            "2\n"
          ]
        }
      ]
    },
    {
      "cell_type": "code",
      "source": [],
      "metadata": {
        "id": "7KWRcIWrKP0C"
      },
      "execution_count": null,
      "outputs": []
    },
    {
      "cell_type": "markdown",
      "source": [
        "18. Create a list of squares of numbers from 1 to 10."
      ],
      "metadata": {
        "id": "mNtipunnKQvJ"
      }
    },
    {
      "cell_type": "code",
      "source": [
        "l = []\n",
        "\n",
        "for i in range(1,11):\n",
        "  l.append(i**2)\n",
        "\n",
        "print(l)"
      ],
      "metadata": {
        "colab": {
          "base_uri": "https://localhost:8080/"
        },
        "id": "pu0ZVeVDKUTi",
        "outputId": "ca158e0a-a20e-4f81-b3b5-8f974149185a"
      },
      "execution_count": null,
      "outputs": [
        {
          "output_type": "stream",
          "name": "stdout",
          "text": [
            "[1, 4, 9, 16, 25, 36, 49, 64, 81, 100]\n"
          ]
        }
      ]
    },
    {
      "cell_type": "code",
      "source": [],
      "metadata": {
        "id": "jRySoWO1KsB6"
      },
      "execution_count": null,
      "outputs": []
    },
    {
      "cell_type": "markdown",
      "source": [
        "19. Create a list of random numbers."
      ],
      "metadata": {
        "id": "etSJl3FaKsbW"
      }
    },
    {
      "cell_type": "code",
      "source": [
        "l = [1,324,25,12,1231,5345,4515,34,245,235,223,54]\n",
        "\n",
        "print(l)\n"
      ],
      "metadata": {
        "colab": {
          "base_uri": "https://localhost:8080/"
        },
        "id": "FSYi6MPSKuDA",
        "outputId": "ad5cb4b9-a610-4037-f772-e435a2fe2c5c"
      },
      "execution_count": null,
      "outputs": [
        {
          "output_type": "stream",
          "name": "stdout",
          "text": [
            "[1, 324, 25, 12, 1231, 5345, 4515, 34, 245, 235, 223, 54]\n"
          ]
        }
      ]
    },
    {
      "cell_type": "code",
      "source": [],
      "metadata": {
        "id": "vX5A_exOK81b"
      },
      "execution_count": null,
      "outputs": []
    },
    {
      "cell_type": "markdown",
      "source": [
        "20. Remove duplicates from a list"
      ],
      "metadata": {
        "id": "-n0740jVK9IB"
      }
    },
    {
      "cell_type": "code",
      "source": [
        "l = [1,4515,25,12,235,12,4515,1,25,235,1,54]\n",
        "\n",
        "new_l =[]\n",
        "\n",
        "for i in l:\n",
        "  if i not in new_l:\n",
        "    new_l.append(i)\n",
        "\n",
        "print(new_l)"
      ],
      "metadata": {
        "colab": {
          "base_uri": "https://localhost:8080/"
        },
        "id": "DzDEF2lELAB4",
        "outputId": "d4436cce-d378-4cbc-d228-502e129a8426"
      },
      "execution_count": null,
      "outputs": [
        {
          "output_type": "stream",
          "name": "stdout",
          "text": [
            "[1, 4515, 25, 12, 235, 54]\n"
          ]
        }
      ]
    },
    {
      "cell_type": "code",
      "source": [],
      "metadata": {
        "id": "2W3eBnGGLr4N"
      },
      "execution_count": null,
      "outputs": []
    },
    {
      "cell_type": "markdown",
      "source": [
        "21. Find the common elements between two lists."
      ],
      "metadata": {
        "id": "ZrIXvGUyLsQS"
      }
    },
    {
      "cell_type": "code",
      "source": [
        "l = [1,4515,25,12,235,12,4515,1,25,235,1,54]\n",
        "m = [1, 4515, 25, 12, 235, 54]\n",
        "\n",
        "l = set(l)\n",
        "m = set(m)\n",
        "\n",
        "for i in m:\n",
        "  if i in m:\n",
        "    print(i, end=\" \")\n"
      ],
      "metadata": {
        "colab": {
          "base_uri": "https://localhost:8080/"
        },
        "id": "IIMj2xfMLwlo",
        "outputId": "daa0b54f-af23-40b5-c81e-e2342760fdb3"
      },
      "execution_count": null,
      "outputs": [
        {
          "output_type": "stream",
          "name": "stdout",
          "text": [
            "1 4515 235 12 54 25 "
          ]
        }
      ]
    },
    {
      "cell_type": "code",
      "source": [],
      "metadata": {
        "id": "TOz8UwsyMiSr"
      },
      "execution_count": null,
      "outputs": []
    },
    {
      "cell_type": "markdown",
      "source": [
        "22. Find the difference between two lists."
      ],
      "metadata": {
        "id": "UHj6k4ORMi7J"
      }
    },
    {
      "cell_type": "code",
      "source": [
        "li1 = [10, 15, 20, 25, 30, 35, 40]\n",
        "li2 = [25, 40, 35]\n",
        "\n",
        "s = set(li2)\n",
        "temp3 = [x for x in li1 if x not in s]\n",
        "print(temp3)"
      ],
      "metadata": {
        "colab": {
          "base_uri": "https://localhost:8080/"
        },
        "id": "z8WHgu4fMnSx",
        "outputId": "98c001af-fa10-4971-df6d-99df6f39b3ad"
      },
      "execution_count": null,
      "outputs": [
        {
          "output_type": "stream",
          "name": "stdout",
          "text": [
            "[10, 15, 20, 30]\n"
          ]
        }
      ]
    },
    {
      "cell_type": "code",
      "source": [],
      "metadata": {
        "id": "ZVFq26cMNMOa"
      },
      "execution_count": null,
      "outputs": []
    },
    {
      "cell_type": "markdown",
      "source": [
        "23. Merge two lists."
      ],
      "metadata": {
        "id": "SixPhWMZNPfA"
      }
    },
    {
      "cell_type": "code",
      "source": [
        "li1 = [10, 15, 20, 25, 30, 35, 40]\n",
        "li2 = [25, 40, 35]\n",
        "\n",
        "l3 = li1 + li2\n",
        "\n",
        "print(l3)"
      ],
      "metadata": {
        "colab": {
          "base_uri": "https://localhost:8080/"
        },
        "id": "smWsGEMjNQWd",
        "outputId": "f67a5c52-9146-496d-bbc8-502e16bfa218"
      },
      "execution_count": null,
      "outputs": [
        {
          "output_type": "stream",
          "name": "stdout",
          "text": [
            "[10, 15, 20, 25, 30, 35, 40, 25, 40, 35]\n"
          ]
        }
      ]
    },
    {
      "cell_type": "code",
      "source": [],
      "metadata": {
        "id": "oAGaP4NtNXsh"
      },
      "execution_count": null,
      "outputs": []
    },
    {
      "cell_type": "markdown",
      "source": [
        "24. Multiply all elements in a list by 2."
      ],
      "metadata": {
        "id": "SYHNN99fNYSW"
      }
    },
    {
      "cell_type": "code",
      "source": [
        "l = [10, 15, 20, 25, 30, 35, 40, 25, 40, 35]\n",
        "\n",
        "l2 = [i*2 for i in l]\n",
        "\n",
        "print(l2)"
      ],
      "metadata": {
        "colab": {
          "base_uri": "https://localhost:8080/"
        },
        "id": "0Mf-k4RJNcaS",
        "outputId": "ea4c88b3-efe5-4afb-9519-ee619752d05c"
      },
      "execution_count": null,
      "outputs": [
        {
          "output_type": "stream",
          "name": "stdout",
          "text": [
            "[20, 30, 40, 50, 60, 70, 80, 50, 80, 70]\n"
          ]
        }
      ]
    },
    {
      "cell_type": "code",
      "source": [],
      "metadata": {
        "id": "IenoMDfaN2DG"
      },
      "execution_count": null,
      "outputs": []
    },
    {
      "cell_type": "markdown",
      "source": [
        "25. Filter out all even numbers from a list."
      ],
      "metadata": {
        "id": "70XwGPo8N2jP"
      }
    },
    {
      "cell_type": "code",
      "source": [
        "l = [10, 15, 20, 25, 30, 35, 40, 25, 40, 35]\n",
        "\n",
        "l2 = [x for x in l if x%2 == 0]\n",
        "\n",
        "print(l2)"
      ],
      "metadata": {
        "colab": {
          "base_uri": "https://localhost:8080/"
        },
        "id": "0DJAlrsIOCNl",
        "outputId": "e190c145-e93b-4424-9d94-988732e3231a"
      },
      "execution_count": null,
      "outputs": [
        {
          "output_type": "stream",
          "name": "stdout",
          "text": [
            "[10, 20, 30, 40, 40]\n"
          ]
        }
      ]
    },
    {
      "cell_type": "code",
      "source": [],
      "metadata": {
        "id": "Qy9bWTrXONBD"
      },
      "execution_count": null,
      "outputs": []
    },
    {
      "cell_type": "markdown",
      "source": [
        "26. Convert a list of strings to a list of integers."
      ],
      "metadata": {
        "id": "9wsG5suUONs2"
      }
    },
    {
      "cell_type": "code",
      "source": [
        "test_list = ['1', '4', '3', '6', '7']\n",
        "\n",
        "# using loop\n",
        "for i in range(0, len(test_list)):\n",
        "\ttest_list[i] = int(test_list[i])\n",
        "\n",
        "# Printing modified list\n",
        "print(\"Modified list is : \" + str(test_list))"
      ],
      "metadata": {
        "colab": {
          "base_uri": "https://localhost:8080/"
        },
        "id": "69GX0bubORjL",
        "outputId": "7eb55f62-bff5-4390-8db4-6a1cbaa3cf2b"
      },
      "execution_count": null,
      "outputs": [
        {
          "output_type": "stream",
          "name": "stdout",
          "text": [
            "Modified list is : [1, 4, 3, 6, 7]\n"
          ]
        }
      ]
    },
    {
      "cell_type": "code",
      "source": [],
      "metadata": {
        "id": "Upmog5ZdPdTN"
      },
      "execution_count": null,
      "outputs": []
    },
    {
      "cell_type": "markdown",
      "source": [
        "27. Convert a list of integers to a list of strings."
      ],
      "metadata": {
        "id": "GlBYIKMLPdyo"
      }
    },
    {
      "cell_type": "code",
      "source": [
        "test_list = [1, 4, 3, 6, 7]\n",
        "\n",
        "# using loop\n",
        "for i in range(0, len(test_list)):\n",
        "\ttest_list[i] = str(test_list[i])\n",
        "\n",
        "# Printing modified list\n",
        "print(\"Modified list is : \" + str(test_list))"
      ],
      "metadata": {
        "colab": {
          "base_uri": "https://localhost:8080/"
        },
        "id": "PPOYYveHPiHY",
        "outputId": "0c9203d8-d5f8-4a22-b58a-b01c83d8e0a2"
      },
      "execution_count": null,
      "outputs": [
        {
          "output_type": "stream",
          "name": "stdout",
          "text": [
            "Modified list is : ['1', '4', '3', '6', '7']\n"
          ]
        }
      ]
    },
    {
      "cell_type": "code",
      "source": [],
      "metadata": {
        "id": "HVhLpo8hPwCX"
      },
      "execution_count": null,
      "outputs": []
    },
    {
      "cell_type": "markdown",
      "source": [
        "28. Flatten a nested list."
      ],
      "metadata": {
        "id": "x5P5WNjuPxyF"
      }
    },
    {
      "cell_type": "code",
      "source": [
        "matrix = [\n",
        "     [9, 3, 8, 3],\n",
        "     [4, 5, 2, 8],\n",
        "     [6, 4, 3, 1],\n",
        "     [1, 0, 4, 5]]\n",
        "\n",
        "flat_list = []\n",
        "\n",
        "for row in matrix:\n",
        "  flat_list.extend(row)\n",
        "print(flat_list)"
      ],
      "metadata": {
        "colab": {
          "base_uri": "https://localhost:8080/"
        },
        "id": "g5UwFUt6Pywp",
        "outputId": "3e8aac27-67a8-48aa-e8f8-b797fcc62128"
      },
      "execution_count": null,
      "outputs": [
        {
          "output_type": "stream",
          "name": "stdout",
          "text": [
            "[9, 3, 8, 3, 4, 5, 2, 8, 6, 4, 3, 1, 1, 0, 4, 5]\n"
          ]
        }
      ]
    },
    {
      "cell_type": "code",
      "source": [],
      "metadata": {
        "id": "L4KpjZFGQtZK"
      },
      "execution_count": null,
      "outputs": []
    },
    {
      "cell_type": "markdown",
      "source": [
        "29. Create a list of the first 10 Fibonacci numbers."
      ],
      "metadata": {
        "id": "g1EL4rkqQtvR"
      }
    },
    {
      "cell_type": "code",
      "source": [
        "n = 10\n",
        "num1 = 0\n",
        "num2 = 1\n",
        "next_number = num2\n",
        "count = 1\n",
        "l = []\n",
        "while count <= n:\n",
        "\tl.append(next_number)\n",
        "\tcount += 1\n",
        "\tnum1, num2 = num2, next_number\n",
        "\tnext_number = num1 + num2\n",
        "print(l)"
      ],
      "metadata": {
        "colab": {
          "base_uri": "https://localhost:8080/"
        },
        "id": "IDnQEGlhQxIS",
        "outputId": "4b9d7adc-19f7-42d4-f45a-b89fc1b6891c"
      },
      "execution_count": null,
      "outputs": [
        {
          "output_type": "stream",
          "name": "stdout",
          "text": [
            "[1, 2, 3, 5, 8, 13, 21, 34, 55, 89]\n"
          ]
        }
      ]
    },
    {
      "cell_type": "code",
      "source": [],
      "metadata": {
        "id": "wWEH2Up9aJPb"
      },
      "execution_count": null,
      "outputs": []
    },
    {
      "cell_type": "markdown",
      "source": [
        "30. Check if a list is sorted."
      ],
      "metadata": {
        "id": "CGSA7iXsaJ4-"
      }
    },
    {
      "cell_type": "code",
      "source": [
        "# random list\n",
        "lt = [1, 2, 3, 5, 8, 13, 21, 34,2, 12,55, 89]\n",
        "\n",
        "# sorted list of given list\n",
        "lt2 = [1, 2, 2, 3, 5, 8, 12, 13, 21, 34, 55, 89]\n",
        "\n",
        "\n",
        "count = 0\n",
        "for i in range(0,len(lt)):\n",
        "\n",
        "  if lt[i] == lt2[i]:\n",
        "    count += 1\n",
        "else:\n",
        "  print(\"list is not sorted\")\n",
        "\n",
        "if count == len(lt):\n",
        "  print(\"list is sorted\")"
      ],
      "metadata": {
        "colab": {
          "base_uri": "https://localhost:8080/"
        },
        "id": "tIEjrvsVaRmn",
        "outputId": "2ce21c39-4a8d-4e31-eb87-de398a082237"
      },
      "execution_count": null,
      "outputs": [
        {
          "output_type": "stream",
          "name": "stdout",
          "text": [
            "list is not sorted\n"
          ]
        }
      ]
    },
    {
      "cell_type": "code",
      "source": [],
      "metadata": {
        "id": "Q-_5JyiGi509"
      },
      "execution_count": null,
      "outputs": []
    },
    {
      "cell_type": "markdown",
      "source": [
        "31. Rotate a list to the left by `n` positions."
      ],
      "metadata": {
        "id": "MrN_iKlEi6Ny"
      }
    },
    {
      "cell_type": "code",
      "source": [
        "# random list\n",
        "lt = [1, 2, 3, 5, 8, 13, 21, 34,2, 12,55, 89]\n",
        "\n",
        "#rotate list left by 3\n",
        "lt2 = lt[3:] + lt[:3]\n",
        "\n",
        "print(lt2)"
      ],
      "metadata": {
        "colab": {
          "base_uri": "https://localhost:8080/"
        },
        "id": "QaPQqwywjQa7",
        "outputId": "6a5b2300-d325-4853-b078-cd5bf33421ee"
      },
      "execution_count": null,
      "outputs": [
        {
          "output_type": "stream",
          "name": "stdout",
          "text": [
            "[5, 8, 13, 21, 34, 2, 12, 55, 89, 1, 2, 3]\n"
          ]
        }
      ]
    },
    {
      "cell_type": "code",
      "source": [],
      "metadata": {
        "id": "Vwm5gubHknRm"
      },
      "execution_count": null,
      "outputs": []
    },
    {
      "cell_type": "markdown",
      "source": [
        "32. Rotate a list to the right by `n` positions."
      ],
      "metadata": {
        "id": "ySh-R-gmknpJ"
      }
    },
    {
      "cell_type": "code",
      "source": [
        "# random list\n",
        "lt = [1, 2, 3, 5, 8, 13, 21, 34,2, 12,55, 89]\n",
        "\n",
        "#rotate list right by 3\n",
        "lt2 = lt[-3:] + lt[:-3]\n",
        "\n",
        "print(lt2)"
      ],
      "metadata": {
        "colab": {
          "base_uri": "https://localhost:8080/"
        },
        "id": "uUTu2EY2koxz",
        "outputId": "1bcf2e6e-1b2e-4685-d2ee-d501a8b1b827"
      },
      "execution_count": null,
      "outputs": [
        {
          "output_type": "stream",
          "name": "stdout",
          "text": [
            "[12, 55, 89, 1, 2, 3, 5, 8, 13, 21, 34, 2]\n"
          ]
        }
      ]
    },
    {
      "cell_type": "code",
      "source": [],
      "metadata": {
        "id": "Gz0s9z9Pk78l"
      },
      "execution_count": null,
      "outputs": []
    },
    {
      "cell_type": "markdown",
      "source": [
        "33. Create a list of prime numbers up to 50."
      ],
      "metadata": {
        "id": "_p1UOX8qk8XZ"
      }
    },
    {
      "cell_type": "code",
      "source": [
        "lt = [1]\n",
        "count = 0\n",
        "for i in range(2,51):\n",
        "  for j in range(2,i):\n",
        "    if i%j == 0:\n",
        "      break\n",
        "  else:\n",
        "    lt.append(i)\n",
        "\n",
        "print(lt)\n"
      ],
      "metadata": {
        "colab": {
          "base_uri": "https://localhost:8080/"
        },
        "id": "j9gin95RlBnU",
        "outputId": "f5a55340-300a-42ce-b60e-2691bd0d05dd"
      },
      "execution_count": null,
      "outputs": [
        {
          "output_type": "stream",
          "name": "stdout",
          "text": [
            "[1, 2, 3, 5, 7, 11, 13, 17, 19, 23, 29, 31, 37, 41, 43, 47]\n"
          ]
        }
      ]
    },
    {
      "cell_type": "code",
      "source": [],
      "metadata": {
        "id": "XRsmZ3BMpfe1"
      },
      "execution_count": null,
      "outputs": []
    },
    {
      "cell_type": "markdown",
      "source": [
        "34. Split a list into chunks of size `n`."
      ],
      "metadata": {
        "id": "5MX9mslPpgh3"
      }
    },
    {
      "cell_type": "code",
      "source": [
        "my_list = [1, 2, 3, 4, 5,\n",
        "\t\t6, 7, 8, 9]\n",
        "start = 0\n",
        "end = len(my_list)\n",
        "step = 3\n",
        "for i in range(start, end, step):\n",
        "\tx = i\n",
        "\tprint(my_list[x:x+step])\n"
      ],
      "metadata": {
        "colab": {
          "base_uri": "https://localhost:8080/"
        },
        "id": "vfEszALUpoaI",
        "outputId": "0f638760-0f63-40c2-bf5f-a3793743111a"
      },
      "execution_count": null,
      "outputs": [
        {
          "output_type": "stream",
          "name": "stdout",
          "text": [
            "[1, 2, 3]\n",
            "[4, 5, 6]\n",
            "[7, 8, 9]\n"
          ]
        }
      ]
    },
    {
      "cell_type": "code",
      "source": [],
      "metadata": {
        "id": "mEGxXXZYqkoY"
      },
      "execution_count": null,
      "outputs": []
    },
    {
      "cell_type": "markdown",
      "source": [
        "35. Find the second largest number in a list"
      ],
      "metadata": {
        "id": "hrLNE_FeqqOy"
      }
    },
    {
      "cell_type": "code",
      "source": [
        "# random list\n",
        "lt = [1, 2, 3, 5, 8, 13, 21, 34,2, 12,55, 89]\n",
        "\n",
        "lt.sort()\n",
        "\n",
        "# printing second largest number\n",
        "print(lt[-2])"
      ],
      "metadata": {
        "colab": {
          "base_uri": "https://localhost:8080/"
        },
        "id": "nA9-Ozc-qrcw",
        "outputId": "a4c2e8d4-cc99-48f2-bc89-34a522a94392"
      },
      "execution_count": null,
      "outputs": [
        {
          "output_type": "stream",
          "name": "stdout",
          "text": [
            "55\n"
          ]
        }
      ]
    },
    {
      "cell_type": "code",
      "source": [
        "o"
      ],
      "metadata": {
        "id": "xkx4ibv-wlKc"
      },
      "execution_count": null,
      "outputs": []
    },
    {
      "cell_type": "code",
      "source": [],
      "metadata": {
        "id": "cZCGL6DCrVXM"
      },
      "execution_count": null,
      "outputs": []
    },
    {
      "cell_type": "markdown",
      "source": [
        "36. Replace every element in a list with its square."
      ],
      "metadata": {
        "id": "2gvCaxbcrVt4"
      }
    },
    {
      "cell_type": "code",
      "source": [
        "# random list\n",
        "lt = [1, 2, 3, 5, 8, 13, 21, 34,2, 12,55, 89]\n",
        "\n",
        "for i in range(0,len(lt)):\n",
        "  lt[i] = lt[i]**2\n",
        "\n",
        "print(lt)"
      ],
      "metadata": {
        "colab": {
          "base_uri": "https://localhost:8080/"
        },
        "id": "yI8jaR9NrgA4",
        "outputId": "b579b29c-4013-4cea-88bb-039f32247f88"
      },
      "execution_count": null,
      "outputs": [
        {
          "output_type": "stream",
          "name": "stdout",
          "text": [
            "[1, 4, 9, 25, 64, 169, 441, 1156, 4, 144, 3025, 7921]\n"
          ]
        }
      ]
    },
    {
      "cell_type": "code",
      "source": [],
      "metadata": {
        "id": "NwHJ-XwpsEFX"
      },
      "execution_count": null,
      "outputs": []
    },
    {
      "cell_type": "markdown",
      "source": [
        "37. Convert a list to a dictionary where list elements become keys and their indices become values."
      ],
      "metadata": {
        "id": "DCeTfdcWsEpL"
      }
    },
    {
      "cell_type": "code",
      "source": [
        "# random list\n",
        "lt = [1, 2, 3, 5, 8, 13, 21, 34,2, 12,55, 89]\n",
        "\n",
        "dict = {}\n",
        "\n",
        "for i in range(0,len(lt)):\n",
        "  dict.update({lt[i]:i})\n",
        "\n",
        "print(dict)"
      ],
      "metadata": {
        "colab": {
          "base_uri": "https://localhost:8080/"
        },
        "id": "A39phINjsOVX",
        "outputId": "6cf1eb2a-c525-43d4-8d45-933ae0ef5cda"
      },
      "execution_count": null,
      "outputs": [
        {
          "output_type": "stream",
          "name": "stdout",
          "text": [
            "{1: 0, 2: 8, 3: 2, 5: 3, 8: 4, 13: 5, 21: 6, 34: 7, 12: 9, 55: 10, 89: 11}\n"
          ]
        }
      ]
    },
    {
      "cell_type": "code",
      "source": [],
      "metadata": {
        "id": "g2vvznOltJzX"
      },
      "execution_count": null,
      "outputs": []
    },
    {
      "cell_type": "markdown",
      "source": [
        "38. Shuffle the elements of a list randomly."
      ],
      "metadata": {
        "id": "COoBq4BTtKZa"
      }
    },
    {
      "cell_type": "code",
      "source": [
        "import random\n",
        "# random list\n",
        "lt = [1, 2, 3, 5, 8, 13, 21, 34,2, 12,55, 89]\n",
        "\n",
        "random.shuffle(lt)\n",
        "\n",
        "print(lt)"
      ],
      "metadata": {
        "colab": {
          "base_uri": "https://localhost:8080/"
        },
        "id": "lbLXiQK8vXkM",
        "outputId": "e6f5362e-8382-42ea-a188-ba606aae7bd9"
      },
      "execution_count": null,
      "outputs": [
        {
          "output_type": "stream",
          "name": "stdout",
          "text": [
            "[3, 1, 8, 21, 34, 5, 12, 2, 13, 55, 2, 89]\n"
          ]
        }
      ]
    },
    {
      "cell_type": "code",
      "source": [],
      "metadata": {
        "id": "SxtkF4bKwH2W"
      },
      "execution_count": null,
      "outputs": []
    },
    {
      "cell_type": "markdown",
      "source": [
        "39. Create a list of the first 10 factorial numbers."
      ],
      "metadata": {
        "id": "hhIPk3XhwIbZ"
      }
    },
    {
      "cell_type": "code",
      "source": [
        "fact = 1\n",
        "for i in range(1,11):\n",
        "  fact = fact * i\n",
        "  print(f\"Factorial of {i} is {fact}\")"
      ],
      "metadata": {
        "id": "lArFCVm5wilo",
        "colab": {
          "base_uri": "https://localhost:8080/"
        },
        "outputId": "2ae1c430-25b5-41cc-fbe3-c361bdd2852f"
      },
      "execution_count": null,
      "outputs": [
        {
          "output_type": "stream",
          "name": "stdout",
          "text": [
            "Factorial of 1 is 1\n",
            "Factorial of 2 is 2\n",
            "Factorial of 3 is 6\n",
            "Factorial of 4 is 24\n",
            "Factorial of 5 is 120\n",
            "Factorial of 6 is 720\n",
            "Factorial of 7 is 5040\n",
            "Factorial of 8 is 40320\n",
            "Factorial of 9 is 362880\n",
            "Factorial of 10 is 3628800\n"
          ]
        }
      ]
    },
    {
      "cell_type": "code",
      "source": [],
      "metadata": {
        "id": "i-7vQZkpq8_p"
      },
      "execution_count": null,
      "outputs": []
    },
    {
      "cell_type": "markdown",
      "source": [
        "40. Check if two lists have at least one element in common."
      ],
      "metadata": {
        "id": "u4SQ8o_Uq9Zx"
      }
    },
    {
      "cell_type": "code",
      "source": [
        "# Asssigning two lists to 2 different variables\n",
        "a = [1, 2, 3, 4, 5]\n",
        "b = [5, 6, 7, 8, 9]\n",
        "\n",
        "for i in a:\n",
        "  for j in b:\n",
        "    if i == j:\n",
        "      print(f\"{i} is common in both lists\")\n",
        "    else:\n",
        "      pass\n"
      ],
      "metadata": {
        "colab": {
          "base_uri": "https://localhost:8080/"
        },
        "id": "gTy0sr1Jq-Zp",
        "outputId": "64a1ac09-b44d-46c3-fe81-369e475ca89d"
      },
      "execution_count": null,
      "outputs": [
        {
          "output_type": "stream",
          "name": "stdout",
          "text": [
            "5 is common in both lists\n"
          ]
        }
      ]
    },
    {
      "cell_type": "code",
      "source": [],
      "metadata": {
        "id": "Wc926q7Lr2bO"
      },
      "execution_count": null,
      "outputs": []
    },
    {
      "cell_type": "markdown",
      "source": [
        "41. Remove all elements from a list."
      ],
      "metadata": {
        "id": "umsW91fTr3LS"
      }
    },
    {
      "cell_type": "code",
      "source": [
        "# assigning a list to a variable\n",
        "a = [1, 2, 3, 4, 5]\n",
        "print(a)\n",
        "print(\"\\n\")\n",
        "\n",
        "# removing all elements from list\n",
        "a.clear()\n",
        "print(f\"After removing all elements, the list is : {a}\")"
      ],
      "metadata": {
        "colab": {
          "base_uri": "https://localhost:8080/"
        },
        "id": "7doIvOy7r6GF",
        "outputId": "d9e5bb6d-ad39-4073-aefc-45eaaa89e3d6"
      },
      "execution_count": null,
      "outputs": [
        {
          "output_type": "stream",
          "name": "stdout",
          "text": [
            "[1, 2, 3, 4, 5]\n",
            "\n",
            "\n",
            "After removing all elements, the list is : []\n"
          ]
        }
      ]
    },
    {
      "cell_type": "code",
      "source": [],
      "metadata": {
        "id": "upamWqv0sij8"
      },
      "execution_count": null,
      "outputs": []
    },
    {
      "cell_type": "markdown",
      "source": [
        "42. Replace negative numbers in a list with 0."
      ],
      "metadata": {
        "id": "Of_JBr5Osi5n"
      }
    },
    {
      "cell_type": "code",
      "source": [
        "# assigning a list to a variable\n",
        "a = [-1, 2, -3, -4, 5, -8]\n",
        "\n",
        "for i in a:\n",
        "  if a[i]<0:\n",
        "    a[i]=0\n",
        "\n",
        "print(a)"
      ],
      "metadata": {
        "colab": {
          "base_uri": "https://localhost:8080/"
        },
        "id": "fmnFq2CAsljP",
        "outputId": "678a9666-97c0-4069-9163-7c9c0e64d745"
      },
      "execution_count": null,
      "outputs": [
        {
          "output_type": "stream",
          "name": "stdout",
          "text": [
            "[0, 2, 0, -4, 5, 0]\n"
          ]
        }
      ]
    },
    {
      "cell_type": "code",
      "source": [],
      "metadata": {
        "id": "7BoN4uoBtGby"
      },
      "execution_count": null,
      "outputs": []
    },
    {
      "cell_type": "markdown",
      "source": [
        "43. Convert a string into a list of words."
      ],
      "metadata": {
        "id": "E7yAC_oRtGyE"
      }
    },
    {
      "cell_type": "code",
      "source": [
        "# Assigning a string to a variable\n",
        "a = \"Check if two lists have at least one element in common.\"\n",
        "\n",
        "print(a.split())"
      ],
      "metadata": {
        "colab": {
          "base_uri": "https://localhost:8080/"
        },
        "id": "ex806TgjtIyy",
        "outputId": "9baf357b-29ee-4bc9-8213-a8d9f12651b4"
      },
      "execution_count": null,
      "outputs": [
        {
          "output_type": "stream",
          "name": "stdout",
          "text": [
            "['Check', 'if', 'two', 'lists', 'have', 'at', 'least', 'one', 'element', 'in', 'common.']\n"
          ]
        }
      ]
    },
    {
      "cell_type": "code",
      "source": [],
      "metadata": {
        "id": "eD2vxHnltXIg"
      },
      "execution_count": null,
      "outputs": []
    },
    {
      "cell_type": "markdown",
      "source": [
        "44. Convert a list of words into a string."
      ],
      "metadata": {
        "id": "irh4O9oAtX3i"
      }
    },
    {
      "cell_type": "code",
      "source": [
        "# Assigning a list to a variable\n",
        "a = ['Check', 'if', 'two', 'lists', 'have', 'at', 'least', 'one', 'element', 'in', 'common.']\n",
        "\n",
        "# printing a converted string from list of words\n",
        "print(\" \".join(a))\n"
      ],
      "metadata": {
        "colab": {
          "base_uri": "https://localhost:8080/"
        },
        "id": "0vmZeiWpta4E",
        "outputId": "0f4f6daa-be97-4321-c57c-8c39841ce409"
      },
      "execution_count": null,
      "outputs": [
        {
          "output_type": "stream",
          "name": "stdout",
          "text": [
            "Check if two lists have at least one element in common.\n"
          ]
        }
      ]
    },
    {
      "cell_type": "code",
      "source": [],
      "metadata": {
        "id": "u8U-TyZJty4g"
      },
      "execution_count": null,
      "outputs": []
    },
    {
      "cell_type": "markdown",
      "source": [
        "45. Create a list of the first `n` powers of 2."
      ],
      "metadata": {
        "id": "zPKS2xOGt1vT"
      }
    },
    {
      "cell_type": "code",
      "source": [
        "# Taking the value of n from user\n",
        "n = int(input(\"Enter value of n: \"))\n",
        "\n",
        "print(f\"List of first {n} powers of 2 is : {list(2**i for i in range(1,n+1))}\")"
      ],
      "metadata": {
        "colab": {
          "base_uri": "https://localhost:8080/"
        },
        "id": "KYOM4X-At4cY",
        "outputId": "b961c58f-ec62-4a70-a98d-7e19e39ebe56"
      },
      "execution_count": null,
      "outputs": [
        {
          "output_type": "stream",
          "name": "stdout",
          "text": [
            "Enter value of n: 10\n",
            "List of first 10 powers of 2 is : [2, 4, 8, 16, 32, 64, 128, 256, 512, 1024]\n"
          ]
        }
      ]
    },
    {
      "cell_type": "code",
      "source": [],
      "metadata": {
        "id": "m6Q7TBb7wvK6"
      },
      "execution_count": null,
      "outputs": []
    },
    {
      "cell_type": "markdown",
      "source": [
        "46. Find the longest string in a list of strings."
      ],
      "metadata": {
        "id": "4-Z13Isht1rY"
      }
    },
    {
      "cell_type": "code",
      "source": [
        "# Assigning a list of strigs to a variable\n",
        "a = ['Check', 'if', 'two', 'lists', 'have', 'at', 'least', 'one', 'element', 'in', 'common']\n",
        "\n",
        "dict = {}\n",
        "\n",
        "count = 0\n",
        "for i in a:\n",
        "  for j in i:\n",
        "    count += 1\n",
        "  dict.update({i:count})\n",
        "  count = 0\n",
        "\n",
        "\n",
        "for m,n in dict.items():\n",
        "  if n == max(dict.values()):\n",
        "    k = m\n",
        "\n",
        "print(f\"Longest string in given list of strings is: '{k}'\")\n",
        "\n",
        "\n"
      ],
      "metadata": {
        "colab": {
          "base_uri": "https://localhost:8080/"
        },
        "id": "eMnb0-4qt0zJ",
        "outputId": "b706e256-0f0e-4a05-c1c7-e3cf2a3be42e"
      },
      "execution_count": null,
      "outputs": [
        {
          "output_type": "stream",
          "name": "stdout",
          "text": [
            "Longest string in given list of strings is: 'element'\n"
          ]
        }
      ]
    },
    {
      "cell_type": "code",
      "source": [],
      "metadata": {
        "id": "JTUZ1rAvxCCx"
      },
      "execution_count": null,
      "outputs": []
    },
    {
      "cell_type": "markdown",
      "source": [
        "47. Find the shortest string in a list of strings."
      ],
      "metadata": {
        "id": "05qIsl_R52Pq"
      }
    },
    {
      "cell_type": "code",
      "source": [
        "# Assigning a list of strigs to a variable\n",
        "a = ['Check', 'if', 'two', 'lists', 'have', 'at', 'least', 'one', 'element', 'in', 'common']\n",
        "\n",
        "dict = {}\n",
        "\n",
        "count = 0\n",
        "for i in a:\n",
        "  for j in i:\n",
        "    count += 1\n",
        "  dict.update({i:count})\n",
        "  count = 0\n",
        "\n",
        "\n",
        "for m,n in dict.items():\n",
        "  if n == min(dict.values()):\n",
        "    k = m\n",
        "\n",
        "print(f\"Shortest string in given list of strings is: '{k}'\")"
      ],
      "metadata": {
        "colab": {
          "base_uri": "https://localhost:8080/"
        },
        "id": "tsYczj6y58Ws",
        "outputId": "c530d140-6e6e-456e-f32b-7d40ae513af7"
      },
      "execution_count": null,
      "outputs": [
        {
          "output_type": "stream",
          "name": "stdout",
          "text": [
            "Shortest string in given list of strings is: 'in'\n"
          ]
        }
      ]
    },
    {
      "cell_type": "code",
      "source": [],
      "metadata": {
        "id": "H9kS97OV6QEm"
      },
      "execution_count": null,
      "outputs": []
    },
    {
      "cell_type": "markdown",
      "source": [
        "48. Create a list of the first `n` triangular numbers."
      ],
      "metadata": {
        "id": "IYkZ99lf6QaB"
      }
    },
    {
      "cell_type": "code",
      "source": [
        "n = int(input(\"Enter a number 'n' : \"))\n",
        "\n",
        "j = 1\n",
        "k = 1\n",
        "l = []\n",
        "for i in range(0,n+1):\n",
        "  l.append(k)\n",
        "  j += 1\n",
        "  k += j\n",
        "\n",
        "\n",
        "\n",
        "print(f\"List of first {n} numbers is : {l}\")\n",
        "\n"
      ],
      "metadata": {
        "colab": {
          "base_uri": "https://localhost:8080/"
        },
        "id": "avq6uBwY6SF3",
        "outputId": "af68f3a9-0acd-47eb-c9f9-96e188a9f938"
      },
      "execution_count": null,
      "outputs": [
        {
          "output_type": "stream",
          "name": "stdout",
          "text": [
            "Enter a number 'n' : 10\n",
            "List of first 10 numbers is : [1, 3, 6, 10, 15, 21, 28, 36, 45, 55, 66]\n"
          ]
        }
      ]
    },
    {
      "cell_type": "code",
      "source": [],
      "metadata": {
        "id": "YNxzIIGB9LLk"
      },
      "execution_count": null,
      "outputs": []
    },
    {
      "cell_type": "markdown",
      "source": [
        "49. Check if a list contains another list as a subsequence."
      ],
      "metadata": {
        "id": "ACbyqISi9sLl"
      }
    },
    {
      "cell_type": "code",
      "source": [
        "# Python3 code to demonstrate working of\n",
        "# Check for Sublist in List\n",
        "\n",
        "# initializing list\n",
        "test_list = [5, 6, 3, 8, 2, 1, 7, 1]\n",
        "\n",
        "# printing original list\n",
        "print(\"The original list : \" + str(test_list))\n",
        "\n",
        "# initializing sublist\n",
        "sublist = [8, 2, 7]\n",
        "\n",
        "# Check for Sublist in List\n",
        "if set(sublist).intersection(set(test_list)) == set(sublist):\n",
        "\tres = True\n",
        "else:\n",
        "\tres = False\n",
        "\n",
        "# printing result\n",
        "print(\"Is sublist present in list ? : \" + str(res))\n"
      ],
      "metadata": {
        "colab": {
          "base_uri": "https://localhost:8080/"
        },
        "id": "voWKtVDo9rYL",
        "outputId": "8bb2cf53-8021-49d9-bf69-36896f5dc237"
      },
      "execution_count": null,
      "outputs": [
        {
          "output_type": "stream",
          "name": "stdout",
          "text": [
            "The original list : [5, 6, 3, 8, 2, 1, 7, 1]\n",
            "Is sublist present in list ? : True\n"
          ]
        }
      ]
    },
    {
      "cell_type": "code",
      "source": [],
      "metadata": {
        "id": "FRCoOVnqAOk1"
      },
      "execution_count": null,
      "outputs": []
    },
    {
      "cell_type": "markdown",
      "source": [
        "50. Swap two elements in a list by their indices."
      ],
      "metadata": {
        "id": "l4eZ0BmEAPbz"
      }
    },
    {
      "cell_type": "code",
      "source": [
        "List = [23, 65, 19, 90]\n",
        "pos1, pos2  = 1, 3\n",
        "\n",
        "List[pos1], List[pos2] = List[pos2], List[pos1]\n",
        "print(List)"
      ],
      "metadata": {
        "colab": {
          "base_uri": "https://localhost:8080/"
        },
        "id": "AootRsboASzu",
        "outputId": "bb12e69e-432e-4685-d6bb-221b8a1075e8"
      },
      "execution_count": null,
      "outputs": [
        {
          "output_type": "stream",
          "name": "stdout",
          "text": [
            "[23, 90, 19, 65]\n"
          ]
        }
      ]
    },
    {
      "cell_type": "code",
      "source": [],
      "metadata": {
        "id": "V0b3GohYBUjM"
      },
      "execution_count": null,
      "outputs": []
    },
    {
      "cell_type": "code",
      "source": [],
      "metadata": {
        "id": "iY_oOjIkBjnW"
      },
      "execution_count": null,
      "outputs": []
    },
    {
      "cell_type": "markdown",
      "source": [
        "#Tuple Based Assignment Problem :"
      ],
      "metadata": {
        "id": "QacH7N0XBVJa"
      }
    },
    {
      "cell_type": "markdown",
      "source": [
        "1. Create a tuple with integers from 1 to 5."
      ],
      "metadata": {
        "id": "mSRrfFTBBfmZ"
      }
    },
    {
      "cell_type": "code",
      "source": [
        "t = (1,2,3,4,5)\n",
        "\n",
        "print(t)\n",
        "print(type(t))"
      ],
      "metadata": {
        "colab": {
          "base_uri": "https://localhost:8080/"
        },
        "id": "CNh-eLrwBny3",
        "outputId": "354e3887-3a30-461c-f3f5-19d36c16429b"
      },
      "execution_count": null,
      "outputs": [
        {
          "output_type": "stream",
          "name": "stdout",
          "text": [
            "(1, 2, 3, 4, 5)\n",
            "<class 'tuple'>\n"
          ]
        }
      ]
    },
    {
      "cell_type": "code",
      "source": [],
      "metadata": {
        "id": "jLKT0lzACh3y"
      },
      "execution_count": null,
      "outputs": []
    },
    {
      "cell_type": "markdown",
      "source": [
        "2. Access the third element of a tuple."
      ],
      "metadata": {
        "id": "JmcGvgN_CiSL"
      }
    },
    {
      "cell_type": "code",
      "source": [
        "t = (1,2,3,4,5)\n",
        "\n",
        "print(t[2])"
      ],
      "metadata": {
        "colab": {
          "base_uri": "https://localhost:8080/"
        },
        "id": "Kq5gSjjICpOr",
        "outputId": "3649dffa-56fe-46c5-ed7e-270be120af37"
      },
      "execution_count": null,
      "outputs": [
        {
          "output_type": "stream",
          "name": "stdout",
          "text": [
            "3\n"
          ]
        }
      ]
    },
    {
      "cell_type": "code",
      "source": [],
      "metadata": {
        "id": "xD2lBzxgCy7-"
      },
      "execution_count": null,
      "outputs": []
    },
    {
      "cell_type": "markdown",
      "source": [
        "3. Find the length of a tuple without using the `len()` function."
      ],
      "metadata": {
        "id": "geW9XCSaCzWk"
      }
    },
    {
      "cell_type": "code",
      "source": [
        "t = (1,2,3,4,5)\n",
        "\n",
        "count = 0\n",
        "for i in t:\n",
        "  count += 1\n",
        "\n",
        "print(f\"length of a tuple is {count}\")\n"
      ],
      "metadata": {
        "colab": {
          "base_uri": "https://localhost:8080/"
        },
        "id": "JwoWZUOGC11G",
        "outputId": "32f96317-e360-4c1f-9af4-ee5f838c9b69"
      },
      "execution_count": null,
      "outputs": [
        {
          "output_type": "stream",
          "name": "stdout",
          "text": [
            "length of a tuple is 5\n"
          ]
        }
      ]
    },
    {
      "cell_type": "code",
      "source": [],
      "metadata": {
        "id": "e9svZkO5DGn0"
      },
      "execution_count": null,
      "outputs": []
    },
    {
      "cell_type": "markdown",
      "source": [
        "4. Count the occurrences of an element in a tuple."
      ],
      "metadata": {
        "id": "VWjYfbD_DHjY"
      }
    },
    {
      "cell_type": "code",
      "source": [
        "t = (1,2,1,4,3,2,6,2,9,5,4,5)\n",
        "s = set(t)\n",
        "dict = {}\n",
        "\n",
        "for i in s:\n",
        "  a = t.count(i)\n",
        "  print(f\"occurance of {i} in tuple is {a}\")\n",
        "\n",
        "\n",
        "\n"
      ],
      "metadata": {
        "colab": {
          "base_uri": "https://localhost:8080/"
        },
        "id": "jEJ8G6x2DK2v",
        "outputId": "4831ceda-33e4-4cdb-ae39-8749b4fe6c28"
      },
      "execution_count": null,
      "outputs": [
        {
          "output_type": "stream",
          "name": "stdout",
          "text": [
            "occurance of 1 in tuple is 2\n",
            "occurance of 2 in tuple is 3\n",
            "occurance of 3 in tuple is 1\n",
            "occurance of 4 in tuple is 2\n",
            "occurance of 5 in tuple is 2\n",
            "occurance of 6 in tuple is 1\n",
            "occurance of 9 in tuple is 1\n"
          ]
        }
      ]
    },
    {
      "cell_type": "code",
      "source": [],
      "metadata": {
        "id": "ZiGRG7llEP57"
      },
      "execution_count": null,
      "outputs": []
    },
    {
      "cell_type": "markdown",
      "source": [
        "5. Find the index of the first occurrence of an element in a tuple."
      ],
      "metadata": {
        "id": "OwA4QAiMEYKA"
      }
    },
    {
      "cell_type": "code",
      "source": [
        "t = (1,2,1,9,4,3,2,6,2,9,5,4,5)\n",
        "element = 9\n",
        "\n",
        "print(t.index(element))"
      ],
      "metadata": {
        "colab": {
          "base_uri": "https://localhost:8080/"
        },
        "id": "Hhh1G9gREXa7",
        "outputId": "7f8c3928-6067-4ef1-a336-10d6b9e67acd"
      },
      "execution_count": null,
      "outputs": [
        {
          "output_type": "stream",
          "name": "stdout",
          "text": [
            "3\n"
          ]
        }
      ]
    },
    {
      "cell_type": "code",
      "source": [],
      "metadata": {
        "id": "MnWaKEz8ElYv"
      },
      "execution_count": null,
      "outputs": []
    },
    {
      "cell_type": "markdown",
      "source": [
        "6. Check if an element exists in a tuple."
      ],
      "metadata": {
        "id": "ZNvLjtHeEl8n"
      }
    },
    {
      "cell_type": "code",
      "source": [
        "t = (1,2,1,9,4,3,2,6,2,9,5,4,5)\n",
        "\n",
        "if 10 in t:\n",
        "  print(True)\n",
        "else:\n",
        "  print(False)"
      ],
      "metadata": {
        "colab": {
          "base_uri": "https://localhost:8080/"
        },
        "id": "0i23TVzIErRC",
        "outputId": "35fbc931-3a07-4362-823e-8c44a52c97e6"
      },
      "execution_count": null,
      "outputs": [
        {
          "output_type": "stream",
          "name": "stdout",
          "text": [
            "False\n"
          ]
        }
      ]
    },
    {
      "cell_type": "code",
      "source": [],
      "metadata": {
        "id": "vWYFFTUHFY5s"
      },
      "execution_count": null,
      "outputs": []
    },
    {
      "cell_type": "markdown",
      "source": [
        "7. Convert a tuple to a list."
      ],
      "metadata": {
        "id": "xwgFYb4YFZTO"
      }
    },
    {
      "cell_type": "code",
      "source": [
        "t = (1,2,1,9,4,3,2,6,2,9,5,4,5)\n",
        "\n",
        "l = list(t)\n",
        "\n",
        "print(f\"converted list is : {l}\")"
      ],
      "metadata": {
        "colab": {
          "base_uri": "https://localhost:8080/"
        },
        "id": "6UibGZLoFcyX",
        "outputId": "7f66eec4-442a-4eb2-8407-fbcd7e922968"
      },
      "execution_count": null,
      "outputs": [
        {
          "output_type": "stream",
          "name": "stdout",
          "text": [
            "converted list is : [1, 2, 1, 9, 4, 3, 2, 6, 2, 9, 5, 4, 5]\n"
          ]
        }
      ]
    },
    {
      "cell_type": "code",
      "source": [],
      "metadata": {
        "id": "3K4UTgzYFsal"
      },
      "execution_count": null,
      "outputs": []
    },
    {
      "cell_type": "markdown",
      "source": [
        "8. Convert a list to a tuple."
      ],
      "metadata": {
        "id": "rKj9NNnGFs5u"
      }
    },
    {
      "cell_type": "code",
      "source": [
        "l = [1, 2, 1, 9, 4, 3, 2, 6, 2, 9, 5, 4, 5]\n",
        "\n",
        "t = tuple(l)\n",
        "\n",
        "print(f\"tuple = {t}\")"
      ],
      "metadata": {
        "id": "GTpVIgaNFuC-",
        "colab": {
          "base_uri": "https://localhost:8080/"
        },
        "outputId": "bf01617d-0380-4102-a027-2418d9d52101"
      },
      "execution_count": null,
      "outputs": [
        {
          "output_type": "stream",
          "name": "stdout",
          "text": [
            "tuple = (1, 2, 1, 9, 4, 3, 2, 6, 2, 9, 5, 4, 5)\n"
          ]
        }
      ]
    },
    {
      "cell_type": "code",
      "source": [],
      "metadata": {
        "id": "J1A-Nzk9U0-z"
      },
      "execution_count": null,
      "outputs": []
    },
    {
      "cell_type": "markdown",
      "source": [
        "9. Unpack the elements of a tuple into variables."
      ],
      "metadata": {
        "id": "xyvDBijAU13J"
      }
    },
    {
      "cell_type": "code",
      "source": [
        "l = (1, 2, 1, 9, 4, 3, 2, 6, 2, 9, 5, 4, 5)\n",
        "\n",
        "for j in l:\n",
        "  for i in range(97,123):\n",
        "    print(f\"{chr(i)} = '{j}'\")\n",
        "    break"
      ],
      "metadata": {
        "colab": {
          "base_uri": "https://localhost:8080/"
        },
        "id": "IsCfkvaVU-N8",
        "outputId": "1af82546-8c7a-46f2-e1a0-6650ab2f84fa"
      },
      "execution_count": null,
      "outputs": [
        {
          "output_type": "stream",
          "name": "stdout",
          "text": [
            "a = '1'\n",
            "a = '2'\n",
            "a = '1'\n",
            "a = '9'\n",
            "a = '4'\n",
            "a = '3'\n",
            "a = '2'\n",
            "a = '6'\n",
            "a = '2'\n",
            "a = '9'\n",
            "a = '5'\n",
            "a = '4'\n",
            "a = '5'\n"
          ]
        }
      ]
    },
    {
      "cell_type": "code",
      "source": [],
      "metadata": {
        "id": "yx0jEf0o4JhJ"
      },
      "execution_count": null,
      "outputs": []
    },
    {
      "cell_type": "markdown",
      "source": [
        "10. Create a tuple of even numbers from 1 to 10."
      ],
      "metadata": {
        "id": "oQioO8nW4Orz"
      }
    },
    {
      "cell_type": "code",
      "source": [
        "t = []\n",
        "\n",
        "for i in range(1,11):\n",
        "  if i%2 == 0:\n",
        "    t.append(i)\n",
        "\n",
        "print(tuple(t))"
      ],
      "metadata": {
        "colab": {
          "base_uri": "https://localhost:8080/"
        },
        "id": "EjeV85vv4Pqq",
        "outputId": "014aeb4d-239c-4291-dd94-8d17bb072e6e"
      },
      "execution_count": null,
      "outputs": [
        {
          "output_type": "stream",
          "name": "stdout",
          "text": [
            "(2, 4, 6, 8, 10)\n"
          ]
        }
      ]
    },
    {
      "cell_type": "code",
      "source": [],
      "metadata": {
        "id": "vErnzX2N5eUd"
      },
      "execution_count": null,
      "outputs": []
    },
    {
      "cell_type": "markdown",
      "source": [
        "11. Create a tuple of odd numbers from 1 to 10."
      ],
      "metadata": {
        "id": "MPTbHXMq5et8"
      }
    },
    {
      "cell_type": "code",
      "source": [
        "t = []\n",
        "\n",
        "for i in range(1,11):\n",
        "  if i%2 != 0:\n",
        "    t.append(i)\n",
        "\n",
        "print(tuple(t))"
      ],
      "metadata": {
        "colab": {
          "base_uri": "https://localhost:8080/"
        },
        "id": "T4FYrsqW5iZb",
        "outputId": "314c2ca7-dbb7-42f3-f504-b76dcc7b0913"
      },
      "execution_count": null,
      "outputs": [
        {
          "output_type": "stream",
          "name": "stdout",
          "text": [
            "(1, 3, 5, 7, 9)\n"
          ]
        }
      ]
    },
    {
      "cell_type": "code",
      "source": [],
      "metadata": {
        "id": "YUD2NFPf5lME"
      },
      "execution_count": null,
      "outputs": []
    },
    {
      "cell_type": "markdown",
      "source": [
        "12. Concatenate two tuples."
      ],
      "metadata": {
        "id": "YRUWLwmR5luX"
      }
    },
    {
      "cell_type": "code",
      "source": [
        "a = (2, 4, 6, 8, 10)\n",
        "b = (1, 3, 5, 7, 9)\n",
        "\n",
        "print(a+b)"
      ],
      "metadata": {
        "colab": {
          "base_uri": "https://localhost:8080/"
        },
        "id": "LXg268b75zpK",
        "outputId": "b49b2502-3e49-44f9-c204-ab1f2e50e107"
      },
      "execution_count": null,
      "outputs": [
        {
          "output_type": "stream",
          "name": "stdout",
          "text": [
            "(2, 4, 6, 8, 10, 1, 3, 5, 7, 9)\n"
          ]
        }
      ]
    },
    {
      "cell_type": "code",
      "source": [],
      "metadata": {
        "id": "STkWz7yy560C"
      },
      "execution_count": null,
      "outputs": []
    },
    {
      "cell_type": "markdown",
      "source": [
        "13. Repeat a tuple three times."
      ],
      "metadata": {
        "id": "Z_ORz6X557OY"
      }
    },
    {
      "cell_type": "code",
      "source": [
        "a = (2, 4, 6, 8, 10)\n",
        "print(a*3)"
      ],
      "metadata": {
        "colab": {
          "base_uri": "https://localhost:8080/"
        },
        "id": "7UuScwPG59to",
        "outputId": "84e25017-b6b4-4de6-af4a-248ad8d59b0c"
      },
      "execution_count": null,
      "outputs": [
        {
          "output_type": "stream",
          "name": "stdout",
          "text": [
            "(2, 4, 6, 8, 10, 2, 4, 6, 8, 10, 2, 4, 6, 8, 10)\n"
          ]
        }
      ]
    },
    {
      "cell_type": "code",
      "source": [],
      "metadata": {
        "id": "PnGAGMUC6GXj"
      },
      "execution_count": null,
      "outputs": []
    },
    {
      "cell_type": "markdown",
      "source": [
        "14. Check if a tuple is empty."
      ],
      "metadata": {
        "id": "r8a9QiMS6G9A"
      }
    },
    {
      "cell_type": "code",
      "source": [
        "\n",
        "def empty(*x):\n",
        "  for i in x:\n",
        "\n",
        "    if len(i)<=0:\n",
        "      print(f\"{i} is empty\")\n",
        "    else:\n",
        "      print(f\"{i} is not empty\")\n",
        "\n",
        "a = (2, 4, 6, 8, 10)\n",
        "b = ()\n",
        "\n",
        "empty(a,b)"
      ],
      "metadata": {
        "colab": {
          "base_uri": "https://localhost:8080/"
        },
        "id": "INfiYg2x6ID0",
        "outputId": "f13a1487-ed24-4ce4-ee4e-4882cb101855"
      },
      "execution_count": null,
      "outputs": [
        {
          "output_type": "stream",
          "name": "stdout",
          "text": [
            "(2, 4, 6, 8, 10) is not empty\n",
            "() is empty\n"
          ]
        }
      ]
    },
    {
      "cell_type": "code",
      "source": [],
      "metadata": {
        "id": "dVR3Snq99d5C"
      },
      "execution_count": null,
      "outputs": []
    },
    {
      "cell_type": "markdown",
      "source": [
        "15. Create a nested tuple."
      ],
      "metadata": {
        "id": "LGeikNXS9eow"
      }
    },
    {
      "cell_type": "code",
      "source": [
        "x = ((3, (5, 6)))"
      ],
      "metadata": {
        "id": "IN02xk5v-aHS"
      },
      "execution_count": null,
      "outputs": []
    },
    {
      "cell_type": "code",
      "source": [],
      "metadata": {
        "id": "LpkdpIlV-tsX"
      },
      "execution_count": null,
      "outputs": []
    },
    {
      "cell_type": "markdown",
      "source": [
        "16. Access the first element of a nested tuple."
      ],
      "metadata": {
        "id": "ZmqNUC-I-ucv"
      }
    },
    {
      "cell_type": "code",
      "source": [
        "x = ((3, (5, 6)))\n",
        "\n",
        "print(x[0])"
      ],
      "metadata": {
        "colab": {
          "base_uri": "https://localhost:8080/"
        },
        "id": "3-3eWhuR-yuJ",
        "outputId": "1c54b64e-2887-420b-9bb0-7acb9c13b453"
      },
      "execution_count": null,
      "outputs": [
        {
          "output_type": "stream",
          "name": "stdout",
          "text": [
            "3\n"
          ]
        }
      ]
    },
    {
      "cell_type": "code",
      "source": [],
      "metadata": {
        "id": "Ye2LWiV-AxZx"
      },
      "execution_count": null,
      "outputs": []
    },
    {
      "cell_type": "markdown",
      "source": [
        "17. Create a tuple with a single element."
      ],
      "metadata": {
        "id": "C2MEEXzcBBtz"
      }
    },
    {
      "cell_type": "code",
      "source": [
        "x = (\"a\",)\n",
        "print(x)"
      ],
      "metadata": {
        "colab": {
          "base_uri": "https://localhost:8080/"
        },
        "id": "BsuppFpuBCxT",
        "outputId": "bcf52fa9-776e-48b2-8ab8-3b3c4b0a3172"
      },
      "execution_count": null,
      "outputs": [
        {
          "output_type": "stream",
          "name": "stdout",
          "text": [
            "('a',)\n"
          ]
        }
      ]
    },
    {
      "cell_type": "code",
      "source": [],
      "metadata": {
        "id": "AIt4v7M6BHl4"
      },
      "execution_count": null,
      "outputs": []
    },
    {
      "cell_type": "markdown",
      "source": [
        "18. Compare two tuples."
      ],
      "metadata": {
        "id": "3xJhEu0vBLZf"
      }
    },
    {
      "cell_type": "code",
      "source": [
        "a = (2, 4, 6, 8, 10)\n",
        "b = (1, 3, 5, 7, 9)\n",
        "count=0\n",
        "for i in a:\n",
        "  for j in b:\n",
        "\n",
        "    if i>j:\n",
        "      count+=1\n",
        "    break\n",
        "\n",
        "if count == 5:\n",
        "  print(\"tuple a is bigger than b\")\n",
        "else:\n",
        "  print(\"tuple a is smaller than b\")\n"
      ],
      "metadata": {
        "id": "gEroTOdzBPrx",
        "colab": {
          "base_uri": "https://localhost:8080/"
        },
        "outputId": "d6249a44-deb1-4dfc-cf56-bd1d6c1a5a9b"
      },
      "execution_count": null,
      "outputs": [
        {
          "output_type": "stream",
          "name": "stdout",
          "text": [
            "tuple a is bigger than b\n"
          ]
        }
      ]
    },
    {
      "cell_type": "code",
      "source": [],
      "metadata": {
        "id": "HVORZ2TW0mGt"
      },
      "execution_count": null,
      "outputs": []
    },
    {
      "cell_type": "markdown",
      "source": [
        "19. Delete a tuple."
      ],
      "metadata": {
        "id": "dQ-hbFT8BLD9"
      }
    },
    {
      "cell_type": "code",
      "source": [
        "a = (2, 4, 6, 8, 10)\n",
        "del(a)\n"
      ],
      "metadata": {
        "id": "xRo8TLvP0n6X"
      },
      "execution_count": null,
      "outputs": []
    },
    {
      "cell_type": "code",
      "source": [],
      "metadata": {
        "id": "rh3ARkm51GfK"
      },
      "execution_count": null,
      "outputs": []
    },
    {
      "cell_type": "markdown",
      "source": [
        "20. Slice a tuple."
      ],
      "metadata": {
        "id": "N_9xzRs61ID3"
      }
    },
    {
      "cell_type": "code",
      "source": [
        "a = (2, 4, 6, 8, 10)\n",
        "print(a[1:3])"
      ],
      "metadata": {
        "colab": {
          "base_uri": "https://localhost:8080/"
        },
        "id": "CBkALtK71KgN",
        "outputId": "b8cb0273-245b-4d90-96f7-697a16118c4e"
      },
      "execution_count": null,
      "outputs": [
        {
          "output_type": "stream",
          "name": "stdout",
          "text": [
            "(4, 6)\n"
          ]
        }
      ]
    },
    {
      "cell_type": "code",
      "source": [],
      "metadata": {
        "id": "Oyx1Hyhi1VUJ"
      },
      "execution_count": null,
      "outputs": []
    },
    {
      "cell_type": "markdown",
      "source": [
        "21. Find the maximum value in a tuple."
      ],
      "metadata": {
        "id": "Lc8TcLSY1V02"
      }
    },
    {
      "cell_type": "code",
      "source": [
        "a = (2, 4, 6, 8, 10)\n",
        "print(max(a))"
      ],
      "metadata": {
        "colab": {
          "base_uri": "https://localhost:8080/"
        },
        "id": "ckIXh2Ov1XQE",
        "outputId": "45fa0421-da81-4ff7-94ff-b4522a6717fa"
      },
      "execution_count": null,
      "outputs": [
        {
          "output_type": "stream",
          "name": "stdout",
          "text": [
            "10\n"
          ]
        }
      ]
    },
    {
      "cell_type": "code",
      "source": [],
      "metadata": {
        "id": "JN0ss1aZ1gMr"
      },
      "execution_count": null,
      "outputs": []
    },
    {
      "cell_type": "markdown",
      "source": [
        "22. Find the minimum value in a tuple."
      ],
      "metadata": {
        "id": "pd5wI5zB1go2"
      }
    },
    {
      "cell_type": "code",
      "source": [
        "a = (2, 4, 6, 8, 10)\n",
        "print(min(a))"
      ],
      "metadata": {
        "colab": {
          "base_uri": "https://localhost:8080/"
        },
        "id": "Tv3juHq91hfG",
        "outputId": "2dad7e8a-18a9-4e3e-bb84-42c2e5ecc367"
      },
      "execution_count": null,
      "outputs": [
        {
          "output_type": "stream",
          "name": "stdout",
          "text": [
            "2\n"
          ]
        }
      ]
    },
    {
      "cell_type": "code",
      "source": [],
      "metadata": {
        "id": "Jj6BkyhG1oru"
      },
      "execution_count": null,
      "outputs": []
    },
    {
      "cell_type": "markdown",
      "source": [
        "23. Convert a string to a tuple of characters."
      ],
      "metadata": {
        "id": "ugSPHXhU1pIa"
      }
    },
    {
      "cell_type": "code",
      "source": [
        "s = \"PW SKILLS\"\n",
        "l=[]\n",
        "for i in s:\n",
        "  l.append(i)\n",
        "\n",
        "result = tuple(l)\n",
        "print(result)\n"
      ],
      "metadata": {
        "colab": {
          "base_uri": "https://localhost:8080/"
        },
        "id": "iNYe47QI1qGZ",
        "outputId": "b453b36d-f341-4e34-cc3c-5488bb927535"
      },
      "execution_count": null,
      "outputs": [
        {
          "output_type": "stream",
          "name": "stdout",
          "text": [
            "('P', 'W', ' ', 'S', 'K', 'I', 'L', 'L', 'S')\n"
          ]
        }
      ]
    },
    {
      "cell_type": "code",
      "source": [],
      "metadata": {
        "id": "l_b7z5Vl3MRP"
      },
      "execution_count": null,
      "outputs": []
    },
    {
      "cell_type": "markdown",
      "source": [
        "24. Convert a tuple of characters to a string."
      ],
      "metadata": {
        "id": "_1M6yYJv3MvD"
      }
    },
    {
      "cell_type": "code",
      "source": [
        "t=('P', 'W', ' ', 'S', 'K', 'I', 'L', 'L', 'S')\n",
        "s = \"\".join(t)\n",
        "\n",
        "print(s)\n"
      ],
      "metadata": {
        "colab": {
          "base_uri": "https://localhost:8080/"
        },
        "id": "22euzU153Ob0",
        "outputId": "a4b21fda-9a85-493d-c0d7-2dcf6d0a9579"
      },
      "execution_count": null,
      "outputs": [
        {
          "output_type": "stream",
          "name": "stdout",
          "text": [
            "PW SKILLS\n"
          ]
        }
      ]
    },
    {
      "cell_type": "code",
      "source": [],
      "metadata": {
        "id": "9M3d45RH32Hr"
      },
      "execution_count": null,
      "outputs": []
    },
    {
      "cell_type": "markdown",
      "source": [
        "25. Create a tuple from multiple data types."
      ],
      "metadata": {
        "id": "A65QNZ5e37bB"
      }
    },
    {
      "cell_type": "code",
      "source": [
        "#Create a tuple with different data types\n",
        "tuplex = (\"tuple\", False, 3.2, 1)\n",
        "print(tuplex)"
      ],
      "metadata": {
        "colab": {
          "base_uri": "https://localhost:8080/"
        },
        "id": "gRd28nXs3_zy",
        "outputId": "75e57705-ff35-4eed-a76d-5b2e313081f0"
      },
      "execution_count": null,
      "outputs": [
        {
          "output_type": "stream",
          "name": "stdout",
          "text": [
            "('tuple', False, 3.2, 1)\n"
          ]
        }
      ]
    },
    {
      "cell_type": "code",
      "source": [],
      "metadata": {
        "id": "PfEhOBOY4BzO"
      },
      "execution_count": null,
      "outputs": []
    },
    {
      "cell_type": "markdown",
      "source": [
        "26. Check if two tuples are identical."
      ],
      "metadata": {
        "id": "yZ0JbXK-4CXB"
      }
    },
    {
      "cell_type": "code",
      "source": [
        "tuplex = (\"tuple\", False, 3.2, 1)\n",
        "tu = (\"tuple\",True,2.3,1)\n",
        "c = 0\n",
        "for i in tuplex:\n",
        "  for j in tu:\n",
        "    if i==j:\n",
        "      c+=1\n",
        "    else:\n",
        "      print(\"two tuples are not identical\")\n",
        "      break\n",
        "  break\n",
        "if c == len(tuplex):\n",
        "  print(\"Two tuples are identical\")"
      ],
      "metadata": {
        "colab": {
          "base_uri": "https://localhost:8080/"
        },
        "id": "7rinDRTB4EkT",
        "outputId": "4c0a8e25-bbd1-4b8a-a262-aca3a6907411"
      },
      "execution_count": null,
      "outputs": [
        {
          "output_type": "stream",
          "name": "stdout",
          "text": [
            "two tuples are not identical\n"
          ]
        }
      ]
    },
    {
      "cell_type": "code",
      "source": [],
      "metadata": {
        "id": "SgOOlzTB468x"
      },
      "execution_count": null,
      "outputs": []
    },
    {
      "cell_type": "markdown",
      "source": [
        "27. Sort the elements of a tuple."
      ],
      "metadata": {
        "id": "JS3fNboW47Xx"
      }
    },
    {
      "cell_type": "code",
      "source": [
        "d = (2,1,5,3,8,2,4,6,0,2,4)\n",
        "l = list(d)\n",
        "l.sort()\n",
        "d = tuple(l)\n",
        "print(d)\n"
      ],
      "metadata": {
        "colab": {
          "base_uri": "https://localhost:8080/"
        },
        "id": "wsYZd_3r5ANz",
        "outputId": "9fe89e8b-bb2c-4326-cd0c-5d12c02586cd"
      },
      "execution_count": null,
      "outputs": [
        {
          "output_type": "stream",
          "name": "stdout",
          "text": [
            "(0, 1, 2, 2, 2, 3, 4, 4, 5, 6, 8)\n"
          ]
        }
      ]
    },
    {
      "cell_type": "code",
      "source": [],
      "metadata": {
        "id": "W6q-L152584Y"
      },
      "execution_count": null,
      "outputs": []
    },
    {
      "cell_type": "markdown",
      "source": [
        "28. Convert a tuple of integers to a tuple of strings."
      ],
      "metadata": {
        "id": "DZwDkbvX5_Ya"
      }
    },
    {
      "cell_type": "code",
      "source": [
        "d = (2,1,5,3,8,2,4,6,0,2,4)\n",
        "\n",
        "l = []\n",
        "for i in d:\n",
        "  l.append(f\"{i}\")\n",
        "\n",
        "d = tuple(l)\n",
        "print(d)"
      ],
      "metadata": {
        "id": "Wy5povpS6AbR",
        "colab": {
          "base_uri": "https://localhost:8080/"
        },
        "outputId": "530f7499-1f27-4782-c372-58d5b900cc92"
      },
      "execution_count": null,
      "outputs": [
        {
          "output_type": "stream",
          "name": "stdout",
          "text": [
            "('2', '1', '5', '3', '8', '2', '4', '6', '0', '2', '4')\n"
          ]
        }
      ]
    },
    {
      "cell_type": "code",
      "source": [],
      "metadata": {
        "id": "81a_2QpA0D9y"
      },
      "execution_count": null,
      "outputs": []
    },
    {
      "cell_type": "markdown",
      "source": [
        "29. Convert a tuple of strings to a tuple of integers."
      ],
      "metadata": {
        "id": "avK2xCvNDr_0"
      }
    },
    {
      "cell_type": "code",
      "source": [
        "t = ('2', '1', '5', '3', '8', '2', '4', '6', '0', '2', '4')\n",
        "d = []\n",
        "for i in t:\n",
        "  d.append(int(i))\n",
        "d\n"
      ],
      "metadata": {
        "colab": {
          "base_uri": "https://localhost:8080/"
        },
        "id": "eTsGUy_3DucI",
        "outputId": "241161a2-6728-42d6-883f-56a1927bc0ad"
      },
      "execution_count": null,
      "outputs": [
        {
          "output_type": "execute_result",
          "data": {
            "text/plain": [
              "[2, 1, 5, 3, 8, 2, 4, 6, 0, 2, 4]"
            ]
          },
          "metadata": {},
          "execution_count": 14
        }
      ]
    },
    {
      "cell_type": "code",
      "source": [],
      "metadata": {
        "id": "bTzjVgjK1SKW"
      },
      "execution_count": null,
      "outputs": []
    },
    {
      "cell_type": "markdown",
      "source": [
        "30. Merge two tuples."
      ],
      "metadata": {
        "id": "dwFj47NPEa6I"
      }
    },
    {
      "cell_type": "code",
      "source": [
        "t = ('2', '1', '5', '3', '8', '2', '4', '6', '0', '2', '4')\n",
        "d = (2,1,5,3,8,2,4,6,0,2,4)\n",
        "\n",
        "f = t+d\n",
        "print(f, end= \"\")"
      ],
      "metadata": {
        "colab": {
          "base_uri": "https://localhost:8080/"
        },
        "id": "4JJbmzvLEbt2",
        "outputId": "c851dc7d-31fc-4d5f-bda3-aa1ce060635b"
      },
      "execution_count": null,
      "outputs": [
        {
          "output_type": "stream",
          "name": "stdout",
          "text": [
            "('2', '1', '5', '3', '8', '2', '4', '6', '0', '2', '4', 2, 1, 5, 3, 8, 2, 4, 6, 0, 2, 4)"
          ]
        }
      ]
    },
    {
      "cell_type": "code",
      "source": [],
      "metadata": {
        "id": "menxKXp4EtqL"
      },
      "execution_count": null,
      "outputs": []
    },
    {
      "cell_type": "markdown",
      "source": [
        "31. Flatten a nested tuple."
      ],
      "metadata": {
        "id": "fw4j1UIHEzIV"
      }
    },
    {
      "cell_type": "code",
      "source": [
        "# Python3 code to demonstrate working of\n",
        "# Flatten Nested Tuples\n",
        "# Using recursion + isinstance()\n",
        "\n",
        "# helper function\n",
        "def flatten(test_tuple):\n",
        "\n",
        "\tif isinstance(test_tuple, tuple) and len(test_tuple) == 2 and not isinstance(test_tuple[0], tuple):\n",
        "\t\tres = [test_tuple]\n",
        "\t\treturn tuple(res)\n",
        "\n",
        "\tres = []\n",
        "\tfor sub in test_tuple:\n",
        "\t\tres += flatten(sub)\n",
        "\treturn tuple(res)\n",
        "\n",
        "# initializing tuple\n",
        "test_tuple = ((4, 5), ((4, 7), (8, 9), (10, 11)), (((9, 10), (3, 4))))\n",
        "\n",
        "# printing original tuple\n",
        "print(\"The original tuple : \" + str(test_tuple))\n",
        "\n",
        "# Flatten Nested Tuples\n",
        "# Using recursion + isinstance()\n",
        "res = flatten(test_tuple)\n",
        "\n",
        "# printing result\n",
        "print(\"The flattened tuple : \" + str(res))"
      ],
      "metadata": {
        "colab": {
          "base_uri": "https://localhost:8080/"
        },
        "id": "cdOMuAqWE-S2",
        "outputId": "237394fa-ee5c-4048-f097-6b50f964fc80"
      },
      "execution_count": null,
      "outputs": [
        {
          "output_type": "stream",
          "name": "stdout",
          "text": [
            "The original tuple : ((4, 5), ((4, 7), (8, 9), (10, 11)), ((9, 10), (3, 4)))\n",
            "The flattened tuple : ((4, 5), (4, 7), (8, 9), (10, 11), (9, 10), (3, 4))\n"
          ]
        }
      ]
    },
    {
      "cell_type": "code",
      "source": [],
      "metadata": {
        "id": "gl1l7DHGGneH"
      },
      "execution_count": null,
      "outputs": []
    },
    {
      "cell_type": "markdown",
      "source": [
        "32. Create a tuple of the first 5 prime numbers."
      ],
      "metadata": {
        "id": "bT0NrrmZGmoj"
      }
    },
    {
      "cell_type": "code",
      "source": [
        "a=[]\n",
        "count = 0\n",
        "for i in range(1,100):\n",
        "  for j in range(2,i):\n",
        "    if i%j==0:\n",
        "      break\n",
        "  else:\n",
        "    a.append(i)\n",
        "    count += 1\n",
        "  if count==5:\n",
        "    break\n",
        "\n",
        "print(tuple(a))"
      ],
      "metadata": {
        "colab": {
          "base_uri": "https://localhost:8080/"
        },
        "id": "xaOUFDz1Grt-",
        "outputId": "ddd666c7-69cc-4a48-f79b-8cfffdd5aac6"
      },
      "execution_count": null,
      "outputs": [
        {
          "output_type": "stream",
          "name": "stdout",
          "text": [
            "(1, 2, 3, 5, 7)\n"
          ]
        }
      ]
    },
    {
      "cell_type": "code",
      "source": [],
      "metadata": {
        "id": "HrmMCCllKUhX"
      },
      "execution_count": null,
      "outputs": []
    },
    {
      "cell_type": "markdown",
      "source": [
        "33. Check if a tuple is a palindrome."
      ],
      "metadata": {
        "id": "QhxIH_j_KU2S"
      }
    },
    {
      "cell_type": "code",
      "source": [
        "def ispalindrome(x):\n",
        "  if x == x[::-1] :\n",
        "    print(f\"{x}Tuple is a palindrome\")\n",
        "  else:\n",
        "    print(f\"{x}Tuple is not a palindrome\")\n",
        "\n",
        "test_tuple = (1,2,3,4,5,6,7,6,5,4,3,2,1)\n",
        "test_tuple2 = (1,2,3,4,5,3,2)\n",
        "\n",
        "ispalindrome(test_tuple)\n",
        "ispalindrome(test_tuple2)"
      ],
      "metadata": {
        "colab": {
          "base_uri": "https://localhost:8080/"
        },
        "id": "gU5fYfj2KXSi",
        "outputId": "c24058ab-d638-4baa-f6ae-6fddd7006ee5"
      },
      "execution_count": null,
      "outputs": [
        {
          "output_type": "stream",
          "name": "stdout",
          "text": [
            "(1, 2, 3, 4, 5, 6, 7, 6, 5, 4, 3, 2, 1)Tuple is a palindrome\n",
            "(1, 2, 3, 4, 5, 3, 2)Tuple is not a palindrome\n"
          ]
        }
      ]
    },
    {
      "cell_type": "code",
      "source": [],
      "metadata": {
        "id": "MeVBKRpJL1MN"
      },
      "execution_count": null,
      "outputs": []
    },
    {
      "cell_type": "markdown",
      "source": [
        "34. Create a tuple of squares of numbers from 1 to 5."
      ],
      "metadata": {
        "id": "x5i6jJvbL1fv"
      }
    },
    {
      "cell_type": "code",
      "source": [
        "list1 = []\n",
        "for i in range(1,6):\n",
        "  list1.append(i**2)\n",
        "\n",
        "tuple1 = tuple(list1)\n",
        "print(tuple1)"
      ],
      "metadata": {
        "colab": {
          "base_uri": "https://localhost:8080/"
        },
        "id": "73Bn8W0uL4HI",
        "outputId": "e7467c46-e7e7-40a5-dd65-d1382f08b46f"
      },
      "execution_count": null,
      "outputs": [
        {
          "output_type": "stream",
          "name": "stdout",
          "text": [
            "(1, 4, 9, 16, 25)\n"
          ]
        }
      ]
    },
    {
      "cell_type": "code",
      "source": [],
      "metadata": {
        "id": "q-yW3X8_MIRr"
      },
      "execution_count": null,
      "outputs": []
    },
    {
      "cell_type": "markdown",
      "source": [
        "35. Filter out all even numbers from a tuple."
      ],
      "metadata": {
        "id": "Yy5BC9HKMInA"
      }
    },
    {
      "cell_type": "code",
      "source": [
        "test_tuple = (1,2,3,4,5,6,7,6,5,4,3,2,1)\n",
        "lst = []\n",
        "\n",
        "for i in test_tuple:\n",
        "  if i%2==0:\n",
        "    lst.append(i)\n",
        "\n",
        "\n",
        "print(tuple(lst))"
      ],
      "metadata": {
        "colab": {
          "base_uri": "https://localhost:8080/"
        },
        "id": "1oioND2ZMNhr",
        "outputId": "fc157cbc-bab2-4e45-9fa2-73ba6f9aa304"
      },
      "execution_count": null,
      "outputs": [
        {
          "output_type": "stream",
          "name": "stdout",
          "text": [
            "(2, 4, 6, 6, 4, 2)\n"
          ]
        }
      ]
    },
    {
      "cell_type": "code",
      "source": [],
      "metadata": {
        "id": "9F4SmFCFM5L2"
      },
      "execution_count": null,
      "outputs": []
    },
    {
      "cell_type": "markdown",
      "source": [
        "36. Multiply all elements in a tuple by 2."
      ],
      "metadata": {
        "id": "zyHgX9hGM5pL"
      }
    },
    {
      "cell_type": "code",
      "source": [
        "test_tuple = (1,2,3,4,5,6,7,6,5,4,3,2,1)\n",
        "res = []\n",
        "\n",
        "for i in test_tuple:\n",
        "  res.append(i*2)\n",
        "\n",
        "print(res)"
      ],
      "metadata": {
        "colab": {
          "base_uri": "https://localhost:8080/"
        },
        "id": "2Q96-qZ_NZCh",
        "outputId": "b0a1be01-ccce-4f0a-df99-5ad599f1b5fa"
      },
      "execution_count": null,
      "outputs": [
        {
          "output_type": "stream",
          "name": "stdout",
          "text": [
            "[2, 4, 6, 8, 10, 12, 14, 12, 10, 8, 6, 4, 2]\n"
          ]
        }
      ]
    },
    {
      "cell_type": "code",
      "source": [],
      "metadata": {
        "id": "SGZJja2vNpeT"
      },
      "execution_count": null,
      "outputs": []
    },
    {
      "cell_type": "markdown",
      "source": [
        "37. Create a tuple of random numbers."
      ],
      "metadata": {
        "id": "SdzdFtZDNqC2"
      }
    },
    {
      "cell_type": "code",
      "source": [
        "tpl = (1,5,2,54523,645,473,2,646,425625,6256,425)\n",
        "tpl"
      ],
      "metadata": {
        "colab": {
          "base_uri": "https://localhost:8080/"
        },
        "id": "t54LaLg5QdlT",
        "outputId": "c0021cd6-f04a-47f9-88b1-01523a76124f"
      },
      "execution_count": null,
      "outputs": [
        {
          "output_type": "execute_result",
          "data": {
            "text/plain": [
              "(1, 5, 2, 54523, 645, 473, 2, 646, 425625, 6256, 425)"
            ]
          },
          "metadata": {},
          "execution_count": 54
        }
      ]
    },
    {
      "cell_type": "code",
      "source": [],
      "metadata": {
        "id": "7xm6J40-Ql6u"
      },
      "execution_count": null,
      "outputs": []
    },
    {
      "cell_type": "markdown",
      "source": [
        "38. Check if a tuple is sorted."
      ],
      "metadata": {
        "id": "zWh-PimDQmXy"
      }
    },
    {
      "cell_type": "code",
      "source": [
        "tpl = (1,5,2,54523,645,473,2,646,425625,6256,425)\n",
        "lt = list(tpl)\n",
        "lt.sort()\n",
        "print(\"Tuple is sorted\" if tpl == tuple(lt) else \"Tuple is not sorted\")\n",
        "\n"
      ],
      "metadata": {
        "colab": {
          "base_uri": "https://localhost:8080/"
        },
        "id": "FChQqiBKQplF",
        "outputId": "40f0ad4c-94a2-49f3-f2cb-2aae2c07c721"
      },
      "execution_count": null,
      "outputs": [
        {
          "output_type": "stream",
          "name": "stdout",
          "text": [
            "Tuple is not sorted\n"
          ]
        }
      ]
    },
    {
      "cell_type": "code",
      "source": [],
      "metadata": {
        "id": "zmBm0f9CRiA_"
      },
      "execution_count": null,
      "outputs": []
    },
    {
      "cell_type": "markdown",
      "source": [
        "39. Rotate a tuple to the left by `n` positions."
      ],
      "metadata": {
        "id": "UbAjH3EtRitW"
      }
    },
    {
      "cell_type": "code",
      "source": [
        "tpl = (1,5,2,54523,645,473,2,646,425625,6256,425)\n",
        "p = 3\n",
        "\n",
        "tpl = tpl[3:]+tpl[:3]\n",
        "tpl"
      ],
      "metadata": {
        "colab": {
          "base_uri": "https://localhost:8080/"
        },
        "id": "ANXtNcwURl5p",
        "outputId": "e8028c73-3be3-4912-e74a-f033a38dd523"
      },
      "execution_count": null,
      "outputs": [
        {
          "output_type": "execute_result",
          "data": {
            "text/plain": [
              "(54523, 645, 473, 2, 646, 425625, 6256, 425, 1, 5, 2)"
            ]
          },
          "metadata": {},
          "execution_count": 71
        }
      ]
    },
    {
      "cell_type": "code",
      "source": [],
      "metadata": {
        "id": "XnxySx_6Xdz3"
      },
      "execution_count": null,
      "outputs": []
    },
    {
      "cell_type": "markdown",
      "source": [
        "40. Rotate a tuple to the right by `n` positions."
      ],
      "metadata": {
        "id": "_AcUdvZeXeNK"
      }
    },
    {
      "cell_type": "code",
      "source": [
        "tpl = (1,5,2,54523,645,473,2,646,425625,6256,425)\n",
        "p = 3\n",
        "\n",
        "tpl = tpl[3:]+tpl[:3]\n",
        "tpl"
      ],
      "metadata": {
        "colab": {
          "base_uri": "https://localhost:8080/"
        },
        "id": "0OtQchy5XfGi",
        "outputId": "057936d3-ca98-4b99-853c-d7eaa7423f5f"
      },
      "execution_count": null,
      "outputs": [
        {
          "output_type": "execute_result",
          "data": {
            "text/plain": [
              "(54523, 645, 473, 2, 646, 425625, 6256, 425, 1, 5, 2)"
            ]
          },
          "metadata": {},
          "execution_count": 87
        }
      ]
    },
    {
      "cell_type": "code",
      "source": [],
      "metadata": {
        "id": "Z88yoJqgbeEK"
      },
      "execution_count": null,
      "outputs": []
    },
    {
      "cell_type": "markdown",
      "source": [
        "41. Create a tuple of the first 5 Fibonacci numbers."
      ],
      "metadata": {
        "id": "NrtaYF5Sbeev"
      }
    },
    {
      "cell_type": "code",
      "source": [
        "def make_fibonacci(n):\n",
        "    a = [0, 1]\n",
        "    [a.append(a[-1]+a[-2]) for i in range(n)]\n",
        "    return tuple(a)\n",
        "\n",
        "make_fibonacci(5)"
      ],
      "metadata": {
        "colab": {
          "base_uri": "https://localhost:8080/"
        },
        "id": "EEv-XaDVctSf",
        "outputId": "8af23526-2861-4dcd-8c16-7c0fae0bcb94"
      },
      "execution_count": null,
      "outputs": [
        {
          "output_type": "execute_result",
          "data": {
            "text/plain": [
              "(0, 1, 1, 2, 3, 5, 8)"
            ]
          },
          "metadata": {},
          "execution_count": 99
        }
      ]
    },
    {
      "cell_type": "code",
      "source": [],
      "metadata": {
        "id": "lONoApWAghDx"
      },
      "execution_count": null,
      "outputs": []
    },
    {
      "cell_type": "markdown",
      "source": [
        "42. Create a tuple from user input."
      ],
      "metadata": {
        "id": "Ed9tzkGeg3vA"
      }
    },
    {
      "cell_type": "code",
      "source": [
        "import ast\n",
        "\n",
        "# create a tuple from string user input\n",
        "\n",
        "my_tuple = tuple(input('Enter space-separated words: ').split())\n",
        "\n",
        "print(my_tuple)\n",
        "\n",
        "# -------------------------------\n",
        "\n",
        "# create a tuple from integer user input\n",
        "\n",
        "user_input = input('Enter space-separated integers: ')\n",
        "\n",
        "my_tuple = tuple(int(item) for item in user_input.split())\n",
        "\n",
        "print(my_tuple)\n"
      ],
      "metadata": {
        "colab": {
          "base_uri": "https://localhost:8080/"
        },
        "id": "w6fuQWXBhab9",
        "outputId": "f9766cb0-7131-422f-e35e-f703aae8df31"
      },
      "execution_count": null,
      "outputs": [
        {
          "output_type": "stream",
          "name": "stdout",
          "text": [
            "Enter space-separated words: 2 23 4 2 1 4\n",
            "('2', '23', '4', '2', '1', '4')\n",
            "Enter space-separated integers: 42 4352 56 6 2\n",
            "(42, 4352, 56, 6, 2)\n"
          ]
        }
      ]
    },
    {
      "cell_type": "code",
      "source": [],
      "metadata": {
        "id": "4g-F0FrmnH8K"
      },
      "execution_count": null,
      "outputs": []
    },
    {
      "cell_type": "markdown",
      "source": [
        "43. Swap two elements in a tuple."
      ],
      "metadata": {
        "id": "8nVFuyNWEuG4"
      }
    },
    {
      "cell_type": "code",
      "source": [
        "from pickle import TUPLE3\n",
        "tpl = (213,213124)\n",
        "lt=list(tpl)\n",
        "\n",
        "lt[0],lt[1]=lt[1],lt[0]\n",
        "\n",
        "tpl=tuple(lt)\n",
        "tpl"
      ],
      "metadata": {
        "colab": {
          "base_uri": "https://localhost:8080/"
        },
        "id": "LCE0WUpsnMSj",
        "outputId": "10c9fca8-10ae-4f0d-8b21-543dd4b8b7cf"
      },
      "execution_count": null,
      "outputs": [
        {
          "output_type": "execute_result",
          "data": {
            "text/plain": [
              "(213124, 213)"
            ]
          },
          "metadata": {},
          "execution_count": 110
        }
      ]
    },
    {
      "cell_type": "code",
      "source": [],
      "metadata": {
        "id": "1PKyjw0ktPyo"
      },
      "execution_count": null,
      "outputs": []
    },
    {
      "cell_type": "markdown",
      "source": [
        "44. Reverse the elements of a tuple."
      ],
      "metadata": {
        "id": "qtww9wrotQUp"
      }
    },
    {
      "cell_type": "code",
      "source": [
        "tpl = (1,5,2,54523,645,473,2,646,425625,6256,425)\n",
        "tpl[::-1]"
      ],
      "metadata": {
        "colab": {
          "base_uri": "https://localhost:8080/"
        },
        "id": "vysKiY8gtS16",
        "outputId": "085433b4-16a6-4d40-df2a-28b44b7293c1"
      },
      "execution_count": null,
      "outputs": [
        {
          "output_type": "execute_result",
          "data": {
            "text/plain": [
              "(425, 6256, 425625, 646, 2, 473, 645, 54523, 2, 5, 1)"
            ]
          },
          "metadata": {},
          "execution_count": 111
        }
      ]
    },
    {
      "cell_type": "code",
      "source": [],
      "metadata": {
        "id": "o2cXSv-PtZui"
      },
      "execution_count": null,
      "outputs": []
    },
    {
      "cell_type": "markdown",
      "source": [
        "45. Create a tuple of the first `n` powers of 2."
      ],
      "metadata": {
        "id": "w_1muZ8vtaK9"
      }
    },
    {
      "cell_type": "code",
      "source": [
        "lt=[]\n",
        "n=20\n",
        "for i in range(n):\n",
        "  lt.append(2**i)\n",
        "\n",
        "print(tuple(lt))\n",
        "\n"
      ],
      "metadata": {
        "colab": {
          "base_uri": "https://localhost:8080/"
        },
        "id": "jVF4dOIUtd25",
        "outputId": "de351865-786e-487e-a4a9-fad83c67b94f"
      },
      "execution_count": null,
      "outputs": [
        {
          "output_type": "stream",
          "name": "stdout",
          "text": [
            "(1, 2, 4, 8, 16, 32, 64, 128, 256, 512, 1024, 2048, 4096, 8192, 16384, 32768, 65536, 131072, 262144, 524288)\n"
          ]
        }
      ]
    },
    {
      "cell_type": "code",
      "source": [],
      "metadata": {
        "id": "wUwPNKE0t4P2"
      },
      "execution_count": null,
      "outputs": []
    },
    {
      "cell_type": "markdown",
      "source": [
        "46. Find the longest string in a tuple of strings."
      ],
      "metadata": {
        "id": "6NpkMc4yt41J"
      }
    },
    {
      "cell_type": "code",
      "source": [
        "tupl=(\"Ram\",\"Krishna\",\"KEshav\",\"SeetaRameshwar\",\"Radha\",\"Vithuraya\")\n",
        "max=\"Ram\"\n",
        "for i in tupl:\n",
        "  if len(max)>len(i):\n",
        "    max=max\n",
        "  else:\n",
        "    max=i\n",
        "print(\"longest string:\",max)\n"
      ],
      "metadata": {
        "colab": {
          "base_uri": "https://localhost:8080/"
        },
        "id": "KQvHU3GQxSr0",
        "outputId": "d708a66b-f788-41e8-88e9-48b281172ab2"
      },
      "execution_count": null,
      "outputs": [
        {
          "output_type": "stream",
          "name": "stdout",
          "text": [
            "longest string: SeetaRameshwar\n"
          ]
        }
      ]
    },
    {
      "cell_type": "code",
      "source": [],
      "metadata": {
        "id": "F0AHFkoo2yv0"
      },
      "execution_count": null,
      "outputs": []
    },
    {
      "cell_type": "markdown",
      "source": [
        "47. Find the shortest string in a tuple of strings."
      ],
      "metadata": {
        "id": "09_iqQAb2zPE"
      }
    },
    {
      "cell_type": "code",
      "source": [
        "tupl=(\"Ram\",\"Krishna\",\"KEshav\",\"SeetaRameshwar\",\"Radha\",\"Vithuraya\")\n",
        "min=\"Ram\"\n",
        "for i in tupl:\n",
        "  if len(min)<len(i):\n",
        "    min=min\n",
        "  else:\n",
        "    min=i\n",
        "print(\"Shirtest string:\",min)"
      ],
      "metadata": {
        "colab": {
          "base_uri": "https://localhost:8080/"
        },
        "id": "FH6yEGxY213N",
        "outputId": "0ea50059-5622-4f5d-eee8-a474e6897a4c"
      },
      "execution_count": null,
      "outputs": [
        {
          "output_type": "stream",
          "name": "stdout",
          "text": [
            "Shirtest string: Ram\n"
          ]
        }
      ]
    },
    {
      "cell_type": "code",
      "source": [],
      "metadata": {
        "id": "B51sdTyB3A8m"
      },
      "execution_count": null,
      "outputs": []
    },
    {
      "cell_type": "markdown",
      "source": [
        "48. Create a tuple of the first `n` triangular numbers."
      ],
      "metadata": {
        "id": "nJL9i-PP3BqN"
      }
    },
    {
      "cell_type": "code",
      "source": [
        "limit = 10\n",
        "triangle_nums = []\n",
        "num = 0\n",
        "\n",
        "for i in range(1, limit + 1):\n",
        "    num += i\n",
        "    triangle_nums.append(num)\n",
        "print(triangle_nums)"
      ],
      "metadata": {
        "colab": {
          "base_uri": "https://localhost:8080/"
        },
        "id": "oEFXr8ID4Mp7",
        "outputId": "8f938f2a-2754-479f-855e-b23a1b293ff3"
      },
      "execution_count": null,
      "outputs": [
        {
          "output_type": "stream",
          "name": "stdout",
          "text": [
            "[1, 3, 6, 10, 15, 21, 28, 36, 45, 55]\n"
          ]
        }
      ]
    },
    {
      "cell_type": "code",
      "source": [],
      "metadata": {
        "id": "51o_tV6I51KX"
      },
      "execution_count": null,
      "outputs": []
    },
    {
      "cell_type": "markdown",
      "source": [
        "49. Check if a tuple contains another tuple as a subsequence."
      ],
      "metadata": {
        "id": "fccB5sEg51j-"
      }
    },
    {
      "cell_type": "code",
      "source": [
        "my_tuple_1 = (87, 90, 31, 85)\n",
        "my_tuple_2 = (34, 56, 12, 5)\n",
        "\n",
        "print(\"The first tuple is :\")\n",
        "print(my_tuple_1)\n",
        "print(\"The second tuple is :\")\n",
        "print(my_tuple_2)\n",
        "\n",
        "my_result = set(my_tuple_2).issubset(my_tuple_1)\n",
        "\n",
        "print(\"Is the second tuple a subset of the first tuple ? \")\n",
        "print(my_result)"
      ],
      "metadata": {
        "colab": {
          "base_uri": "https://localhost:8080/"
        },
        "id": "HLex8Elq52v9",
        "outputId": "a52519c6-f9b3-448e-deba-62128ae2f7d8"
      },
      "execution_count": null,
      "outputs": [
        {
          "output_type": "stream",
          "name": "stdout",
          "text": [
            "The first tuple is :\n",
            "(87, 90, 31, 85)\n",
            "The second tuple is :\n",
            "(34, 56, 12, 5)\n",
            "Is the second tuple a subset of the first tuple ? \n",
            "False\n"
          ]
        }
      ]
    },
    {
      "cell_type": "code",
      "source": [],
      "metadata": {
        "id": "7MaAT0yI8tDa"
      },
      "execution_count": null,
      "outputs": []
    },
    {
      "cell_type": "markdown",
      "source": [
        "50. Create a tuple of alternating 1s and 0s of length `n`."
      ],
      "metadata": {
        "id": "job2qVje8tgg"
      }
    },
    {
      "cell_type": "code",
      "source": [
        "a = 0\n",
        "b = 1\n",
        "tp = []\n",
        "n = 50\n",
        "for i in range(n):\n",
        "  if i%2==0:\n",
        "    tp.insert(i,a)\n",
        "  else:\n",
        "    tp.insert(i,b)\n",
        "\n",
        "tp = tuple(tp)\n",
        "print(tp,end=\"\")"
      ],
      "metadata": {
        "colab": {
          "base_uri": "https://localhost:8080/"
        },
        "id": "BmePL4Oe8ucP",
        "outputId": "6e320ce2-0fbc-4752-cc89-11a659996898"
      },
      "execution_count": null,
      "outputs": [
        {
          "output_type": "stream",
          "name": "stdout",
          "text": [
            "(0, 1, 0, 1, 0, 1, 0, 1, 0, 1, 0, 1, 0, 1, 0, 1, 0, 1, 0, 1, 0, 1, 0, 1, 0, 1, 0, 1, 0, 1, 0, 1, 0, 1, 0, 1, 0, 1, 0, 1, 0, 1, 0, 1, 0, 1, 0, 1, 0, 1)"
          ]
        }
      ]
    },
    {
      "cell_type": "code",
      "source": [],
      "metadata": {
        "id": "SIwaCoot8vSn"
      },
      "execution_count": null,
      "outputs": []
    },
    {
      "cell_type": "code",
      "source": [],
      "metadata": {
        "id": "6yX4oerABgYr"
      },
      "execution_count": null,
      "outputs": []
    },
    {
      "cell_type": "markdown",
      "source": [
        "#Set Based Assignment Problem :"
      ],
      "metadata": {
        "id": "h9kGq20hBi-k"
      }
    },
    {
      "cell_type": "markdown",
      "source": [
        "1. Create a set with integers from 1 to 5."
      ],
      "metadata": {
        "id": "_W65Srx0BlNs"
      }
    },
    {
      "cell_type": "code",
      "source": [
        "# create a set of integer type\n",
        "student_id = {1,2,3,4,5}\n",
        "print('Student ID:', student_id)"
      ],
      "metadata": {
        "colab": {
          "base_uri": "https://localhost:8080/"
        },
        "id": "4ASWyUT7Brc-",
        "outputId": "0a18cd26-ce37-4e52-fa3e-86af72262467"
      },
      "execution_count": null,
      "outputs": [
        {
          "output_type": "stream",
          "name": "stdout",
          "text": [
            "Student ID: {1, 2, 3, 4, 5}\n"
          ]
        }
      ]
    },
    {
      "cell_type": "code",
      "source": [],
      "metadata": {
        "id": "Y0fiEZOyCJIK"
      },
      "execution_count": null,
      "outputs": []
    },
    {
      "cell_type": "markdown",
      "source": [
        "2. Add an element to a set."
      ],
      "metadata": {
        "id": "oA3IoNdUCJp7"
      }
    },
    {
      "cell_type": "code",
      "source": [
        "# Add an element to a set.\n",
        "student_id = {1,2,3,4,5}\n",
        "student_id.add(90)\n",
        "student_id"
      ],
      "metadata": {
        "colab": {
          "base_uri": "https://localhost:8080/"
        },
        "id": "zN4dDiY_COCg",
        "outputId": "f38aa65b-0fb4-4146-c6bc-07988fea0833"
      },
      "execution_count": null,
      "outputs": [
        {
          "output_type": "execute_result",
          "data": {
            "text/plain": [
              "{1, 2, 3, 4, 5, 90}"
            ]
          },
          "metadata": {},
          "execution_count": 160
        }
      ]
    },
    {
      "cell_type": "code",
      "source": [],
      "metadata": {
        "id": "2r1XFc8QChrq"
      },
      "execution_count": null,
      "outputs": []
    },
    {
      "cell_type": "markdown",
      "source": [
        "3. Remove an element from a set."
      ],
      "metadata": {
        "id": "t-Tt0fSYCijU"
      }
    },
    {
      "cell_type": "code",
      "source": [
        "# Remove an element to a set.\n",
        "student_id = {1,2,3,4,5}\n",
        "student_id.remove(3)\n",
        "student_id"
      ],
      "metadata": {
        "colab": {
          "base_uri": "https://localhost:8080/"
        },
        "id": "Sm1vZ4AICmHJ",
        "outputId": "36d41620-068a-4c8f-bed3-11b81de2e74b"
      },
      "execution_count": null,
      "outputs": [
        {
          "output_type": "execute_result",
          "data": {
            "text/plain": [
              "{1, 2, 4, 5}"
            ]
          },
          "metadata": {},
          "execution_count": 161
        }
      ]
    },
    {
      "cell_type": "code",
      "source": [],
      "metadata": {
        "id": "u5Dy5mAoCu1V"
      },
      "execution_count": null,
      "outputs": []
    },
    {
      "cell_type": "markdown",
      "source": [
        "4. Check if an element exists in a set."
      ],
      "metadata": {
        "id": "XerHSpZQC_Fi"
      }
    },
    {
      "cell_type": "code",
      "source": [
        "# Check if an element exists in a set.\n",
        "student_id = {1,2,3,4,5}\n",
        "print(\"ELement is present in a set\" if 3 in student_id else print(\"Not present\"))"
      ],
      "metadata": {
        "colab": {
          "base_uri": "https://localhost:8080/"
        },
        "id": "4_VH57jqDAay",
        "outputId": "6d9ecd80-ba34-461c-ed6a-edb5c722ccef"
      },
      "execution_count": null,
      "outputs": [
        {
          "output_type": "stream",
          "name": "stdout",
          "text": [
            "ELement is present in a set\n"
          ]
        }
      ]
    },
    {
      "cell_type": "code",
      "source": [],
      "metadata": {
        "id": "U7DM-EyoDdCy"
      },
      "execution_count": null,
      "outputs": []
    },
    {
      "cell_type": "markdown",
      "source": [
        "5. Find the length of a set without using the `len()` function."
      ],
      "metadata": {
        "id": "qpZHiNJ0Dd4m"
      }
    },
    {
      "cell_type": "code",
      "source": [
        "st = {1, 3, 6, 10, 15, 21, 28, 36, 45, 55}\n",
        "c = 0\n",
        "for i in st:\n",
        "  c+=1\n",
        "\n",
        "c"
      ],
      "metadata": {
        "colab": {
          "base_uri": "https://localhost:8080/"
        },
        "id": "OFLREIvDD8ZB",
        "outputId": "93cef3a7-2b31-4f95-c93d-f6b92904c170"
      },
      "execution_count": null,
      "outputs": [
        {
          "output_type": "execute_result",
          "data": {
            "text/plain": [
              "10"
            ]
          },
          "metadata": {},
          "execution_count": 163
        }
      ]
    },
    {
      "cell_type": "code",
      "source": [],
      "metadata": {
        "id": "bMrKVeHbEJFh"
      },
      "execution_count": null,
      "outputs": []
    },
    {
      "cell_type": "markdown",
      "source": [
        "6. Clear all elements from a set."
      ],
      "metadata": {
        "id": "oB5FaCOSD7U6"
      }
    },
    {
      "cell_type": "code",
      "source": [
        "st = {1, 3, 6, 10, 15, 21, 28, 36, 45, 55}\n",
        "st.clear()\n",
        "print(st)"
      ],
      "metadata": {
        "colab": {
          "base_uri": "https://localhost:8080/"
        },
        "id": "xqi-xcFhEMv7",
        "outputId": "ebf2b2e1-e27f-44a1-c364-541238f7ef5b"
      },
      "execution_count": null,
      "outputs": [
        {
          "output_type": "stream",
          "name": "stdout",
          "text": [
            "set()\n"
          ]
        }
      ]
    },
    {
      "cell_type": "code",
      "source": [],
      "metadata": {
        "id": "9fpR-WruEmKf"
      },
      "execution_count": null,
      "outputs": []
    },
    {
      "cell_type": "markdown",
      "source": [
        "7. Create a set of even numbers from 1 to 10."
      ],
      "metadata": {
        "id": "f1P93jLfEmim"
      }
    },
    {
      "cell_type": "code",
      "source": [
        "st = {0}\n",
        "for i in range(1,11):\n",
        "  if i%2==0:\n",
        "    st.add(i)\n",
        "  else:\n",
        "    continue\n",
        "\n",
        "st"
      ],
      "metadata": {
        "colab": {
          "base_uri": "https://localhost:8080/"
        },
        "id": "TcAscRo1F5VC",
        "outputId": "6b2a0ab1-ef5c-4237-f779-15c6dbf2d039"
      },
      "execution_count": null,
      "outputs": [
        {
          "output_type": "execute_result",
          "data": {
            "text/plain": [
              "{0, 2, 4, 6, 8, 10}"
            ]
          },
          "metadata": {},
          "execution_count": 169
        }
      ]
    },
    {
      "cell_type": "code",
      "source": [],
      "metadata": {
        "id": "CpYUXVZOHD9l"
      },
      "execution_count": null,
      "outputs": []
    },
    {
      "cell_type": "markdown",
      "source": [
        "8. Create a set of odd numbers from 1 to 10."
      ],
      "metadata": {
        "id": "b76ZC9fyHEct"
      }
    },
    {
      "cell_type": "code",
      "source": [
        "st = {1}\n",
        "for i in range(1,11):\n",
        "  if i%2!=0:\n",
        "    st.add(i)\n",
        "  else:\n",
        "    continue\n",
        "\n",
        "st"
      ],
      "metadata": {
        "colab": {
          "base_uri": "https://localhost:8080/"
        },
        "id": "tHlFxYi6HHIA",
        "outputId": "1939c59c-7f13-40c8-f979-14977894a054"
      },
      "execution_count": null,
      "outputs": [
        {
          "output_type": "execute_result",
          "data": {
            "text/plain": [
              "{1, 3, 5, 7, 9}"
            ]
          },
          "metadata": {},
          "execution_count": 170
        }
      ]
    },
    {
      "cell_type": "code",
      "source": [],
      "metadata": {
        "id": "QY2YwCyjHNQg"
      },
      "execution_count": null,
      "outputs": []
    },
    {
      "cell_type": "markdown",
      "source": [
        "9. Find the union of two sets."
      ],
      "metadata": {
        "id": "J-QfZY66HNwN"
      }
    },
    {
      "cell_type": "code",
      "source": [
        "A = {2, 4, 5, 6}\n",
        "B = {4, 6, 7, 8}\n",
        "\n",
        "print(\"A U B:\", A.union(B))\n"
      ],
      "metadata": {
        "colab": {
          "base_uri": "https://localhost:8080/"
        },
        "id": "hOTwqk5wHhk-",
        "outputId": "8d36aa61-21bc-435c-9338-c07acb6ecc9c"
      },
      "execution_count": null,
      "outputs": [
        {
          "output_type": "stream",
          "name": "stdout",
          "text": [
            "A U B: {2, 4, 5, 6, 7, 8}\n"
          ]
        }
      ]
    },
    {
      "cell_type": "code",
      "source": [],
      "metadata": {
        "id": "oC4B4XpZH7hd"
      },
      "execution_count": null,
      "outputs": []
    },
    {
      "cell_type": "markdown",
      "source": [
        "10. Find the intersection of two sets."
      ],
      "metadata": {
        "id": "o0OWm4-sH8TK"
      }
    },
    {
      "cell_type": "code",
      "source": [
        "x = {\"apple\", \"banana\", \"cherry\"}\n",
        "y = {\"google\", \"microsoft\", \"apple\"}\n",
        "\n",
        "z = x.intersection(y)\n",
        "\n",
        "print(z)"
      ],
      "metadata": {
        "colab": {
          "base_uri": "https://localhost:8080/"
        },
        "id": "wnxWLITbH_Bh",
        "outputId": "0c98d79f-302b-4cc5-a4ac-fc1a6dad6eda"
      },
      "execution_count": null,
      "outputs": [
        {
          "output_type": "stream",
          "name": "stdout",
          "text": [
            "{'apple'}\n"
          ]
        }
      ]
    },
    {
      "cell_type": "code",
      "source": [],
      "metadata": {
        "id": "4K9sQu0iIbAs"
      },
      "execution_count": null,
      "outputs": []
    },
    {
      "cell_type": "markdown",
      "source": [
        "11. Find the difference between two sets."
      ],
      "metadata": {
        "id": "cpQEt4NCIbgX"
      }
    },
    {
      "cell_type": "code",
      "source": [
        "# Python code to get the difference between two sets\n",
        "# using difference() between set A and set B\n",
        "\n",
        "# Driver Code\n",
        "A = {10, 20, 30, 40, 80}\n",
        "B = {100, 30, 80, 40, 60}\n",
        "print (A.difference(B))\n",
        "print (B.difference(A))\n"
      ],
      "metadata": {
        "colab": {
          "base_uri": "https://localhost:8080/"
        },
        "id": "GFFXkNjBIoLn",
        "outputId": "1ad7444e-b930-4d8c-cce2-ff2f7fff8818"
      },
      "execution_count": null,
      "outputs": [
        {
          "output_type": "stream",
          "name": "stdout",
          "text": [
            "{10, 20}\n",
            "{100, 60}\n"
          ]
        }
      ]
    },
    {
      "cell_type": "code",
      "source": [],
      "metadata": {
        "id": "Fx7CnPcUIvuZ"
      },
      "execution_count": null,
      "outputs": []
    },
    {
      "cell_type": "markdown",
      "source": [
        "12. Check if a set is a subset of another set."
      ],
      "metadata": {
        "id": "kDX2CPvJIwQN"
      }
    },
    {
      "cell_type": "code",
      "source": [
        "A = {1, 2, 3}\n",
        "B = {1, 2, 3, 4, 5}\n",
        "\n",
        "# all items of A are present in B\n",
        "print(A.issubset(B))"
      ],
      "metadata": {
        "colab": {
          "base_uri": "https://localhost:8080/"
        },
        "id": "gbz40T-2JGjD",
        "outputId": "db7808b7-6fbe-46cf-e278-41fa51fca448"
      },
      "execution_count": null,
      "outputs": [
        {
          "output_type": "stream",
          "name": "stdout",
          "text": [
            "True\n"
          ]
        }
      ]
    },
    {
      "cell_type": "code",
      "source": [],
      "metadata": {
        "id": "-F0Igt3xJ6Pd"
      },
      "execution_count": null,
      "outputs": []
    },
    {
      "cell_type": "markdown",
      "source": [
        "13. Check if a set is a superset of another set."
      ],
      "metadata": {
        "id": "YgSLt7GsJ6ye"
      }
    },
    {
      "cell_type": "code",
      "source": [
        "A = {1, 2, 3, 4, 5}\n",
        "B = {1, 2, 3}\n",
        "\n",
        "print(A.issuperset(B))\n",
        "print(B.issuperset(A))"
      ],
      "metadata": {
        "colab": {
          "base_uri": "https://localhost:8080/"
        },
        "id": "0VU3PaYzKLNj",
        "outputId": "2196855d-897c-4ca0-af5d-2a4a6d479b05"
      },
      "execution_count": null,
      "outputs": [
        {
          "output_type": "stream",
          "name": "stdout",
          "text": [
            "True\n",
            "False\n"
          ]
        }
      ]
    },
    {
      "cell_type": "code",
      "source": [],
      "metadata": {
        "id": "eOa8mbGCLMwY"
      },
      "execution_count": null,
      "outputs": []
    },
    {
      "cell_type": "markdown",
      "source": [
        "14. Create a set from a list."
      ],
      "metadata": {
        "id": "bTlsLqb7LNMY"
      }
    },
    {
      "cell_type": "code",
      "source": [
        "A = [1, 2, 3, 4, 5]\n",
        "print(set(A))"
      ],
      "metadata": {
        "colab": {
          "base_uri": "https://localhost:8080/"
        },
        "id": "cim8ivACLSFy",
        "outputId": "faa03867-ea28-40ee-80c7-c5ee29c2634e"
      },
      "execution_count": null,
      "outputs": [
        {
          "output_type": "stream",
          "name": "stdout",
          "text": [
            "{1, 2, 3, 4, 5}\n"
          ]
        }
      ]
    },
    {
      "cell_type": "code",
      "source": [],
      "metadata": {
        "id": "bwpviCp7LaK6"
      },
      "execution_count": null,
      "outputs": []
    },
    {
      "cell_type": "markdown",
      "source": [
        "15. Convert a set to a list."
      ],
      "metadata": {
        "id": "CP7yhBNzLazi"
      }
    },
    {
      "cell_type": "code",
      "source": [
        "A = {1, 2, 3, 4, 5}\n",
        "B = list(A)\n",
        "B"
      ],
      "metadata": {
        "colab": {
          "base_uri": "https://localhost:8080/"
        },
        "id": "NbwbHnivLdV-",
        "outputId": "fe746c7e-23a0-4e29-b24b-6d1aefcfb98f"
      },
      "execution_count": null,
      "outputs": [
        {
          "output_type": "execute_result",
          "data": {
            "text/plain": [
              "[1, 2, 3, 4, 5]"
            ]
          },
          "metadata": {},
          "execution_count": 187
        }
      ]
    },
    {
      "cell_type": "code",
      "source": [],
      "metadata": {
        "id": "qLzc2RIdLl9g"
      },
      "execution_count": null,
      "outputs": []
    },
    {
      "cell_type": "markdown",
      "source": [
        "16. Remove a random element from a set."
      ],
      "metadata": {
        "id": "uj5OS4KrPmF0"
      }
    },
    {
      "cell_type": "code",
      "source": [
        "A = {1, 2, 3, 4, 5}\n",
        "A.pop()\n",
        "A\n"
      ],
      "metadata": {
        "colab": {
          "base_uri": "https://localhost:8080/"
        },
        "id": "CrU8DpAjL8qD",
        "outputId": "727931ac-8cbe-4df7-d092-6a328d74fa27"
      },
      "execution_count": null,
      "outputs": [
        {
          "output_type": "execute_result",
          "data": {
            "text/plain": [
              "{2, 3, 4, 5}"
            ]
          },
          "metadata": {},
          "execution_count": 189
        }
      ]
    },
    {
      "cell_type": "code",
      "source": [],
      "metadata": {
        "id": "61Hlo6JEQXgh"
      },
      "execution_count": null,
      "outputs": []
    },
    {
      "cell_type": "markdown",
      "source": [
        "17. Pop an element from a set."
      ],
      "metadata": {
        "id": "kk0BqNl-QYCh"
      }
    },
    {
      "cell_type": "code",
      "source": [
        "A = {9, 2, 3, 4, 5}\n",
        "A.pop()"
      ],
      "metadata": {
        "colab": {
          "base_uri": "https://localhost:8080/"
        },
        "id": "3CFH3DQ5QdHi",
        "outputId": "a5c40e31-d8cd-4a45-9275-6a3c20e970da"
      },
      "execution_count": null,
      "outputs": [
        {
          "output_type": "execute_result",
          "data": {
            "text/plain": [
              "2"
            ]
          },
          "metadata": {},
          "execution_count": 191
        }
      ]
    },
    {
      "cell_type": "code",
      "source": [],
      "metadata": {
        "id": "1AH2koP1QnwM"
      },
      "execution_count": null,
      "outputs": []
    },
    {
      "cell_type": "markdown",
      "source": [
        "18. Check if two sets have no elements in common."
      ],
      "metadata": {
        "id": "5f4TSKd3QoMR"
      }
    },
    {
      "cell_type": "code",
      "source": [
        "x = {\"apple\", \"banana\", \"cherry\"}\n",
        "y = {\"google\", \"microsoft\", \"mango\"}\n",
        "\n",
        "z = x.intersection(y)\n",
        "if z==set():\n",
        "  print(\"No elements in common\")\n",
        "\n",
        "else:\n",
        "  print('Elements are common')\n"
      ],
      "metadata": {
        "colab": {
          "base_uri": "https://localhost:8080/"
        },
        "id": "Nzd8_B7UQsjY",
        "outputId": "3dfeed1e-515d-4de4-c1c2-36397547b4ea"
      },
      "execution_count": null,
      "outputs": [
        {
          "output_type": "stream",
          "name": "stdout",
          "text": [
            "No elements in common\n"
          ]
        }
      ]
    },
    {
      "cell_type": "code",
      "source": [],
      "metadata": {
        "id": "KcpOeZJIRSP3"
      },
      "execution_count": null,
      "outputs": []
    },
    {
      "cell_type": "markdown",
      "source": [
        "19. Find the symmetric difference between two sets."
      ],
      "metadata": {
        "id": "fyO4ZS_GRV9r"
      }
    },
    {
      "cell_type": "code",
      "source": [
        "A = {'a', 'b', 'c', 'd'}\n",
        "B = {'c', 'd', 'e' }\n",
        "z=A.symmetric_difference(B)\n",
        "z"
      ],
      "metadata": {
        "colab": {
          "base_uri": "https://localhost:8080/"
        },
        "id": "xpPAFXT8Rfaq",
        "outputId": "d4d62933-a6ce-4a15-f321-2c6e36405d4e"
      },
      "execution_count": null,
      "outputs": [
        {
          "output_type": "execute_result",
          "data": {
            "text/plain": [
              "{'a', 'b', 'e'}"
            ]
          },
          "metadata": {},
          "execution_count": 195
        }
      ]
    },
    {
      "cell_type": "code",
      "source": [],
      "metadata": {
        "id": "4bUw5kQLTiVF"
      },
      "execution_count": null,
      "outputs": []
    },
    {
      "cell_type": "markdown",
      "source": [
        "20. Update a set with elements from another set."
      ],
      "metadata": {
        "id": "rId1PrmvTi4H"
      }
    },
    {
      "cell_type": "code",
      "source": [
        "A = {'a', 'b', 'c', 'd'}\n",
        "B = {'c', 'd', 'e' }\n",
        "A.update(B)\n",
        "A\n"
      ],
      "metadata": {
        "colab": {
          "base_uri": "https://localhost:8080/"
        },
        "id": "-BqYEEVwToUN",
        "outputId": "8148a563-f7ff-4b00-d605-11bc75d75ac9"
      },
      "execution_count": null,
      "outputs": [
        {
          "output_type": "execute_result",
          "data": {
            "text/plain": [
              "{'a', 'b', 'c', 'd', 'e'}"
            ]
          },
          "metadata": {},
          "execution_count": 200
        }
      ]
    },
    {
      "cell_type": "code",
      "source": [],
      "metadata": {
        "id": "h7Ygrmz7UUGd"
      },
      "execution_count": null,
      "outputs": []
    },
    {
      "cell_type": "markdown",
      "source": [
        "21. Create a set of the first 5 prime numbers."
      ],
      "metadata": {
        "id": "kruOwJAHUUjK"
      }
    },
    {
      "cell_type": "code",
      "source": [
        "prime = {1}\n",
        "c=0\n",
        "for i in range(2,100):\n",
        "  for j in range(2,i):\n",
        "    if i%j==0:\n",
        "      break\n",
        "  else:\n",
        "    if c<=3:\n",
        "      prime.add(i)\n",
        "      c+=1\n",
        "prime"
      ],
      "metadata": {
        "colab": {
          "base_uri": "https://localhost:8080/"
        },
        "id": "204wyklBUXYz",
        "outputId": "1be16727-28c9-4171-8000-5f381849da80"
      },
      "execution_count": null,
      "outputs": [
        {
          "output_type": "execute_result",
          "data": {
            "text/plain": [
              "{1, 2, 3, 5, 7}"
            ]
          },
          "metadata": {},
          "execution_count": 4
        }
      ]
    },
    {
      "cell_type": "code",
      "source": [],
      "metadata": {
        "id": "pGRQFgor1o4v"
      },
      "execution_count": null,
      "outputs": []
    },
    {
      "cell_type": "markdown",
      "source": [
        "22. Check if two sets are identical."
      ],
      "metadata": {
        "id": "xWO73Rs41pNq"
      }
    },
    {
      "cell_type": "code",
      "source": [
        "A = {'a', 'b', 'c', 'd'}\n",
        "B = {'c', 'd', 'e' }\n",
        "\n",
        "print(\"Sets are identical\" if A==B else \"Sets are not identical\")"
      ],
      "metadata": {
        "id": "7uq3wfEn1qHe",
        "colab": {
          "base_uri": "https://localhost:8080/"
        },
        "outputId": "07364286-1b4f-4638-943a-9e28412566c2"
      },
      "execution_count": null,
      "outputs": [
        {
          "output_type": "stream",
          "name": "stdout",
          "text": [
            "Sets are not identical\n"
          ]
        }
      ]
    },
    {
      "cell_type": "code",
      "source": [],
      "metadata": {
        "id": "aK3pjsVEGdkn"
      },
      "execution_count": null,
      "outputs": []
    },
    {
      "cell_type": "markdown",
      "source": [
        "23. Create a frozen set."
      ],
      "metadata": {
        "id": "EHacQNaxGeAy"
      }
    },
    {
      "cell_type": "code",
      "source": [
        "animals = frozenset([\"cat\", \"dog\", \"lion\"])\n",
        "animals"
      ],
      "metadata": {
        "colab": {
          "base_uri": "https://localhost:8080/"
        },
        "id": "1H9xjlHsG4_T",
        "outputId": "9dc90656-1488-4c6b-e404-3fdf9a8e9f6d"
      },
      "execution_count": null,
      "outputs": [
        {
          "output_type": "execute_result",
          "data": {
            "text/plain": [
              "frozenset({'cat', 'dog', 'lion'})"
            ]
          },
          "metadata": {},
          "execution_count": 4
        }
      ]
    },
    {
      "cell_type": "code",
      "source": [],
      "metadata": {
        "id": "-S9SFi6AG7Wl"
      },
      "execution_count": null,
      "outputs": []
    },
    {
      "cell_type": "markdown",
      "source": [
        "24. Check if a set is disjoint with another set."
      ],
      "metadata": {
        "id": "WSPmRQfCG7wK"
      }
    },
    {
      "cell_type": "code",
      "source": [
        "A = {'a', 'b', 'c', 'd'}\n",
        "B = {'c', 'd', 'e' }\n",
        "\n",
        "print(\"True\" if A.isdisjoint(B) else \"False\")"
      ],
      "metadata": {
        "colab": {
          "base_uri": "https://localhost:8080/"
        },
        "id": "sCX0VWDzG_Me",
        "outputId": "bd6d2f17-2b9b-449b-de5b-654578e71f2c"
      },
      "execution_count": null,
      "outputs": [
        {
          "output_type": "stream",
          "name": "stdout",
          "text": [
            "False\n"
          ]
        }
      ]
    },
    {
      "cell_type": "code",
      "source": [],
      "metadata": {
        "id": "VJIKP3OmHMC0"
      },
      "execution_count": null,
      "outputs": []
    },
    {
      "cell_type": "markdown",
      "source": [
        "25. Create a set of squares of numbers from 1 to 5."
      ],
      "metadata": {
        "id": "5qYyoII7HjvQ"
      }
    },
    {
      "cell_type": "code",
      "source": [
        "A = set()\n",
        "for i in range(1,6):\n",
        "  A.add(i**2)\n",
        "\n",
        "A"
      ],
      "metadata": {
        "colab": {
          "base_uri": "https://localhost:8080/"
        },
        "id": "t-h9VH0wHkf_",
        "outputId": "29caef84-3c8d-4eac-ba59-fa753f2a7c0e"
      },
      "execution_count": null,
      "outputs": [
        {
          "output_type": "execute_result",
          "data": {
            "text/plain": [
              "{1, 4, 9, 16, 25}"
            ]
          },
          "metadata": {},
          "execution_count": 8
        }
      ]
    },
    {
      "cell_type": "code",
      "source": [],
      "metadata": {
        "id": "hv6inLpbIKXJ"
      },
      "execution_count": null,
      "outputs": []
    },
    {
      "cell_type": "markdown",
      "source": [
        "26. Filter out all even numbers from a set."
      ],
      "metadata": {
        "id": "f-x8Bwk2IKzi"
      }
    },
    {
      "cell_type": "code",
      "source": [
        "A ={1, 4, 9, 16, 25}\n",
        "\n",
        "for i in A:\n",
        "  if i%2==0:\n",
        "    print(i)\n"
      ],
      "metadata": {
        "colab": {
          "base_uri": "https://localhost:8080/"
        },
        "id": "yTZR0BLyINb-",
        "outputId": "4be6eeb2-42e1-4b99-a38a-c09a3214ac4f"
      },
      "execution_count": null,
      "outputs": [
        {
          "output_type": "stream",
          "name": "stdout",
          "text": [
            "16\n",
            "4\n"
          ]
        }
      ]
    },
    {
      "cell_type": "code",
      "source": [],
      "metadata": {
        "id": "zv7EsCYaIaxa"
      },
      "execution_count": null,
      "outputs": []
    },
    {
      "cell_type": "markdown",
      "source": [
        "27. Multiply all elements in a set by 2."
      ],
      "metadata": {
        "id": "8BsOaMxgIi2A"
      }
    },
    {
      "cell_type": "code",
      "source": [
        "A ={1, 4, 9, 16, 25}\n",
        "B=set()\n",
        "for i in A:\n",
        "  i=i*2\n",
        "  B.add(i)\n",
        "\n",
        "B"
      ],
      "metadata": {
        "colab": {
          "base_uri": "https://localhost:8080/"
        },
        "id": "hw8E3v-lIeJX",
        "outputId": "e9633c4c-fea6-4758-cd80-ad2275fb9c33"
      },
      "execution_count": null,
      "outputs": [
        {
          "output_type": "execute_result",
          "data": {
            "text/plain": [
              "{2, 8, 18, 32, 50}"
            ]
          },
          "metadata": {},
          "execution_count": 13
        }
      ]
    },
    {
      "cell_type": "code",
      "source": [],
      "metadata": {
        "id": "eLGMfcgiJGMr"
      },
      "execution_count": null,
      "outputs": []
    },
    {
      "cell_type": "markdown",
      "source": [
        "28. Create a set of random numbers."
      ],
      "metadata": {
        "id": "RomngbIkJGoS"
      }
    },
    {
      "cell_type": "code",
      "source": [
        "import random\n",
        "\n",
        "randomlist = set()\n",
        "for i in range(0,5):\n",
        "  n = random.randint(1,30000)\n",
        "  randomlist.add(n)\n",
        "print(randomlist)"
      ],
      "metadata": {
        "colab": {
          "base_uri": "https://localhost:8080/"
        },
        "id": "XQHAMCBhJHeD",
        "outputId": "01ff5ae0-6610-41f4-9d6c-2c16e882235e"
      },
      "execution_count": null,
      "outputs": [
        {
          "output_type": "stream",
          "name": "stdout",
          "text": [
            "{6720, 18308, 22005, 12151, 28377}\n"
          ]
        }
      ]
    },
    {
      "cell_type": "code",
      "source": [],
      "metadata": {
        "id": "J9HJDXwGJz8C"
      },
      "execution_count": null,
      "outputs": []
    },
    {
      "cell_type": "markdown",
      "source": [
        "29. Check if a set is empty."
      ],
      "metadata": {
        "id": "zfKydJieJ0eD"
      }
    },
    {
      "cell_type": "code",
      "source": [
        "A ={6720, 18308, 22005, 12151, 28377}\n",
        "if A == set():\n",
        "  print(\"empty set\")\n",
        "else:\n",
        "  print(\"not a empty set\")"
      ],
      "metadata": {
        "colab": {
          "base_uri": "https://localhost:8080/"
        },
        "id": "YnVsyWeqJ1g9",
        "outputId": "f36f1503-aedd-40b2-d52d-06b3906a2359"
      },
      "execution_count": null,
      "outputs": [
        {
          "output_type": "stream",
          "name": "stdout",
          "text": [
            "not a empty set\n"
          ]
        }
      ]
    },
    {
      "cell_type": "code",
      "source": [],
      "metadata": {
        "id": "-BijH51GKaLK"
      },
      "execution_count": null,
      "outputs": []
    },
    {
      "cell_type": "markdown",
      "source": [
        "30. Create a nested set (hint: use frozenset)."
      ],
      "metadata": {
        "id": "Yi6Act2-KaqE"
      }
    },
    {
      "cell_type": "code",
      "source": [
        "s = set()\n",
        "s.add(frozenset((1,2)))\n",
        "s.add(frozenset((2,3)))\n",
        "s.add(frozenset((4,5)))\n",
        "s"
      ],
      "metadata": {
        "colab": {
          "base_uri": "https://localhost:8080/"
        },
        "id": "Df9cp1AoKbjD",
        "outputId": "b524a9cc-0286-4d0f-9113-64bb0f3922f3"
      },
      "execution_count": null,
      "outputs": [
        {
          "output_type": "execute_result",
          "data": {
            "text/plain": [
              "{frozenset({4, 5}), frozenset({2, 3}), frozenset({1, 2})}"
            ]
          },
          "metadata": {},
          "execution_count": 20
        }
      ]
    },
    {
      "cell_type": "code",
      "source": [],
      "metadata": {
        "id": "LB0KhebfLBJj"
      },
      "execution_count": null,
      "outputs": []
    },
    {
      "cell_type": "markdown",
      "source": [
        "31. Remove an element from a set using the discard method."
      ],
      "metadata": {
        "id": "THVUpUknLBka"
      }
    },
    {
      "cell_type": "code",
      "source": [
        "A ={6720, 18308, 22005, 12151, 28377}\n",
        "A.discard(18308)\n",
        "A"
      ],
      "metadata": {
        "colab": {
          "base_uri": "https://localhost:8080/"
        },
        "id": "zwxom1oPLHZL",
        "outputId": "a96bed35-31ed-49ee-f4ce-79291db27938"
      },
      "execution_count": null,
      "outputs": [
        {
          "output_type": "execute_result",
          "data": {
            "text/plain": [
              "{6720, 12151, 22005, 28377}"
            ]
          },
          "metadata": {},
          "execution_count": 22
        }
      ]
    },
    {
      "cell_type": "code",
      "source": [],
      "metadata": {
        "id": "ntc5KBnVL4kG"
      },
      "execution_count": null,
      "outputs": []
    },
    {
      "cell_type": "markdown",
      "source": [
        "32. Compare two sets."
      ],
      "metadata": {
        "id": "5_2k8HZ4L4_o"
      }
    },
    {
      "cell_type": "code",
      "source": [
        "A = {6720, 18308, 22005, 12151, 28377}\n",
        "B = {6720, 12151, 22005, 28377}\n",
        "\n",
        "if A==B:\n",
        "  print(\"equal sets\")\n",
        "else:\n",
        "  print(\"not equal sets\")"
      ],
      "metadata": {
        "colab": {
          "base_uri": "https://localhost:8080/"
        },
        "id": "iLWqfw4QMFo-",
        "outputId": "500e7736-7371-4e45-b5ec-bfc34910a362"
      },
      "execution_count": null,
      "outputs": [
        {
          "output_type": "stream",
          "name": "stdout",
          "text": [
            "not equal sets\n"
          ]
        }
      ]
    },
    {
      "cell_type": "code",
      "source": [],
      "metadata": {
        "id": "8o93p-P7MSfB"
      },
      "execution_count": null,
      "outputs": []
    },
    {
      "cell_type": "markdown",
      "source": [
        "33. Create a set from a string."
      ],
      "metadata": {
        "id": "EpJWjh7wMS4e"
      }
    },
    {
      "cell_type": "code",
      "source": [
        "# create a string str\n",
        "string = \"RUSHIKESH\"\n",
        "print(\"The datatype of string : \" + str(type(string)))\n",
        "print(\"Contents of string : \" + string)\n",
        "\n",
        "# convert String to Set\n",
        "string = set(string)\n",
        "print(\"\\nAfter the conversion\")\n",
        "print(\"The datatype of string : \" + str(type(string)))\n",
        "print(\"Contents of string : \", string)"
      ],
      "metadata": {
        "colab": {
          "base_uri": "https://localhost:8080/"
        },
        "id": "FrgJBCDFM9GW",
        "outputId": "8b2c4d46-769a-4afb-d31b-ad1370ab276d"
      },
      "execution_count": null,
      "outputs": [
        {
          "output_type": "stream",
          "name": "stdout",
          "text": [
            "The datatype of string : <class 'str'>\n",
            "Contents of string : RUSHIKESH\n",
            "\n",
            "After the conversion\n",
            "The datatype of string : <class 'set'>\n",
            "Contents of string :  {'S', 'K', 'E', 'U', 'R', 'H', 'I'}\n"
          ]
        }
      ]
    },
    {
      "cell_type": "code",
      "source": [],
      "metadata": {
        "id": "Vdh3ryVuOAVL"
      },
      "execution_count": null,
      "outputs": []
    },
    {
      "cell_type": "markdown",
      "source": [
        "34. Convert a set of strings to a set of integers."
      ],
      "metadata": {
        "id": "Sgk4ZZWPOBGj"
      }
    },
    {
      "cell_type": "code",
      "source": [
        "A = { '1', '2' }\n",
        "A = set(map(int,A))\n",
        "A"
      ],
      "metadata": {
        "colab": {
          "base_uri": "https://localhost:8080/"
        },
        "id": "Du59ez5lOFwm",
        "outputId": "ef88edca-03bf-46e4-833f-7dcc801965a0"
      },
      "execution_count": null,
      "outputs": [
        {
          "output_type": "execute_result",
          "data": {
            "text/plain": [
              "{1, 2}"
            ]
          },
          "metadata": {},
          "execution_count": 37
        }
      ]
    },
    {
      "cell_type": "code",
      "source": [],
      "metadata": {
        "id": "Hjvw_vgyOfVj"
      },
      "execution_count": null,
      "outputs": []
    },
    {
      "cell_type": "markdown",
      "source": [
        "35. Convert a set of integers to a set of strings."
      ],
      "metadata": {
        "id": "s9E3MjGzP6Wl"
      }
    },
    {
      "cell_type": "code",
      "source": [
        "A = {1, 2}\n",
        "A = set(map(str,A))\n",
        "A"
      ],
      "metadata": {
        "colab": {
          "base_uri": "https://localhost:8080/"
        },
        "id": "Uf3aPAz0P9oU",
        "outputId": "4a04d542-3cfb-4cce-8c66-6ae27a843957"
      },
      "execution_count": null,
      "outputs": [
        {
          "output_type": "execute_result",
          "data": {
            "text/plain": [
              "{'1', '2'}"
            ]
          },
          "metadata": {},
          "execution_count": 38
        }
      ]
    },
    {
      "cell_type": "code",
      "source": [],
      "metadata": {
        "id": "p5zYH64DQFDO"
      },
      "execution_count": null,
      "outputs": []
    },
    {
      "cell_type": "markdown",
      "source": [
        "36. Create a set from a tuple."
      ],
      "metadata": {
        "id": "5NEmpdqrQHbb"
      }
    },
    {
      "cell_type": "code",
      "source": [
        "t = (1,2,3,4,5)\n",
        "\n",
        "s = set(t)\n",
        "s"
      ],
      "metadata": {
        "colab": {
          "base_uri": "https://localhost:8080/"
        },
        "id": "ddMvg2evQyg9",
        "outputId": "df917185-9f7d-45e6-923d-207e6bd90575"
      },
      "execution_count": null,
      "outputs": [
        {
          "output_type": "execute_result",
          "data": {
            "text/plain": [
              "{1, 2, 3, 4, 5}"
            ]
          },
          "metadata": {},
          "execution_count": 39
        }
      ]
    },
    {
      "cell_type": "code",
      "source": [],
      "metadata": {
        "id": "qyRNtraiRUEy"
      },
      "execution_count": null,
      "outputs": []
    },
    {
      "cell_type": "markdown",
      "source": [
        "37. Convert a set to a tuple."
      ],
      "metadata": {
        "id": "sazrcutCQFuW"
      }
    },
    {
      "cell_type": "code",
      "source": [
        "s = {1, 2, 3, 4, 5}\n",
        "\n",
        "t = tuple(s)\n",
        "t"
      ],
      "metadata": {
        "colab": {
          "base_uri": "https://localhost:8080/"
        },
        "id": "wwcd0KX-RXr2",
        "outputId": "4f175b65-98c7-4119-8f2f-2802211987bc"
      },
      "execution_count": null,
      "outputs": [
        {
          "output_type": "execute_result",
          "data": {
            "text/plain": [
              "(1, 2, 3, 4, 5)"
            ]
          },
          "metadata": {},
          "execution_count": 40
        }
      ]
    },
    {
      "cell_type": "code",
      "source": [],
      "metadata": {
        "id": "9X1fTyWFRltQ"
      },
      "execution_count": null,
      "outputs": []
    },
    {
      "cell_type": "markdown",
      "source": [
        "38. Find the maximum value in a set."
      ],
      "metadata": {
        "id": "-_6EN52MRmE8"
      }
    },
    {
      "cell_type": "code",
      "source": [
        "s = {1,2,3,4,1,2,2,3,24,3,4,4}\n",
        "a = max(s)\n",
        "a"
      ],
      "metadata": {
        "colab": {
          "base_uri": "https://localhost:8080/"
        },
        "id": "bt2tbSeeRpaZ",
        "outputId": "b0028697-e16a-48ad-9085-de9bd43e580c"
      },
      "execution_count": null,
      "outputs": [
        {
          "output_type": "execute_result",
          "data": {
            "text/plain": [
              "24"
            ]
          },
          "metadata": {},
          "execution_count": 42
        }
      ]
    },
    {
      "cell_type": "code",
      "source": [],
      "metadata": {
        "id": "q0zL5UwdRpLX"
      },
      "execution_count": null,
      "outputs": []
    },
    {
      "cell_type": "markdown",
      "source": [
        "39. Find the minimum value in a set."
      ],
      "metadata": {
        "id": "fG3siQ5rSAWj"
      }
    },
    {
      "cell_type": "code",
      "source": [
        "s = {1,2,3,4,1,2,2,3,24,3,4,4}\n",
        "a = min(s)\n",
        "a"
      ],
      "metadata": {
        "colab": {
          "base_uri": "https://localhost:8080/"
        },
        "id": "IgPVBHSgSC2P",
        "outputId": "324e4b32-e59f-4734-de88-e4b064358eca"
      },
      "execution_count": null,
      "outputs": [
        {
          "output_type": "execute_result",
          "data": {
            "text/plain": [
              "1"
            ]
          },
          "metadata": {},
          "execution_count": 43
        }
      ]
    },
    {
      "cell_type": "code",
      "source": [],
      "metadata": {
        "id": "pYRsYnOzWNWf"
      },
      "execution_count": null,
      "outputs": []
    },
    {
      "cell_type": "markdown",
      "source": [
        "40. Create a set from user input."
      ],
      "metadata": {
        "id": "FcU63kX7WN3P"
      }
    },
    {
      "cell_type": "code",
      "source": [
        "my_set = set(input('Enter space-separated words: ').split())\n",
        "my_set"
      ],
      "metadata": {
        "colab": {
          "base_uri": "https://localhost:8080/"
        },
        "id": "4Esl45MlWOuj",
        "outputId": "f354dd8c-152a-4a96-9b7b-b976ee57475b"
      },
      "execution_count": null,
      "outputs": [
        {
          "name": "stdout",
          "output_type": "stream",
          "text": [
            "Enter space-separated words:  12 3 54 53 rwgwgwg\n"
          ]
        },
        {
          "output_type": "execute_result",
          "data": {
            "text/plain": [
              "{'12', '3', '53', '54', 'rwgwgwg'}"
            ]
          },
          "metadata": {},
          "execution_count": 45
        }
      ]
    },
    {
      "cell_type": "code",
      "source": [],
      "metadata": {
        "id": "zIL2J8dLXzf8"
      },
      "execution_count": null,
      "outputs": []
    },
    {
      "cell_type": "markdown",
      "source": [
        "41. Check if the intersection of two sets is empty."
      ],
      "metadata": {
        "id": "UQPNsL18X0Mn"
      }
    },
    {
      "cell_type": "code",
      "source": [
        "L = {1,2,3,4,5,6}\n",
        "M = {8,9,10}\n",
        "\n",
        "a = L.intersection(M)\n",
        "print(\"Empty set\" if a==set() else \"not empty set\")"
      ],
      "metadata": {
        "colab": {
          "base_uri": "https://localhost:8080/"
        },
        "id": "obL3Lu5aYALR",
        "outputId": "6b67020d-7a87-46e2-ad13-68828946cb1e"
      },
      "execution_count": null,
      "outputs": [
        {
          "output_type": "stream",
          "name": "stdout",
          "text": [
            "Empty set\n"
          ]
        }
      ]
    },
    {
      "cell_type": "code",
      "source": [],
      "metadata": {
        "id": "8H4NgLGeYWLU"
      },
      "execution_count": null,
      "outputs": []
    },
    {
      "cell_type": "markdown",
      "source": [
        "42. Create a set of the first 5 Fibonacci numbers."
      ],
      "metadata": {
        "id": "Clw6_6ThYYmq"
      }
    },
    {
      "cell_type": "code",
      "source": [
        "st = set()\n",
        "c = 0\n",
        "a,b = 0,1\n",
        "for i in range(0,100):\n",
        "  if c == 6:\n",
        "    break\n",
        "  c+=1\n",
        "  st.add(a)\n",
        "  fb = a+b\n",
        "  a=b\n",
        "  b=fb\n",
        "\n",
        "st\n"
      ],
      "metadata": {
        "colab": {
          "base_uri": "https://localhost:8080/"
        },
        "id": "hgr-gi9yYZuN",
        "outputId": "c7fc468f-435d-44f3-93df-bf97e2f5c063"
      },
      "execution_count": null,
      "outputs": [
        {
          "output_type": "execute_result",
          "data": {
            "text/plain": [
              "{0, 1, 2, 3, 5}"
            ]
          },
          "metadata": {},
          "execution_count": 65
        }
      ]
    },
    {
      "cell_type": "code",
      "source": [],
      "metadata": {
        "id": "7RuU8iSucCvU"
      },
      "execution_count": null,
      "outputs": []
    },
    {
      "cell_type": "markdown",
      "source": [
        "43. Remove duplicates from a list using sets."
      ],
      "metadata": {
        "id": "EhV-2fUrcDLa"
      }
    },
    {
      "cell_type": "code",
      "source": [
        "st = {1,2,32,1,3,2,32}\n",
        "st"
      ],
      "metadata": {
        "colab": {
          "base_uri": "https://localhost:8080/"
        },
        "id": "Xdn5BOi5i0tF",
        "outputId": "f90e60d7-f7e9-4dc0-ad9c-0a760d2ad16b"
      },
      "execution_count": null,
      "outputs": [
        {
          "output_type": "execute_result",
          "data": {
            "text/plain": [
              "{1, 2, 3, 32}"
            ]
          },
          "metadata": {},
          "execution_count": 66
        }
      ]
    },
    {
      "cell_type": "code",
      "source": [],
      "metadata": {
        "id": "-zMDDUj1i69E"
      },
      "execution_count": null,
      "outputs": []
    },
    {
      "cell_type": "markdown",
      "source": [
        "44. Check if two sets have the same elements, regardless of their count."
      ],
      "metadata": {
        "id": "l28v_zC2i7uw"
      }
    },
    {
      "cell_type": "code",
      "source": [
        "st = {1,2,45,1,3,2,32}\n",
        "s ={1, 2, 3, 32}\n",
        "\n",
        "if st == s:\n",
        "  print(\"two sets have same elements\")\n",
        "else:\n",
        "  print(\"two sets don't have same elements\")\n"
      ],
      "metadata": {
        "id": "xTT1d6spjRwG",
        "colab": {
          "base_uri": "https://localhost:8080/"
        },
        "outputId": "f43040d6-7933-4af9-9252-a0b1635354a2"
      },
      "execution_count": 68,
      "outputs": [
        {
          "output_type": "stream",
          "name": "stdout",
          "text": [
            "two sets don't have same elements\n"
          ]
        }
      ]
    },
    {
      "cell_type": "code",
      "source": [],
      "metadata": {
        "id": "V7IpgRR23X-i"
      },
      "execution_count": null,
      "outputs": []
    },
    {
      "cell_type": "markdown",
      "source": [
        "45. Create a set of the first `n` powers of 2."
      ],
      "metadata": {
        "id": "jhNNnRcb3YSN"
      }
    },
    {
      "cell_type": "code",
      "source": [
        "x = set()\n",
        "n=10\n",
        "for i in range(1,n+1):\n",
        "  x.add(2**i)\n",
        "print(x)\n"
      ],
      "metadata": {
        "colab": {
          "base_uri": "https://localhost:8080/"
        },
        "id": "RPF_BWP23acw",
        "outputId": "4ac0d41a-02e9-4c6d-ffac-5bf451112251"
      },
      "execution_count": 85,
      "outputs": [
        {
          "output_type": "stream",
          "name": "stdout",
          "text": [
            "{32, 64, 2, 128, 4, 256, 512, 1024, 8, 16}\n"
          ]
        }
      ]
    },
    {
      "cell_type": "code",
      "source": [],
      "metadata": {
        "id": "cPA252AZ5bGk"
      },
      "execution_count": null,
      "outputs": []
    },
    {
      "cell_type": "markdown",
      "source": [
        "46. Find the common elements between a set and a list."
      ],
      "metadata": {
        "id": "m-JtCJs05bcJ"
      }
    },
    {
      "cell_type": "code",
      "source": [
        "st2 = {32, 64, 2, 128, 4, 256, 512, 1024, 8, 16}\n",
        "lt2 = [1,4,2,32,256,1024]\n",
        "\n",
        "cmmn = st2.intersection(lt2)\n",
        "cmmn\n"
      ],
      "metadata": {
        "colab": {
          "base_uri": "https://localhost:8080/"
        },
        "id": "Esr55ygL5f-_",
        "outputId": "512d262b-8807-4e3f-a1b5-5c830ef49809"
      },
      "execution_count": 87,
      "outputs": [
        {
          "output_type": "execute_result",
          "data": {
            "text/plain": [
              "{2, 4, 32, 256, 1024}"
            ]
          },
          "metadata": {},
          "execution_count": 87
        }
      ]
    },
    {
      "cell_type": "code",
      "source": [
        "136\n",
        " 23\n",
        ""
      ],
      "metadata": {
        "id": "bieJU_g65-s_"
      },
      "execution_count": null,
      "outputs": []
    },
    {
      "cell_type": "markdown",
      "source": [
        "47. Create a set of the first `n` triangular numbers."
      ],
      "metadata": {
        "id": "VhBUdhgo5_Gj"
      }
    },
    {
      "cell_type": "code",
      "source": [
        "trng = set()\n",
        "\n",
        "n=8\n",
        "a=0\n",
        "for i in range(1,n+1):\n",
        "  a=a+i\n",
        "  trng.add(a)\n",
        "\n",
        "trng\n",
        "\n",
        "\n"
      ],
      "metadata": {
        "colab": {
          "base_uri": "https://localhost:8080/"
        },
        "id": "IDfZy1ae6C3t",
        "outputId": "0b1abd34-a298-47b9-ebe0-095f04f3c53f"
      },
      "execution_count": 88,
      "outputs": [
        {
          "output_type": "execute_result",
          "data": {
            "text/plain": [
              "{1, 3, 6, 10, 15, 21, 28, 36}"
            ]
          },
          "metadata": {},
          "execution_count": 88
        }
      ]
    },
    {
      "cell_type": "code",
      "source": [],
      "metadata": {
        "id": "JqsNuCJs7Ka0"
      },
      "execution_count": null,
      "outputs": []
    },
    {
      "cell_type": "markdown",
      "source": [
        "48. Check if a set contains another set as a subset."
      ],
      "metadata": {
        "id": "CnIwHMIR7KzQ"
      }
    },
    {
      "cell_type": "code",
      "source": [
        " A = {1, 6,2, 10, 15, 21,17, 28, 36}\n",
        "B = {2,10,15,36}\n",
        "\n",
        "print(\"True\" if B.issubset(A) else \"False\")"
      ],
      "metadata": {
        "colab": {
          "base_uri": "https://localhost:8080/"
        },
        "id": "QHJdT1lf7OiJ",
        "outputId": "cb291457-976c-4a47-97bd-884dd6079379"
      },
      "execution_count": 10,
      "outputs": [
        {
          "output_type": "stream",
          "name": "stdout",
          "text": [
            "True\n"
          ]
        }
      ]
    },
    {
      "cell_type": "code",
      "source": [],
      "metadata": {
        "id": "yXjIZsoNL9Xt"
      },
      "execution_count": null,
      "outputs": []
    },
    {
      "cell_type": "markdown",
      "source": [
        "49. Create a set of alternating 1s and 0s of length `n`."
      ],
      "metadata": {
        "id": "ZOjh8Dx8L-KR"
      }
    },
    {
      "cell_type": "code",
      "source": [
        "abc = set()\n",
        "n=20\n",
        "for i in range(1,n+1):\n",
        "  if i%2==0:\n",
        "    abc.add(1)\n",
        "    continue\n",
        "  else:\n",
        "    abc.add(0)\n",
        "\n",
        "abc\n",
        "\n",
        "# as sets can't have duplicate entries, in output we can see only 1 and 0."
      ],
      "metadata": {
        "colab": {
          "base_uri": "https://localhost:8080/"
        },
        "id": "Te8ewPVhL_MV",
        "outputId": "f4d26156-a54e-44af-d1fb-b2d0fd7b1b9c"
      },
      "execution_count": 19,
      "outputs": [
        {
          "output_type": "execute_result",
          "data": {
            "text/plain": [
              "{0, 1}"
            ]
          },
          "metadata": {},
          "execution_count": 19
        }
      ]
    },
    {
      "cell_type": "code",
      "source": [],
      "metadata": {
        "id": "k34GjKR7Np7o"
      },
      "execution_count": null,
      "outputs": []
    },
    {
      "cell_type": "markdown",
      "source": [
        "50. Merge multiple sets into one."
      ],
      "metadata": {
        "id": "L0tFhPq3NsCz"
      }
    },
    {
      "cell_type": "code",
      "source": [
        "s1 = {1, 3, 6, 10, 15, 21, 28, 36}\n",
        "s2 ={1,7,2,5,2,4}\n",
        "s3 = {234,34525,2345,34,5,345}\n",
        "\n",
        "s1 = s1.union(s2,s3)\n",
        "s1"
      ],
      "metadata": {
        "colab": {
          "base_uri": "https://localhost:8080/"
        },
        "id": "IB6wq8-sNu4C",
        "outputId": "48942161-4864-4154-f15a-93afdcef816e"
      },
      "execution_count": 25,
      "outputs": [
        {
          "output_type": "execute_result",
          "data": {
            "text/plain": [
              "{1, 2, 3, 4, 5, 6, 7, 10, 15, 21, 28, 34, 36, 234, 345, 2345, 34525}"
            ]
          },
          "metadata": {},
          "execution_count": 25
        }
      ]
    }
  ]
}